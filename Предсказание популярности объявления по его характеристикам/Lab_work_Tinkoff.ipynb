{
  "cells": [
    {
      "cell_type": "markdown",
      "source": [
        "**Лабораторная работа**\n",
        "\n",
        "**Описание задания**\n",
        "\n",
        "Лабораторная работа выполняется Вами в течение семестра. Для удобства задание разбито на несколько логических частей, соответствующих изучаемым в рамках курса темам. Не стоит откладывать выполнение этого задания на самый конец курса.\n",
        "\n",
        "Каждая из частей лабораторной работы подразумевает проведение исследования, экспериментов или подведение выводов по ним на основе датасета: https://drive.google.com/file/d/1fABzTyH2tlMYjJyDOAnwkH0HkWAG27_L/view?usp=sharing\n",
        "\n",
        "**Легенда**\n",
        "\n",
        "Вы - успешный специалист в области datascience и вас наняла риэлторская компания, размещающая объявления о продаже/аренде домов на популярном сайте для объявлений vatio.org. Вам требуется обучить модель, которая сможет предсказать популярность объявления - исходя из этих предсказаний аналитики риэлторской компании будут редактировать описания объявлений, выставляемых на этой платформе.\n",
        "\n",
        "**Из чего состоит задание?**\n",
        "Всего в лабораторной работе 5 частей:\n",
        "\n",
        "* **EDA**- необходимо исследовать данные в предлагаемом Вам датасете. К исследованию данных относится анализ распределения значений в признаках, проверка скоррелированности признаков и т.д.\n",
        "* **Feature engineering** - необходимо заполнить пропуски в данных, обработать категориальные признаки и т.д.\n",
        "* **Выбор целевой метрики** - необходимо выбрать метрику качества, которую вы будете оптимизировать. Для выбранной метрики необходимо написать пояснение. В этом задании нет единственного правильного ответа, однако за откровенно неадекватный выбор или слабую аргументацию будут снижаться баллы.\n",
        "* **Проведение экспериментов** - необходимо попробовать разные модели, изученные в рамках курса и оптимизировать ими выбранную вами целевую метрику. Решение, состоящее только из grid-search по гиперпараметрам Catboost, получает 0 баллов.\n",
        "* **Анализ ошибок модели** - необходимо взять несколько примеров из тестовой части датасета, на которых модель дала неправильный ответ, и попытаться проанализировать их, найти закономерности, полученные выводы проверить на других примерах.\n",
        "\n",
        "**Требования к заданиям**\n",
        "\n",
        "**Сдача задания**\n",
        "\n",
        "Лабораторная работа должна быть оформлена в виде Jupyter-ноутбука. Допускается сдача ноутбука в виде ссылки на Google Colab, но в этом случае проверьте наличие доступа. В случае, если ноутбук по ссылке недоступен или удален, работа получает 0 баллов. Вместе с Jupyter-ноутбуком приложите pdf-файл, полученный из ноутбука. (https://stackoverflow.com/questions/15998491/how-to-convert-ipython-notebooks-to-pdf-and-html)\n",
        "\n",
        "**Оформление задания**\n",
        "\n",
        "Выводы по каждому блоку должны быть оформлены при помощи Markdown-ячеек либо содержать понятные (интерпретируемые) графики. Оси на графиках должны быть подписаны либо ячейка, предшествующая графику, должна содержать пояснение. Решения, содержащие графики без подписей/пояснений, output'ы ячеек с кодом более чем на 50% экрана и прочие непотребства, не будут оценены на максимальный балл. Также перед сдачей необходимо очистить output'ы ячеек с логами обучения, также очистить выходные данные ячеек, выполняющих чтение/загрузку файлов и подобное.\n",
        "\n",
        "**Использование иного контента**\n",
        "\n",
        "Мемы при оформлении работы использовать можно, но в меру. Несодержательная работа, состоящая только из мемов, получает 0 баллов.\n",
        "\n",
        "**Оценка лабораторной работы**\n",
        "\n",
        "Оценка за каждый блок лабораторной работы выставляется независимо. Каждый блок оценивается от 0 до 5 баллов. Выполнение лабораторной работы является необходимым (но не достаточным) условием прохождения курса, т.к. в сущности подводит итог по всему изученному материалу."
      ],
      "metadata": {
        "id": "zglCIChV5Zql"
      }
    },
    {
      "cell_type": "code",
      "execution_count": 1,
      "metadata": {
        "id": "m-n5nlJBQjH8"
      },
      "outputs": [],
      "source": [
        "import pandas as pd\n",
        "import numpy as np\n",
        "from matplotlib import pyplot as plt\n",
        "import plotly.express as px\n",
        "import plotly.express as px\n",
        "import seaborn as sns"
      ]
    },
    {
      "cell_type": "code",
      "execution_count": 2,
      "metadata": {
        "colab": {
          "base_uri": "https://localhost:8080/"
        },
        "id": "dUhUymkSSv0M",
        "outputId": "40947755-962a-432c-b4db-331ac0400583"
      },
      "outputs": [
        {
          "output_type": "stream",
          "name": "stdout",
          "text": [
            "Downloading...\n",
            "From: https://drive.google.com/uc?id=1fABzTyH2tlMYjJyDOAnwkH0HkWAG27_L\n",
            "To: /content/data.csv\n",
            "100% 44.4M/44.4M [00:00<00:00, 104MB/s]\n"
          ]
        }
      ],
      "source": [
        "!gdown 1fABzTyH2tlMYjJyDOAnwkH0HkWAG27_L -O data.csv"
      ]
    },
    {
      "cell_type": "markdown",
      "metadata": {
        "id": "ecv84OeRR1Wd"
      },
      "source": [
        "# **Этап 1: EDA**"
      ]
    },
    {
      "cell_type": "code",
      "execution_count": 3,
      "metadata": {
        "colab": {
          "base_uri": "https://localhost:8080/",
          "height": 424
        },
        "id": "P0De9meoS4XD",
        "outputId": "17104223-539d-4877-9994-f12bb2f0516a"
      },
      "outputs": [
        {
          "output_type": "execute_result",
          "data": {
            "text/plain": [
              "      Id  bathrooms  bedrooms                       building_id  \\\n",
              "0  57094        1.0         3                                 0   \n",
              "1  33389        1.0         1  9225efdfb57a50bf3ec17ebab082f94a   \n",
              "2  60458        1.0         0  320de7d3cc88e50a7fbbcfde1e825d21   \n",
              "3  53048        1.0         2  ce6d18bf3238e668b2bf23f4110b7b67   \n",
              "4    592        1.0         3  fee4d465932160318364d9d48d272879   \n",
              "\n",
              "               created                                        description  \\\n",
              "0  2016-05-19 18:06:27  A FABULOUS 3BR IN MIDTOWN WEST!   PERFECT APAR...   \n",
              "1  2016-06-16 02:01:49                    Renovated Kitchen and Bathroom!   \n",
              "2  2016-05-04 02:42:50  RARE AND BEST DEAL ON THE MARKET!!!! PERFECT S...   \n",
              "3  2016-05-12 05:57:56  Newly renovated flex 2 apartment offers the ne...   \n",
              "4  2016-06-16 06:06:15  LOW FEE apartments do not come around like thi...   \n",
              "\n",
              "                                     display_address  \\\n",
              "0  HOW AMAZING IS THIS MIDTOWN WEST STEAL!! NO FE...   \n",
              "1                               55 River Drive South   \n",
              "2                                        W 77 Street   \n",
              "3                                        John Street   \n",
              "4                                   West 16th Street   \n",
              "\n",
              "                                            features  latitude  listing_id  \\\n",
              "0          ['Laundry In Unit', 'No Fee', 'Elevator']   40.7647     7039994   \n",
              "1         ['Dogs Allowed', 'Cats Allowed', 'No Fee']   40.7275     7166774   \n",
              "2                    ['Elevator', 'Hardwood Floors']   40.7798     6962716   \n",
              "3  ['Swimming Pool', 'Doorman', 'Elevator', 'Fitn...   40.7081     7002458   \n",
              "4  ['Laundry in Building', 'Laundry in Unit', 'Di...   40.7416     7170465   \n",
              "\n",
              "   longitude                        manager_id  \\\n",
              "0   -73.9918  4bdc3d8c1aaa90d997ce2cb77680679b   \n",
              "1   -74.0322  e5808a5e6cc13988fe596704428d38d5   \n",
              "2   -73.9751  d69d4e111612dd12ef864031c1148543   \n",
              "3   -74.0065  e6472c7237327dd3903b3d6f6a94515a   \n",
              "4   -74.0025  6fba9b3a8327c607b8b043716efee684   \n",
              "\n",
              "                                              photos  price  \\\n",
              "0  ['https://photos.renthop.com/2/7039994_07be01b...   4495   \n",
              "1  ['https://photos.renthop.com/2/7166774_03cf63a...   2570   \n",
              "2  ['https://photos.renthop.com/2/6962716_ec7f56f...   1795   \n",
              "3  ['https://photos.renthop.com/2/7002458_93f4010...   3400   \n",
              "4  ['https://photos.renthop.com/2/7170465_9c3f173...   5695   \n",
              "\n",
              "         street_address  TARGET  \n",
              "0         W 50 & AVE 10  medium  \n",
              "1  55 River Drive South  medium  \n",
              "2        22 W 77 Street     low  \n",
              "3       100 John Street     low  \n",
              "4  321 West 16th Street     low  "
            ],
            "text/html": [
              "\n",
              "  <div id=\"df-8aaed4ab-0a16-4969-8474-20b953ad72eb\">\n",
              "    <div class=\"colab-df-container\">\n",
              "      <div>\n",
              "<style scoped>\n",
              "    .dataframe tbody tr th:only-of-type {\n",
              "        vertical-align: middle;\n",
              "    }\n",
              "\n",
              "    .dataframe tbody tr th {\n",
              "        vertical-align: top;\n",
              "    }\n",
              "\n",
              "    .dataframe thead th {\n",
              "        text-align: right;\n",
              "    }\n",
              "</style>\n",
              "<table border=\"1\" class=\"dataframe\">\n",
              "  <thead>\n",
              "    <tr style=\"text-align: right;\">\n",
              "      <th></th>\n",
              "      <th>Id</th>\n",
              "      <th>bathrooms</th>\n",
              "      <th>bedrooms</th>\n",
              "      <th>building_id</th>\n",
              "      <th>created</th>\n",
              "      <th>description</th>\n",
              "      <th>display_address</th>\n",
              "      <th>features</th>\n",
              "      <th>latitude</th>\n",
              "      <th>listing_id</th>\n",
              "      <th>longitude</th>\n",
              "      <th>manager_id</th>\n",
              "      <th>photos</th>\n",
              "      <th>price</th>\n",
              "      <th>street_address</th>\n",
              "      <th>TARGET</th>\n",
              "    </tr>\n",
              "  </thead>\n",
              "  <tbody>\n",
              "    <tr>\n",
              "      <th>0</th>\n",
              "      <td>57094</td>\n",
              "      <td>1.0</td>\n",
              "      <td>3</td>\n",
              "      <td>0</td>\n",
              "      <td>2016-05-19 18:06:27</td>\n",
              "      <td>A FABULOUS 3BR IN MIDTOWN WEST!   PERFECT APAR...</td>\n",
              "      <td>HOW AMAZING IS THIS MIDTOWN WEST STEAL!! NO FE...</td>\n",
              "      <td>['Laundry In Unit', 'No Fee', 'Elevator']</td>\n",
              "      <td>40.7647</td>\n",
              "      <td>7039994</td>\n",
              "      <td>-73.9918</td>\n",
              "      <td>4bdc3d8c1aaa90d997ce2cb77680679b</td>\n",
              "      <td>['https://photos.renthop.com/2/7039994_07be01b...</td>\n",
              "      <td>4495</td>\n",
              "      <td>W 50 &amp; AVE 10</td>\n",
              "      <td>medium</td>\n",
              "    </tr>\n",
              "    <tr>\n",
              "      <th>1</th>\n",
              "      <td>33389</td>\n",
              "      <td>1.0</td>\n",
              "      <td>1</td>\n",
              "      <td>9225efdfb57a50bf3ec17ebab082f94a</td>\n",
              "      <td>2016-06-16 02:01:49</td>\n",
              "      <td>Renovated Kitchen and Bathroom!</td>\n",
              "      <td>55 River Drive South</td>\n",
              "      <td>['Dogs Allowed', 'Cats Allowed', 'No Fee']</td>\n",
              "      <td>40.7275</td>\n",
              "      <td>7166774</td>\n",
              "      <td>-74.0322</td>\n",
              "      <td>e5808a5e6cc13988fe596704428d38d5</td>\n",
              "      <td>['https://photos.renthop.com/2/7166774_03cf63a...</td>\n",
              "      <td>2570</td>\n",
              "      <td>55 River Drive South</td>\n",
              "      <td>medium</td>\n",
              "    </tr>\n",
              "    <tr>\n",
              "      <th>2</th>\n",
              "      <td>60458</td>\n",
              "      <td>1.0</td>\n",
              "      <td>0</td>\n",
              "      <td>320de7d3cc88e50a7fbbcfde1e825d21</td>\n",
              "      <td>2016-05-04 02:42:50</td>\n",
              "      <td>RARE AND BEST DEAL ON THE MARKET!!!! PERFECT S...</td>\n",
              "      <td>W 77 Street</td>\n",
              "      <td>['Elevator', 'Hardwood Floors']</td>\n",
              "      <td>40.7798</td>\n",
              "      <td>6962716</td>\n",
              "      <td>-73.9751</td>\n",
              "      <td>d69d4e111612dd12ef864031c1148543</td>\n",
              "      <td>['https://photos.renthop.com/2/6962716_ec7f56f...</td>\n",
              "      <td>1795</td>\n",
              "      <td>22 W 77 Street</td>\n",
              "      <td>low</td>\n",
              "    </tr>\n",
              "    <tr>\n",
              "      <th>3</th>\n",
              "      <td>53048</td>\n",
              "      <td>1.0</td>\n",
              "      <td>2</td>\n",
              "      <td>ce6d18bf3238e668b2bf23f4110b7b67</td>\n",
              "      <td>2016-05-12 05:57:56</td>\n",
              "      <td>Newly renovated flex 2 apartment offers the ne...</td>\n",
              "      <td>John Street</td>\n",
              "      <td>['Swimming Pool', 'Doorman', 'Elevator', 'Fitn...</td>\n",
              "      <td>40.7081</td>\n",
              "      <td>7002458</td>\n",
              "      <td>-74.0065</td>\n",
              "      <td>e6472c7237327dd3903b3d6f6a94515a</td>\n",
              "      <td>['https://photos.renthop.com/2/7002458_93f4010...</td>\n",
              "      <td>3400</td>\n",
              "      <td>100 John Street</td>\n",
              "      <td>low</td>\n",
              "    </tr>\n",
              "    <tr>\n",
              "      <th>4</th>\n",
              "      <td>592</td>\n",
              "      <td>1.0</td>\n",
              "      <td>3</td>\n",
              "      <td>fee4d465932160318364d9d48d272879</td>\n",
              "      <td>2016-06-16 06:06:15</td>\n",
              "      <td>LOW FEE apartments do not come around like thi...</td>\n",
              "      <td>West 16th Street</td>\n",
              "      <td>['Laundry in Building', 'Laundry in Unit', 'Di...</td>\n",
              "      <td>40.7416</td>\n",
              "      <td>7170465</td>\n",
              "      <td>-74.0025</td>\n",
              "      <td>6fba9b3a8327c607b8b043716efee684</td>\n",
              "      <td>['https://photos.renthop.com/2/7170465_9c3f173...</td>\n",
              "      <td>5695</td>\n",
              "      <td>321 West 16th Street</td>\n",
              "      <td>low</td>\n",
              "    </tr>\n",
              "  </tbody>\n",
              "</table>\n",
              "</div>\n",
              "      <button class=\"colab-df-convert\" onclick=\"convertToInteractive('df-8aaed4ab-0a16-4969-8474-20b953ad72eb')\"\n",
              "              title=\"Convert this dataframe to an interactive table.\"\n",
              "              style=\"display:none;\">\n",
              "        \n",
              "  <svg xmlns=\"http://www.w3.org/2000/svg\" height=\"24px\"viewBox=\"0 0 24 24\"\n",
              "       width=\"24px\">\n",
              "    <path d=\"M0 0h24v24H0V0z\" fill=\"none\"/>\n",
              "    <path d=\"M18.56 5.44l.94 2.06.94-2.06 2.06-.94-2.06-.94-.94-2.06-.94 2.06-2.06.94zm-11 1L8.5 8.5l.94-2.06 2.06-.94-2.06-.94L8.5 2.5l-.94 2.06-2.06.94zm10 10l.94 2.06.94-2.06 2.06-.94-2.06-.94-.94-2.06-.94 2.06-2.06.94z\"/><path d=\"M17.41 7.96l-1.37-1.37c-.4-.4-.92-.59-1.43-.59-.52 0-1.04.2-1.43.59L10.3 9.45l-7.72 7.72c-.78.78-.78 2.05 0 2.83L4 21.41c.39.39.9.59 1.41.59.51 0 1.02-.2 1.41-.59l7.78-7.78 2.81-2.81c.8-.78.8-2.07 0-2.86zM5.41 20L4 18.59l7.72-7.72 1.47 1.35L5.41 20z\"/>\n",
              "  </svg>\n",
              "      </button>\n",
              "      \n",
              "  <style>\n",
              "    .colab-df-container {\n",
              "      display:flex;\n",
              "      flex-wrap:wrap;\n",
              "      gap: 12px;\n",
              "    }\n",
              "\n",
              "    .colab-df-convert {\n",
              "      background-color: #E8F0FE;\n",
              "      border: none;\n",
              "      border-radius: 50%;\n",
              "      cursor: pointer;\n",
              "      display: none;\n",
              "      fill: #1967D2;\n",
              "      height: 32px;\n",
              "      padding: 0 0 0 0;\n",
              "      width: 32px;\n",
              "    }\n",
              "\n",
              "    .colab-df-convert:hover {\n",
              "      background-color: #E2EBFA;\n",
              "      box-shadow: 0px 1px 2px rgba(60, 64, 67, 0.3), 0px 1px 3px 1px rgba(60, 64, 67, 0.15);\n",
              "      fill: #174EA6;\n",
              "    }\n",
              "\n",
              "    [theme=dark] .colab-df-convert {\n",
              "      background-color: #3B4455;\n",
              "      fill: #D2E3FC;\n",
              "    }\n",
              "\n",
              "    [theme=dark] .colab-df-convert:hover {\n",
              "      background-color: #434B5C;\n",
              "      box-shadow: 0px 1px 3px 1px rgba(0, 0, 0, 0.15);\n",
              "      filter: drop-shadow(0px 1px 2px rgba(0, 0, 0, 0.3));\n",
              "      fill: #FFFFFF;\n",
              "    }\n",
              "  </style>\n",
              "\n",
              "      <script>\n",
              "        const buttonEl =\n",
              "          document.querySelector('#df-8aaed4ab-0a16-4969-8474-20b953ad72eb button.colab-df-convert');\n",
              "        buttonEl.style.display =\n",
              "          google.colab.kernel.accessAllowed ? 'block' : 'none';\n",
              "\n",
              "        async function convertToInteractive(key) {\n",
              "          const element = document.querySelector('#df-8aaed4ab-0a16-4969-8474-20b953ad72eb');\n",
              "          const dataTable =\n",
              "            await google.colab.kernel.invokeFunction('convertToInteractive',\n",
              "                                                     [key], {});\n",
              "          if (!dataTable) return;\n",
              "\n",
              "          const docLinkHtml = 'Like what you see? Visit the ' +\n",
              "            '<a target=\"_blank\" href=https://colab.research.google.com/notebooks/data_table.ipynb>data table notebook</a>'\n",
              "            + ' to learn more about interactive tables.';\n",
              "          element.innerHTML = '';\n",
              "          dataTable['output_type'] = 'display_data';\n",
              "          await google.colab.output.renderOutput(dataTable, element);\n",
              "          const docLink = document.createElement('div');\n",
              "          docLink.innerHTML = docLinkHtml;\n",
              "          element.appendChild(docLink);\n",
              "        }\n",
              "      </script>\n",
              "    </div>\n",
              "  </div>\n",
              "  "
            ]
          },
          "metadata": {},
          "execution_count": 3
        }
      ],
      "source": [
        "df = pd.read_csv('data.csv')\n",
        "df.head()"
      ]
    },
    {
      "cell_type": "code",
      "execution_count": 4,
      "metadata": {
        "colab": {
          "base_uri": "https://localhost:8080/"
        },
        "id": "LHgYQWY2TWn7",
        "outputId": "6fab08ec-4503-46f2-c593-a3c6e202bd22"
      },
      "outputs": [
        {
          "output_type": "stream",
          "name": "stdout",
          "text": [
            "<class 'pandas.core.frame.DataFrame'>\n",
            "RangeIndex: 34546 entries, 0 to 34545\n",
            "Data columns (total 16 columns):\n",
            " #   Column           Non-Null Count  Dtype  \n",
            "---  ------           --------------  -----  \n",
            " 0   Id               34546 non-null  int64  \n",
            " 1   bathrooms        34546 non-null  float64\n",
            " 2   bedrooms         34546 non-null  int64  \n",
            " 3   building_id      34546 non-null  object \n",
            " 4   created          34546 non-null  object \n",
            " 5   description      33509 non-null  object \n",
            " 6   display_address  34458 non-null  object \n",
            " 7   features         34546 non-null  object \n",
            " 8   latitude         34546 non-null  float64\n",
            " 9   listing_id       34546 non-null  int64  \n",
            " 10  longitude        34546 non-null  float64\n",
            " 11  manager_id       34546 non-null  object \n",
            " 12  photos           34546 non-null  object \n",
            " 13  price            34546 non-null  int64  \n",
            " 14  street_address   34542 non-null  object \n",
            " 15  TARGET           34546 non-null  object \n",
            "dtypes: float64(3), int64(4), object(9)\n",
            "memory usage: 4.2+ MB\n"
          ]
        }
      ],
      "source": [
        "df.info()"
      ]
    },
    {
      "cell_type": "markdown",
      "metadata": {
        "id": "Ws63e3UCULVy"
      },
      "source": [
        "Проведем первый взгляд на нашу таблицу с популярностью объявлений в домах, как видим присутсвуют 16 столбцов:\n",
        "1.   Id \n",
        "2.   Количество ванных комнат\n",
        "3. Количество спален\t\n",
        "4. Идентификатор здания\t\n",
        "5. Дата и время создания объявления\t\n",
        "6. Описание\t\n",
        "7. Адрес здания\n",
        "8. Характеристики\t\n",
        "9. Широта\t\n",
        "10. Listing id\n",
        "11. Долгота \n",
        "12. Идентификатор менеджера\t\n",
        "13. Фотографии \n",
        "14. Цена\t\n",
        "15. Адрес улицы\t\n",
        "16. Таргет\n",
        "\n",
        "Видим, что из 16 столбцов 7 являются числовыми, остальные содержат текст и др.\n",
        "\n",
        "Посмотрим сколько пропусков в датасете."
      ]
    },
    {
      "cell_type": "code",
      "execution_count": 5,
      "metadata": {
        "colab": {
          "base_uri": "https://localhost:8080/"
        },
        "id": "_rAqu4ISW7Gq",
        "outputId": "e6f85c03-f59c-4413-e3a9-36a80053bf4a"
      },
      "outputs": [
        {
          "output_type": "stream",
          "name": "stdout",
          "text": [
            "Столбцы с наличием пропусков:\n"
          ]
        },
        {
          "output_type": "execute_result",
          "data": {
            "text/plain": [
              "description        1037\n",
              "display_address      88\n",
              "street_address        4\n",
              "dtype: int64"
            ]
          },
          "metadata": {},
          "execution_count": 5
        }
      ],
      "source": [
        "print('Столбцы с наличием пропусков:')\n",
        "df.isna().sum()[df.isna().sum() > 0]"
      ]
    },
    {
      "cell_type": "markdown",
      "metadata": {
        "id": "jB0pSe5iX-P5"
      },
      "source": [
        "Видим, что присутсвует всего 3 столбца с пропусками, поскольку description представляет собой большое описание объявления, мы впоследствии удалим этот столбец из-за сложности работы с ним, адрес здания коррелирует с частотой и долготой, как и адрес улицы, что мы прооверим в последствии, поэтому предположительно все 3 столбца будут удалены.  \n",
        "\n",
        "Первоначально рассмотрим как распределен target."
      ]
    },
    {
      "cell_type": "code",
      "execution_count": 6,
      "metadata": {
        "colab": {
          "base_uri": "https://localhost:8080/"
        },
        "id": "dpwc-FpgbsZS",
        "outputId": "a5a539ab-f741-4014-b363-0b1e52d82506"
      },
      "outputs": [
        {
          "output_type": "execute_result",
          "data": {
            "text/plain": [
              "low       69.469693\n",
              "medium    22.752272\n",
              "high       7.778035\n",
              "Name: TARGET, dtype: float64"
            ]
          },
          "metadata": {},
          "execution_count": 6
        }
      ],
      "source": [
        "df['TARGET'].value_counts()/len(df)*100"
      ]
    },
    {
      "cell_type": "code",
      "execution_count": 7,
      "metadata": {
        "colab": {
          "base_uri": "https://localhost:8080/",
          "height": 444
        },
        "id": "cZz8rR90X235",
        "outputId": "410ba9ce-2423-4c1f-e759-c6d93135ae49"
      },
      "outputs": [
        {
          "output_type": "display_data",
          "data": {
            "text/plain": [
              "<Figure size 1080x504 with 1 Axes>"
            ],
            "image/png": "[encoded data removed]"
          },
          "metadata": {
            "needs_background": "light"
          }
        }
      ],
      "source": [
        "fig, ax = plt.subplots(figsize=(15, 7))\n",
        "ax.bar(x = df['TARGET'].value_counts().index, height = df['TARGET'].value_counts())\n",
        "ax.set_title('Распределение переменной таргет')\n",
        "plt.show()"
      ]
    },
    {
      "cell_type": "markdown",
      "metadata": {
        "id": "oleEG8q7bui4"
      },
      "source": [
        "Видим, что в таргете большую часть занимают слабо просматриваемые объявления(69,5%), high всего (8%) от всего количества данных.\n",
        "\n",
        "Посмотрим на корелляцию между признаками, с помощью heatmap. "
      ]
    },
    {
      "cell_type": "code",
      "execution_count": 8,
      "metadata": {
        "colab": {
          "base_uri": "https://localhost:8080/",
          "height": 444
        },
        "id": "UakI89nHcOc_",
        "outputId": "7036403e-06a3-4e0b-f9a9-00b00921ddb6"
      },
      "outputs": [
        {
          "output_type": "display_data",
          "data": {
            "text/plain": [
              "<Figure size 1080x504 with 2 Axes>"
            ],
            "image/png": "[encoded data removed]"
          },
          "metadata": {
            "needs_background": "light"
          }
        }
      ],
      "source": [
        "plt.figure(figsize=(15, 7))\n",
        "sns.heatmap(df.drop(columns = ['Id', 'listing_id']).corr(), annot = True, vmin=-1, vmax=1, center= 0, cmap= 'coolwarm', linewidths=3, linecolor='black', fmt='.2g').set_title('Матрица корелляции числовых признаков')\n",
        "plt.show()"
      ]
    },
    {
      "cell_type": "markdown",
      "metadata": {
        "id": "hStU6GOufhkW"
      },
      "source": [
        "Видим, что присутствует корелляция между количеством спальн и ванных комнат, а также незначительная, но при этом сравнительно больше остальных, корелляция между ценой и количеством спальн и ванных комнат\n",
        "\n",
        "Далее рассмотрим какое распределение имеет столбец с ценой."
      ]
    },
    {
      "cell_type": "code",
      "execution_count": 9,
      "metadata": {
        "colab": {
          "base_uri": "https://localhost:8080/"
        },
        "id": "l5V16XLshjYk",
        "outputId": "3acb23e2-5cc1-4fe5-e5eb-330f36f51c5e"
      },
      "outputs": [
        {
          "output_type": "execute_result",
          "data": {
            "text/plain": [
              "1047     4490000\n",
              "24879    1150000\n",
              "7052     1070000\n",
              "13105    1070000\n",
              "27815     100000\n",
              "24422      90000\n",
              "2516       58020\n",
              "21021      53100\n",
              "3200       50614\n",
              "15278      50550\n",
              "Name: price, dtype: int64"
            ]
          },
          "metadata": {},
          "execution_count": 9
        }
      ],
      "source": [
        "df['price'].sort_values(ascending=False)[:10]"
      ]
    },
    {
      "cell_type": "markdown",
      "metadata": {
        "id": "RGUIJOwtiLLV"
      },
      "source": [
        "Видим, что у нас присутсвуют достаточно сильные выбросы, т.к. 3 объявления имеют цену больше 1 млн, остальные же ниже 100 тыс.\n",
        "\n",
        "Удалим выбросы и построим наглядный график."
      ]
    },
    {
      "cell_type": "code",
      "source": [
        "fig, ax = plt.subplots(figsize=(15, 7))\n",
        "ax.hist(df['price'].sort_values(ascending=False)[4:], bins = 700)\n",
        "ax.set_title('Распределение столбца с ценой')\n",
        "ax.set_xlabel('price')\n",
        "fig.show()"
      ],
      "metadata": {
        "colab": {
          "base_uri": "https://localhost:8080/",
          "height": 459
        },
        "id": "ZOIo7eu5Ifm-",
        "outputId": "1129da36-6fbd-4f58-8f68-8388a7bc251d"
      },
      "execution_count": 63,
      "outputs": [
        {
          "output_type": "display_data",
          "data": {
            "text/plain": [
              "<Figure size 1080x504 with 1 Axes>"
            ],
            "image/png": "[encoded data removed]"
          },
          "metadata": {
            "needs_background": "light"
          }
        }
      ]
    },
    {
      "cell_type": "markdown",
      "metadata": {
        "id": "yeteq-3Hi09v"
      },
      "source": [
        "Видим, что в любом случве у нашего распределения цены тяжелые хвосты, и большинство объявлений будут иметь цену меньше 7 тыс.\n",
        "\n",
        "Рассмотрим насколько уникальные значение содержатся в некоторых столбцах."
      ]
    },
    {
      "cell_type": "code",
      "execution_count": 11,
      "metadata": {
        "colab": {
          "base_uri": "https://localhost:8080/"
        },
        "id": "VAwlf8XYkObz",
        "outputId": "d791f111-5ecd-4f70-8401-bd8fffb4f01e"
      },
      "outputs": [
        {
          "output_type": "stream",
          "name": "stdout",
          "text": [
            "Кол-во строк в датафрейме: 34546\n",
            "Кол-во уникальных Id: 34546\n",
            "Кол-во уникальных building_id: 6378\n",
            "Кол-во уникальных description: 27757\n",
            "Кол-во уникальных display_address: 6998\n",
            "Кол-во уникальных features: 8245\n",
            "Кол-во уникальных manager_id: 3134\n",
            "Кол-во уникальных street_address: 12398\n"
          ]
        }
      ],
      "source": [
        "print('Кол-во строк в датафрейме:', len(df))\n",
        "print('Кол-во уникальных Id:', len(df['Id'].value_counts()))                   # Все уникальны\n",
        "print('Кол-во уникальных building_id:', len(df['building_id'].value_counts())) #Присутсвует 5713 нулевых значений, дальше встречается меньше 200 объявлений из одного дома\n",
        "print('Кол-во уникальных description:', len(df['description'].value_counts())) #Много пустых описаний, либо website_redacted и т.д. , но почти все значения уникальны\n",
        "print('Кол-во уникальных display_address:', len(df['display_address'].value_counts())) \n",
        "print('Кол-во уникальных features:', len(df['features'].value_counts())) \n",
        "print('Кол-во уникальных manager_id:', len(df['manager_id'].value_counts()))   #У одного менеджера 1820 объявлений, далее 513 и меньше 300 после у всех \n",
        "print('Кол-во уникальных street_address:', len(df['street_address'].value_counts()))"
      ]
    },
    {
      "cell_type": "markdown",
      "metadata": {
        "id": "LLNaD23UnFEA"
      },
      "source": [
        "Рассмотрим как представлены широта и долгота в данных"
      ]
    },
    {
      "cell_type": "code",
      "execution_count": 12,
      "metadata": {
        "colab": {
          "base_uri": "https://localhost:8080/"
        },
        "id": "SRMCElEKm3hm",
        "outputId": "3d3616ee-f1e0-4898-864d-f8a232807c6c"
      },
      "outputs": [
        {
          "output_type": "execute_result",
          "data": {
            "text/plain": [
              "0.0000    11935\n",
              "0.0001       87\n",
              "0.0001       66\n",
              "0.0002       23\n",
              "0.0003       13\n",
              "          ...  \n",
              "0.0502        1\n",
              "0.0050        1\n",
              "0.0025        1\n",
              "0.0169        1\n",
              "0.0187        1\n",
              "Name: difference, Length: 131, dtype: int64"
            ]
          },
          "metadata": {},
          "execution_count": 12
        }
      ],
      "source": [
        "df_latitude = df.groupby(['street_address']).agg({'latitude': ['min', 'max'], 'longitude':['min', 'max']})['latitude']\n",
        "df_latitude['difference'] =  df_latitude['max'] - df_latitude['min'] \n",
        "df_latitude['difference'].value_counts()"
      ]
    },
    {
      "cell_type": "code",
      "execution_count": 13,
      "metadata": {
        "colab": {
          "base_uri": "https://localhost:8080/"
        },
        "id": "Evh77cierwgi",
        "outputId": "f708a5ee-5300-4a03-e2ad-baf71dbc971a"
      },
      "outputs": [
        {
          "output_type": "execute_result",
          "data": {
            "text/plain": [
              "0.0000    11916\n",
              "0.0001      118\n",
              "0.0001       28\n",
              "0.0002       19\n",
              "0.0002       17\n",
              "          ...  \n",
              "0.0035        1\n",
              "0.0070        1\n",
              "0.0220        1\n",
              "0.0024        1\n",
              "0.0110        1\n",
              "Name: difference, Length: 141, dtype: int64"
            ]
          },
          "metadata": {},
          "execution_count": 13
        }
      ],
      "source": [
        "df_longitude = df.groupby(['street_address']).agg({'latitude': ['min', 'max'], 'longitude':['min', 'max']})['longitude']\n",
        "df_longitude['difference'] =  df_longitude['max'] - df_longitude['min'] \n",
        "df_longitude['difference'].value_counts()"
      ]
    },
    {
      "cell_type": "code",
      "execution_count": 14,
      "metadata": {
        "colab": {
          "base_uri": "https://localhost:8080/"
        },
        "id": "SIpp2MCy8XCv",
        "outputId": "009fd983-0685-4998-aab2-11ee46e1e1ac"
      },
      "outputs": [
        {
          "output_type": "execute_result",
          "data": {
            "text/plain": [
              "Int64Index([308, 7234, 10426, 20352, 24090, 27868, 28855, 33373], dtype='int64')"
            ]
          },
          "metadata": {},
          "execution_count": 14
        }
      ],
      "source": [
        "df[df['longitude'] == 0].index "
      ]
    },
    {
      "cell_type": "code",
      "execution_count": 15,
      "metadata": {
        "colab": {
          "base_uri": "https://localhost:8080/"
        },
        "id": "Udu5QzT-8rf9",
        "outputId": "d6875921-84ff-4f17-e1a6-064c7aad55ac"
      },
      "outputs": [
        {
          "output_type": "execute_result",
          "data": {
            "text/plain": [
              "Int64Index([308, 7234, 10426, 20352, 24090, 27868, 28855, 33373], dtype='int64')"
            ]
          },
          "metadata": {},
          "execution_count": 15
        }
      ],
      "source": [
        "df[df['latitude'] == 0].index"
      ]
    },
    {
      "cell_type": "markdown",
      "metadata": {
        "id": "qH6q8U7Mss_7"
      },
      "source": [
        "Как можно понять изучая карты, даже максимальное значение разница в широте и долготе по улице укладывается в рамки нормального, что говорит о том, что широта и долго в данных указаны корректно (за исключением 8 строк, где широта и долгота нулевые, их заменим на средние значения) и четко описывают положение домов. значит столбцы с названиями адресов домов и названиями адресов улиц можно убрать. Рассмотрим широту и долготу на графике."
      ]
    },
    {
      "cell_type": "code",
      "execution_count": 16,
      "metadata": {
        "colab": {
          "base_uri": "https://localhost:8080/",
          "height": 445
        },
        "id": "yelXcn06Dn3_",
        "outputId": "e7651469-7c03-4e66-c01b-d3de8a09ae16"
      },
      "outputs": [
        {
          "output_type": "display_data",
          "data": {
            "text/plain": [
              "<Figure size 1080x504 with 1 Axes>"
            ],
            "image/png": "[encoded data removed]"
          },
          "metadata": {
            "needs_background": "light"
          }
        }
      ],
      "source": [
        "fig, ax = plt.subplots(figsize=(15, 7))\n",
        "ax.scatter(x = df['longitude'], y = df['latitude'])\n",
        "ax.set_title('Распределение объявлений на \"карте\"')\n",
        "plt.show()"
      ]
    },
    {
      "cell_type": "code",
      "execution_count": 17,
      "metadata": {
        "id": "TEny70gA8LE-"
      },
      "outputs": [],
      "source": [
        "def num_of_features(a):\n",
        "  counter = 0\n",
        "  for j in eval(a):\n",
        "    counter += 1\n",
        "  return counter\n",
        "\n",
        "df['num_of_features'] = df['features'].apply(num_of_features)"
      ]
    },
    {
      "cell_type": "code",
      "execution_count": 18,
      "metadata": {
        "id": "C8zmqL4pYl8C"
      },
      "outputs": [],
      "source": [
        "num_of_features = df['num_of_features']\n",
        "df = df.drop(columns = ['num_of_features'])"
      ]
    },
    {
      "cell_type": "code",
      "execution_count": 19,
      "metadata": {
        "colab": {
          "base_uri": "https://localhost:8080/",
          "height": 444
        },
        "id": "80YnRZquAV8E",
        "outputId": "a1a0ca23-1b5e-4fdf-f162-74650f4af09e"
      },
      "outputs": [
        {
          "output_type": "display_data",
          "data": {
            "text/plain": [
              "<Figure size 1080x504 with 1 Axes>"
            ],
            "image/png": "[encoded data removed]"
          },
          "metadata": {
            "needs_background": "light"
          }
        }
      ],
      "source": [
        "fig, ax = plt.subplots(figsize=(15, 7))\n",
        "ax.bar(x = num_of_features.value_counts().index , height = num_of_features.value_counts().values)\n",
        "ax.set_title('Количество одинаковых длин особенностей по объявлениям')\n",
        "plt.show()"
      ]
    },
    {
      "cell_type": "markdown",
      "metadata": {
        "id": "pPNKB4rFDQi5"
      },
      "source": [
        "Видим, что  объяаления содержат от 0 до 39 фичей, но объявления в которых больше 15 фичей встречаются достаточно редко\n",
        "\n",
        "Рассмотрим также количество фото в обьявлениях"
      ]
    },
    {
      "cell_type": "code",
      "execution_count": 20,
      "metadata": {
        "colab": {
          "base_uri": "https://localhost:8080/",
          "height": 445
        },
        "id": "FgWaQWaYdJh5",
        "outputId": "dbc459ba-d77e-4d6c-ed06-da708971975d"
      },
      "outputs": [
        {
          "output_type": "display_data",
          "data": {
            "text/plain": [
              "<Figure size 1080x504 with 1 Axes>"
            ],
            "image/png": "[encoded data removed]"
          },
          "metadata": {
            "needs_background": "light"
          }
        }
      ],
      "source": [
        "def num_of_features(a):\n",
        "  counter = 0\n",
        "  for j in eval(a):\n",
        "    counter += 1\n",
        "  return counter\n",
        "  \n",
        "df['num_of_photos'] = df['photos'].apply(num_of_features)\n",
        "\n",
        "num_of_photos = df['num_of_photos']\n",
        "df = df.drop(columns = ['num_of_photos'])\n",
        "\n",
        "fig, ax = plt.subplots(figsize=(15, 7))\n",
        "ax.bar(x = num_of_photos.value_counts().index , height = num_of_photos.value_counts().values)\n",
        "ax.set_title('Количество одинаковых длин фото по объявлениям')\n",
        "plt.show()"
      ]
    },
    {
      "cell_type": "markdown",
      "metadata": {
        "id": "V9dM7x_fdBCj"
      },
      "source": [
        "Видим, что объявления содержат от 0, до 50 фотографий.\n",
        "\n",
        "Рассмотрим количество объявлений, в которых отсутствует building_id"
      ]
    },
    {
      "cell_type": "code",
      "execution_count": 21,
      "metadata": {
        "colab": {
          "base_uri": "https://localhost:8080/"
        },
        "id": "kf_DC1rPILFq",
        "outputId": "82c9f254-859b-46cd-f979-9cbb36470afd"
      },
      "outputs": [
        {
          "output_type": "stream",
          "name": "stdout",
          "text": [
            "Длина всего датафрейма: 34546\n",
            "Количество нулей в столбце building_id: 5713\n",
            "Количество нулей в столбце building_id в %:  16.54 %\n"
          ]
        }
      ],
      "source": [
        "print('Длина всего датафрейма:', len(df))\n",
        "print('Количество нулей в столбце building_id:', len(df[df['building_id'] == '0']))\n",
        "print('Количество нулей в столбце building_id в %: ', round(len(df[df['building_id'] == '0'])/len(df)*100,2), '%')"
      ]
    },
    {
      "cell_type": "markdown",
      "metadata": {
        "id": "hjjWuyezJjMy"
      },
      "source": [
        "Видим, что в 16.54% объявлений отсутствует building_id."
      ]
    },
    {
      "cell_type": "markdown",
      "metadata": {
        "id": "8NBsABOQfHmg"
      },
      "source": [
        "Далее рассмотрим значения в столбце с спальнями и ванными"
      ]
    },
    {
      "cell_type": "code",
      "execution_count": 22,
      "metadata": {
        "colab": {
          "base_uri": "https://localhost:8080/",
          "height": 445
        },
        "id": "7CkCyXKLgpKf",
        "outputId": "db11bb26-e0e7-4d67-a318-53b3cab7eabd"
      },
      "outputs": [
        {
          "output_type": "display_data",
          "data": {
            "text/plain": [
              "<Figure size 1080x504 with 1 Axes>"
            ],
            "image/png": "[encoded data removed]"
          },
          "metadata": {
            "needs_background": "light"
          }
        }
      ],
      "source": [
        "fig, ax = plt.subplots(figsize=(15, 7))\n",
        "ax.bar(x = df['bathrooms'].value_counts().index, height = df['bathrooms'].value_counts())\n",
        "ax.set_title('Количество различный значений в столбце bathrooms')\n",
        "plt.show()"
      ]
    },
    {
      "cell_type": "code",
      "execution_count": 23,
      "metadata": {
        "colab": {
          "base_uri": "https://localhost:8080/",
          "height": 445
        },
        "id": "XRNTR5jNg2Xe",
        "outputId": "fed2365c-cc63-459d-bf98-af51a8fd2e5b"
      },
      "outputs": [
        {
          "output_type": "display_data",
          "data": {
            "text/plain": [
              "<Figure size 1080x504 with 1 Axes>"
            ],
            "image/png": "[encoded data removed]"
          },
          "metadata": {
            "needs_background": "light"
          }
        }
      ],
      "source": [
        "fig, ax = plt.subplots(figsize=(15, 7))\n",
        "ax.bar(x = df['bedrooms'].value_counts().index, height = df['bedrooms'].value_counts())\n",
        "ax.set_title('Количество различный значений в столбце bedrooms')\n",
        "plt.show()"
      ]
    },
    {
      "cell_type": "markdown",
      "metadata": {
        "id": "vBYuFHF9R9Ej"
      },
      "source": [
        "# **Этап 2: Feature engineering**"
      ]
    },
    {
      "cell_type": "markdown",
      "metadata": {
        "id": "lJEJPcmxaIc-"
      },
      "source": [
        "Для начала разобьем выборку на train/test, при этом нам нужно чтобы данные были разбиты равномерно. "
      ]
    },
    {
      "cell_type": "code",
      "execution_count": 24,
      "metadata": {
        "id": "xaDwGrZFF75b"
      },
      "outputs": [],
      "source": [
        "from sklearn.model_selection import train_test_split\n",
        "X_train, X_test, y_train, y_test = train_test_split(df.drop(columns = ['TARGET']), df['TARGET'], \n",
        "                                                    train_size=0.85, \n",
        "                                                    random_state=42,\n",
        "                                                    stratify=df['TARGET'])"
      ]
    },
    {
      "cell_type": "markdown",
      "metadata": {
        "id": "2JWagy_gHLgO"
      },
      "source": [
        "Начнем Feature engineering с того, что удалим ненужные столбцы из исходного датафрейма, это столбцы 'Id', 'display_address', 'manager_id', 'street_address','listing_id', 'building_id'.\n",
        "\n",
        "Id не дает нам никакой информации, как и manager_id, listing_id, building_id, т.к. они полностью заполнены и если их преобразовывать через OHE, будет слишком много фичей.\n",
        "\n",
        "'display_address' и 'street_address' будут описаны через широту и долготу."
      ]
    },
    {
      "cell_type": "markdown",
      "metadata": {
        "id": "rDppA3FfMlHp"
      },
      "source": [
        "Начнем преобразование со столбца TARGET, преобразуем его в формат, где low - это 0 класс, medium - 1, high - 2. "
      ]
    },
    {
      "cell_type": "markdown",
      "metadata": {
        "id": "xQ1NP3U0jL0-"
      },
      "source": [
        "Преобразуем нулевую широту и долготу в столбцах в среднее значение по столбцу на train данных."
      ]
    },
    {
      "cell_type": "markdown",
      "metadata": {
        "id": "DRPmNbN4UcJ9"
      },
      "source": [
        "Добавим столбец, который будет содержать количество фичей, которое содержит каждое объявление."
      ]
    },
    {
      "cell_type": "markdown",
      "metadata": {
        "id": "hKCpp5-7eNXh"
      },
      "source": [
        "Также сделаем такое же преобразование со столбцом фотографий"
      ]
    },
    {
      "cell_type": "markdown",
      "metadata": {
        "id": "9y_NpDhob_zU"
      },
      "source": [
        "Далее добавим столбец, который будет содержать количество знаков в объявлении.Так как в описании есть 1037 NaN значений, то их нужно обработать как 0 символов."
      ]
    },
    {
      "cell_type": "markdown",
      "metadata": {
        "id": "AgeIGh8Cfk4Z"
      },
      "source": [
        "Далее поработаем с датой, идея состоит в том, что будем хранить время в часах, которое висит объявление, за минимальное время возьмем минимальное время из столбца.\n",
        "\n",
        "После деления на np.timedelta64(1,'D'), получим в целой части количество дней, а в дробной части, часть прошедшего дня, так например:\n",
        "\n",
        "47 days 19:10:27 это 47.798924, потому что 19:10:27 это 23009 секунд, весь день это 28800 секунд.\n",
        "23009/28800 = 0.798924"
      ]
    },
    {
      "cell_type": "markdown",
      "metadata": {
        "id": "G6lS4kK5ByxA"
      },
      "source": [
        "Остается последний пункт, выделим 100 самых частовстречающихся фичей и сделаем самостоятельный OHE по ним.\n",
        "\n",
        "Всего оригинальных фичей получится 1052 во всем датафрейме, получается, что мы оставляем примерно 10,5%, однако они самые частовстречающиеся, если же в объявлении встречались редкие фичи, то они пусть и не сильно влиятельно, но будут учтены в столбце с количеством фичей."
      ]
    },
    {
      "cell_type": "markdown",
      "metadata": {
        "id": "yCpiObJ1LrF0"
      },
      "source": [
        "Осталось сделать итоговый датафрейм, из которого удалим данные до предобработки, отнормируем признаки и объединим с OHE датафреймом."
      ]
    },
    {
      "cell_type": "code",
      "execution_count": 26,
      "metadata": {
        "id": "slzhhXxb_oa6"
      },
      "outputs": [],
      "source": [
        "class Transform:\n",
        "\n",
        "  def __init__(self):\n",
        "    \n",
        "    self.mean_latitude = None\n",
        "    self.mean_longitude = None\n",
        "    #self.normalizer = None\n",
        "    self.features_dict_top_keys = None\n",
        "    self.features_dict_top = None\n",
        "    self.mu = None\n",
        "    self.std = None\n",
        "\n",
        "  def num_of_features(self, a):\n",
        "    counter = 0\n",
        "    for j in eval(a):\n",
        "      counter += 1\n",
        "    return counter\n",
        "\n",
        "  def description_length(self, a):\n",
        "    if pd.isna(a):         \n",
        "      return 0\n",
        "    return len(a)\n",
        "\n",
        "  def fit_transform_X(self, X_train):\n",
        "    df_feature_eng = X_train.copy()\n",
        "    df_feature_eng = df_feature_eng.reset_index(drop = True)\n",
        "    df_feature_eng = df_feature_eng.drop(columns = ['Id', 'display_address', 'manager_id', 'street_address', 'listing_id', 'building_id'])\n",
        "\n",
        "    self.mean_latitude = df_feature_eng[df_feature_eng['latitude'] != 0]['latitude'].mean()\n",
        "    self.mean_longitude = df_feature_eng[df_feature_eng['longitude'] != 0]['longitude'].mean()\n",
        "\n",
        "    df_feature_eng.loc[df_feature_eng['longitude'] == 0, ['longitude']] = self.mean_longitude\n",
        "    df_feature_eng.loc[df_feature_eng['latitude'] == 0, ['latitude']] = self.mean_latitude\n",
        "\n",
        "    df_feature_eng['num_of_features'] = df_feature_eng['features'].apply(self.num_of_features)\n",
        "    df_feature_eng['num_of_photos'] = df_feature_eng['photos'].apply(self.num_of_features)\n",
        "    df_feature_eng['descr_len'] = df_feature_eng['description'].apply(self.description_length)\n",
        "    df_feature_eng['datetime_created'] = pd.to_datetime(df_feature_eng['created'])\n",
        "    df_feature_eng['datetime_created'] = (df_feature_eng['datetime_created'] - min(df_feature_eng['datetime_created'])) / np.timedelta64(1,'D')\n",
        "\n",
        "    features_dict = {}\n",
        "    for feat_list in df_feature_eng['features']:\n",
        "      for feature in eval(feat_list):\n",
        "        if feature.upper() not in features_dict:\n",
        "          features_dict[feature.upper()] = 0\n",
        "        features_dict[feature.upper()] += 1\n",
        "\n",
        "    sorted_tuple_features = sorted(features_dict.items(), key = lambda x: x[1], reverse = True)\n",
        "    features_dict_top = dict(sorted_tuple_features[:100])\n",
        "\n",
        "    self.features_dict_top = features_dict_top\n",
        "    self.features_dict_top_keys = features_dict_top.keys()\n",
        "\n",
        "    OHE_df = pd.DataFrame(np.zeros((len(X_train), len(self.features_dict_top))), columns = self.features_dict_top_keys)\n",
        "\n",
        "    for i in range(len(OHE_df)):\n",
        "      for feature in eval(df_feature_eng.loc[i][\"features\"]):\n",
        "        if feature.upper() in self.features_dict_top_keys:\n",
        "          OHE_df.loc[i][feature.upper()] = 1\n",
        "\n",
        "    final_df = df_feature_eng.copy()\n",
        "    final_df = final_df.drop(columns = ['created', 'description', 'features', 'photos'])\n",
        "\n",
        "    self.mu = final_df.mean()\n",
        "    self.std = final_df.std()\n",
        "\n",
        "    final_df = (final_df - self.mu) / self.std\n",
        "    \n",
        "    #self.normalizer = Normalizer().fit(final_df.iloc[:,:].to_numpy())   \n",
        "    #final_df.iloc[:,:] = self.normalizer.transform(final_df.iloc[:,:].to_numpy())\n",
        "\n",
        "    finan_df_norm = pd.concat([final_df, OHE_df], axis=1)\n",
        "\n",
        "    return finan_df_norm\n",
        "\n",
        "  def transform_X(self, X_test):\n",
        "    df_feature_eng = X_test.copy()\n",
        "    df_feature_eng = df_feature_eng.reset_index(drop = True)\n",
        "    df_feature_eng = df_feature_eng.drop(columns = ['Id', 'display_address', 'manager_id', 'street_address', 'listing_id', 'building_id'])\n",
        "\n",
        "    df_feature_eng.loc[df_feature_eng['longitude'] == 0, ['longitude']] = self.mean_longitude\n",
        "    df_feature_eng.loc[df_feature_eng['latitude'] == 0, ['latitude']] = self.mean_latitude\n",
        "\n",
        "    df_feature_eng['num_of_features'] = df_feature_eng['features'].apply(self.num_of_features)\n",
        "    df_feature_eng['num_of_photos'] = df_feature_eng['photos'].apply(self.num_of_features)\n",
        "    df_feature_eng['descr_len'] = df_feature_eng['description'].apply(self.description_length)\n",
        "    df_feature_eng['datetime_created'] = pd.to_datetime(df_feature_eng['created'])\n",
        "    df_feature_eng['datetime_created'] = (df_feature_eng['datetime_created'] - min(df_feature_eng['datetime_created'])) / np.timedelta64(1,'D')\n",
        "\n",
        "    OHE_df = pd.DataFrame(np.zeros((len(X_test), len(self.features_dict_top))), columns = self.features_dict_top_keys)\n",
        "\n",
        "    for i in range(len(OHE_df)):\n",
        "      for feature in eval(df_feature_eng.loc[i][\"features\"]):\n",
        "        if feature.upper() in self.features_dict_top_keys:\n",
        "          OHE_df.loc[i][feature.upper()] = 1\n",
        "\n",
        "    final_df = df_feature_eng.copy()\n",
        "    final_df = final_df.drop(columns = ['created', 'description', 'features', 'photos'])\n",
        "\n",
        "    final_df = (final_df - self.mu) / self.std\n",
        "\n",
        "    #final_df.iloc[:,:] = self.normalizer.transform(final_df.iloc[:,:].to_numpy())\n",
        "\n",
        "    finan_df_norm = pd.concat([final_df, OHE_df], axis=1)\n",
        "\n",
        "    return finan_df_norm\n",
        "\n",
        "\n",
        "  def transform_y(self, y):\n",
        "    return y.map({\"low\": 0, \"medium\": 1, \"high\": 2})\n",
        "\n",
        "    "
      ]
    },
    {
      "cell_type": "code",
      "execution_count": 27,
      "metadata": {
        "id": "E_yj3qUsF86B"
      },
      "outputs": [],
      "source": [
        "transform = Transform()\n",
        "X_train = transform.fit_transform_X(X_train)\n",
        "X_test = transform.transform_X(X_test)\n",
        "y_train, y_test =  transform.transform_y(y_train), transform.transform_y(y_test)"
      ]
    },
    {
      "cell_type": "code",
      "execution_count": 28,
      "metadata": {
        "colab": {
          "base_uri": "https://localhost:8080/"
        },
        "id": "tryavyHSd2hf",
        "outputId": "250d436a-fc9a-4294-e232-e6fadc896dfe"
      },
      "outputs": [
        {
          "output_type": "stream",
          "name": "stdout",
          "text": [
            "Количество строк в y_train по классам: [20399  6681  2284]\n",
            "Количество строк в y_test по классам: [3600 1179  403]\n"
          ]
        }
      ],
      "source": [
        "print(f\"Количество строк в y_train по классам: {np.bincount(y_train)}\")\n",
        "print(f\"Количество строк в y_test по классам: {np.bincount(y_test)}\")"
      ]
    },
    {
      "cell_type": "markdown",
      "metadata": {
        "id": "-bBdmuA5SUlM"
      },
      "source": [
        "На этом раздел feature engineering закончен, мы преобразовали данные и отнормировали их."
      ]
    },
    {
      "cell_type": "markdown",
      "metadata": {
        "id": "6lHdCMwCSNi7"
      },
      "source": [
        "# **Этап 3: Выбор целевой метрики**"
      ]
    },
    {
      "cell_type": "markdown",
      "metadata": {
        "id": "ihCgDYj7WYxO"
      },
      "source": [
        "Accuracy как метка нас не удовлетворяет, так как у нас есть дисбаланс в классах. Precision и recall не зависят, в отличие от accuracy, от соотношения классов и потому применимы в условиях несбалансированных выборок, но поскольку у нас нет ТЗ, и мы не можем сделать вывод в пользу чего конкретно нам склоняться больше. \n",
        "\n",
        "То для нас оптимальной будет нечто среднее между ними, то есть **F- мера weighted**, которая отличается тем, что рассчитывает метрики для каждой метки и находит их среднее значения, взвешенные по поддержке (количество истинных экземпляров для каждой метки). Это изменяет макрос для учета дисбаланса меток; Это может привести к F-оценке, которая не находится между точностью и полнотой.\n"
      ]
    },
    {
      "cell_type": "markdown",
      "metadata": {
        "id": "Rp66Nh9XShrr"
      },
      "source": [
        "# **Этап 4: Проведение экспериментов**"
      ]
    },
    {
      "cell_type": "markdown",
      "source": [
        "Заимпортим библиотеку optuna для подбора гиперпараметров."
      ],
      "metadata": {
        "id": "H1niNRLT8ED8"
      }
    },
    {
      "cell_type": "code",
      "execution_count": null,
      "metadata": {
        "id": "OsDPk6XJEbK-"
      },
      "outputs": [],
      "source": [
        "!pip install optuna"
      ]
    },
    {
      "cell_type": "markdown",
      "metadata": {
        "id": "fR2JkivWlmoW"
      },
      "source": [
        "**Код функции для вывода результата**"
      ]
    },
    {
      "cell_type": "code",
      "execution_count": 31,
      "metadata": {
        "id": "4fzvJ6YdltJH"
      },
      "outputs": [],
      "source": [
        "from sklearn.metrics import confusion_matrix\n",
        "from sklearn.metrics import f1_score\n",
        "import optuna\n",
        "\n",
        "def results(model, X_train, X_test, y_train, y_test, cf_matrix_plot = 'Yes'):\n",
        "  model.fit(X_train, y_train)\n",
        "  y_pred = model.predict(X_test)\n",
        "  score = f1_score(y_test, y_pred, average='weighted')\n",
        "  print(f'Result score: {score}')\n",
        "  if cf_matrix_plot == 'Yes':\n",
        "    cf_matrix = confusion_matrix(y_test, y_pred)\n",
        "\n",
        "    group_counts = [\"{0:0.0f}\".format(value) for value in cf_matrix.flatten()]\n",
        "\n",
        "    group_percentages = [\"{0:.2%}\".format(value) for value in cf_matrix.flatten()/np.sum(cf_matrix)]\n",
        "\n",
        "    labels = [f\"{v1}\\n{v2}\\n\" for v1, v2 in zip(group_counts,group_percentages)]\n",
        "\n",
        "    labels = np.asarray(labels).reshape(3,3)\n",
        "\n",
        "    fig, ax = plt.subplots(figsize = (15, 7))\n",
        "\n",
        "    ax = sns.heatmap(cf_matrix, annot=labels, fmt='', cmap='Blues')\n",
        "\n",
        "    ax.set_title('Seaborn Confusion Matrix with labels\\n\\n');\n",
        "    ax.set_xlabel('\\nPredicted Target Category')\n",
        "    ax.set_ylabel('Actual Target Category ');\n",
        "\n",
        "    ax.xaxis.set_ticklabels(['First','Second', 'Third'])\n",
        "    ax.yaxis.set_ticklabels(['First','Second', 'Third'])\n",
        "\n",
        "    plt.show()"
      ]
    },
    {
      "cell_type": "markdown",
      "metadata": {
        "id": "9XsFyBvnlLhO"
      },
      "source": [
        "**Dummy Classification**"
      ]
    },
    {
      "cell_type": "code",
      "execution_count": null,
      "metadata": {
        "colab": {
          "base_uri": "https://localhost:8080/",
          "height": 517
        },
        "id": "dl6y6e86lQI1",
        "outputId": "27642d1b-f9ab-4b2d-9ace-1c1eeec5b8f0"
      },
      "outputs": [
        {
          "name": "stdout",
          "output_type": "stream",
          "text": [
            "Result score: 0.5695661303633155\n"
          ]
        },
        {
          "data": {
            "image/png": "[encoded data removed]",
            "text/plain": [
              "<Figure size 1080x504 with 2 Axes>"
            ]
          },
          "metadata": {},
          "output_type": "display_data"
        }
      ],
      "source": [
        "from sklearn.dummy import DummyClassifier\n",
        "\n",
        "results(DummyClassifier(random_state = 42), X_train, X_test, y_train, y_test)"
      ]
    },
    {
      "cell_type": "markdown",
      "metadata": {
        "id": "E1zMpVRXqFt-"
      },
      "source": [
        "**LogisticRegression**"
      ]
    },
    {
      "cell_type": "code",
      "execution_count": null,
      "metadata": {
        "colab": {
          "base_uri": "https://localhost:8080/",
          "height": 517
        },
        "id": "rzukwmRmqRGW",
        "outputId": "4b478427-7085-47fe-fd51-3f3c19a9b7df"
      },
      "outputs": [
        {
          "name": "stdout",
          "output_type": "stream",
          "text": [
            "Result score: 0.627823430774449\n"
          ]
        },
        {
          "data": {
            "image/png": "[encoded data removed]",
            "text/plain": [
              "<Figure size 1080x504 with 2 Axes>"
            ]
          },
          "metadata": {},
          "output_type": "display_data"
        }
      ],
      "source": [
        "from sklearn.linear_model import LogisticRegression\n",
        "\n",
        "results(LogisticRegression(random_state = 42, max_iter = 1000), X_train, X_test, y_train, y_test)\n"
      ]
    },
    {
      "cell_type": "markdown",
      "source": [
        "**Проведем подбор параметров для LogisticRegression**"
      ],
      "metadata": {
        "id": "V8j7RsEw8UJq"
      }
    },
    {
      "cell_type": "code",
      "execution_count": null,
      "metadata": {
        "id": "8D5knFx8GGkW"
      },
      "outputs": [],
      "source": [
        "def objective_LogisticRegression(trial):\n",
        "    model = LogisticRegression(\n",
        "        solver = trial.suggest_categorical(\"solver\", ['lbfgs', 'liblinear', 'newton-cg', 'sag', 'saga']),\n",
        "        tol = trial.suggest_float(\"tol\", 1e-8, 1e-1, log=True),\n",
        "        C = trial.suggest_float(\"C\", 1e-3, 5, log=True),\n",
        "        intercept_scaling = trial.suggest_float(\"intercept_scaling\", 1e-3, 5, log=True),\n",
        "        max_iter = trial.suggest_int(\"max_iter\", 100, 5000),\n",
        "    )\n",
        "    model.fit(X_train, y_train)\n",
        "    y_pred = model.predict(X_test)\n",
        "    return f1_score(y_test, y_pred, average='weighted')\n",
        "\n",
        "study = optuna.create_study(study_name=\"LogisticRegression\", direction=\"maximize\")\n",
        "study.optimize(objective_LogisticRegression, n_trials=50)"
      ]
    },
    {
      "cell_type": "markdown",
      "source": [
        "Были подобраны оптимальные параметры и построена модель с ними:"
      ],
      "metadata": {
        "id": "wWd4Chai8x6T"
      }
    },
    {
      "cell_type": "code",
      "execution_count": null,
      "metadata": {
        "colab": {
          "base_uri": "https://localhost:8080/"
        },
        "id": "R90lIOcB-n9s",
        "outputId": "42f04d49-e9a3-42a4-e643-8cbaaa7c01e6"
      },
      "outputs": [
        {
          "name": "stdout",
          "output_type": "stream",
          "text": [
            "Number of finished trials:  50\n",
            "Best trial:\n",
            "  Value:  0.6318230670872387\n",
            "  Params: \n",
            "    solver: newton-cg\n",
            "    tol: 0.08348056002326781\n",
            "    C: 4.467260318308931\n",
            "    intercept_scaling: 1.2983338643381135\n",
            "    max_iter: 1849\n"
          ]
        }
      ],
      "source": [
        "print(\"Number of finished trials: \", len(study.trials))\n",
        "print(\"Best trial:\")\n",
        "trial = study.best_trial\n",
        "print(\"  Value: \", trial.value)\n",
        "print(\"  Params: \")\n",
        "for key, value in trial.params.items():\n",
        "  print(\"    {}: {}\".format(key, value))"
      ]
    },
    {
      "cell_type": "code",
      "execution_count": null,
      "metadata": {
        "colab": {
          "base_uri": "https://localhost:8080/",
          "height": 517
        },
        "id": "MKM3gzYy-wv6",
        "outputId": "6d38e190-f14b-4c9a-eac7-cd236bf97376"
      },
      "outputs": [
        {
          "name": "stdout",
          "output_type": "stream",
          "text": [
            "Result score: 0.6318230670872387\n"
          ]
        },
        {
          "data": {
            "image/png": "[encoded data removed]",
            "text/plain": [
              "<Figure size 1080x504 with 2 Axes>"
            ]
          },
          "metadata": {},
          "output_type": "display_data"
        }
      ],
      "source": [
        "results(LogisticRegression(**trial.params), X_train, X_test, y_train, y_test)"
      ]
    },
    {
      "cell_type": "markdown",
      "metadata": {
        "id": "Cv66eEzqrQ3u"
      },
      "source": [
        "**LinearSVC**"
      ]
    },
    {
      "cell_type": "code",
      "execution_count": null,
      "metadata": {
        "colab": {
          "base_uri": "https://localhost:8080/",
          "height": 517
        },
        "id": "L2yjW3O7rQXV",
        "outputId": "00b7e6f2-0691-43d2-cfd0-5bffabc9677d"
      },
      "outputs": [
        {
          "name": "stdout",
          "output_type": "stream",
          "text": [
            "Result score: 0.6204052437172544\n"
          ]
        },
        {
          "data": {
            "image/png": "[encoded data removed]",
            "text/plain": [
              "<Figure size 1080x504 with 2 Axes>"
            ]
          },
          "metadata": {},
          "output_type": "display_data"
        }
      ],
      "source": [
        "from sklearn.svm import LinearSVC\n",
        "\n",
        "results(LinearSVC(random_state = 42), X_train, X_test, y_train, y_test)"
      ]
    },
    {
      "cell_type": "markdown",
      "source": [
        "Подбор оптимальных параметров Linear_SVC для случая где penalty l1"
      ],
      "metadata": {
        "id": "LRFY7z6J8_z4"
      }
    },
    {
      "cell_type": "code",
      "execution_count": null,
      "metadata": {
        "id": "XlgvqqR2ISbr"
      },
      "outputs": [],
      "source": [
        "def objective_LinearSVC_1(trial):\n",
        "    model = LinearSVC(       \n",
        "        penalty = trial.suggest_categorical(\"penalty\", ['l1']),\n",
        "        loss = trial.suggest_categorical(\"loss\", ['squared_hinge']),\n",
        "        dual=False,\n",
        "        tol = trial.suggest_float(\"tol\", 1e-8, 1e-1, log=True),\n",
        "        C = trial.suggest_float(\"C\", 1e-3, 5, log=True),\n",
        "        multi_class = trial.suggest_categorical(\"multi_class\", ['ovr', 'crammer_singer']),\n",
        "        intercept_scaling = trial.suggest_float(\"intercept_scaling\", 1e-3, 5, log=True),\n",
        "        max_iter = trial.suggest_int(\"max_iter\", 1000, 10000),\n",
        "    )\n",
        "    model.fit(X_train, y_train)\n",
        "    y_pred = model.predict(X_test)\n",
        "    return f1_score(y_test, y_pred, average='weighted')\n",
        "\n",
        "study_LinearSVC_1 = optuna.create_study(study_name=\"LinearSVC_1\", direction=\"maximize\")\n",
        "study_LinearSVC_1.optimize(objective_LinearSVC_1, n_trials=50)"
      ]
    },
    {
      "cell_type": "markdown",
      "source": [
        "Оптимальные параметры"
      ],
      "metadata": {
        "id": "hw71Ut0v9TLj"
      }
    },
    {
      "cell_type": "code",
      "execution_count": null,
      "metadata": {
        "colab": {
          "base_uri": "https://localhost:8080/"
        },
        "id": "h3OYjLsXK8U0",
        "outputId": "bba26bf5-f9dc-4b52-a59e-164a7f04605b"
      },
      "outputs": [
        {
          "name": "stdout",
          "output_type": "stream",
          "text": [
            "Number of finished trials:  50\n",
            "Best trial:\n",
            "  Value:  0.6210782834041355\n",
            "  Params: \n",
            "    penalty: l1\n",
            "    loss: squared_hinge\n",
            "    tol: 0.0011705103444605743\n",
            "    C: 2.4910356469669215\n",
            "    multi_class: ovr\n",
            "    intercept_scaling: 0.09949695021735712\n",
            "    max_iter: 6468\n"
          ]
        }
      ],
      "source": [
        "print(\"Number of finished trials: \", len(study_LinearSVC_1.trials))\n",
        "print(\"Best trial:\")\n",
        "trial_LinearSVC_1 = study_LinearSVC_1.best_trial\n",
        "print(\"  Value: \", trial_LinearSVC_1.value)\n",
        "print(\"  Params: \")\n",
        "for key, value in trial_LinearSVC_1.params.items():\n",
        "  print(\"    {}: {}\".format(key, value))"
      ]
    },
    {
      "cell_type": "markdown",
      "source": [
        "Далее подбор параметров для penalty l2, которые покажет результаты лучше, чем l1"
      ],
      "metadata": {
        "id": "8rwrTiAF9JAd"
      }
    },
    {
      "cell_type": "code",
      "execution_count": null,
      "metadata": {
        "id": "kb5oPrGJOcjT"
      },
      "outputs": [],
      "source": [
        "def objective_LinearSVC_2(trial):\n",
        "    model = LinearSVC(       \n",
        "        penalty = trial.suggest_categorical(\"penalty\", ['l2']),\n",
        "        loss = trial.suggest_categorical(\"loss\", ['hinge', 'squared_hinge']),\n",
        "        tol = trial.suggest_float(\"tol\", 1e-8, 1e-1, log=True),\n",
        "        C = trial.suggest_float(\"C\", 1e-3, 5, log=True),\n",
        "        multi_class = trial.suggest_categorical(\"multi_class\", ['ovr', 'crammer_singer']),\n",
        "        intercept_scaling = trial.suggest_float(\"intercept_scaling\", 1e-3, 5, log=True),\n",
        "        max_iter = trial.suggest_int(\"max_iter\", 1000, 10000),\n",
        "    )\n",
        "    model.fit(X_train, y_train)\n",
        "    y_pred = model.predict(X_test)\n",
        "    return f1_score(y_test, y_pred, average='weighted')\n",
        "\n",
        "study_LinearSVC_2 = optuna.create_study(study_name=\"LinearSVC_2\", direction=\"maximize\")\n",
        "study_LinearSVC_2.optimize(objective_LinearSVC_2, n_trials=50)"
      ]
    },
    {
      "cell_type": "markdown",
      "source": [
        "Оптимальные параметры для Linear_SVC и модель с ними"
      ],
      "metadata": {
        "id": "024blEg-9W3a"
      }
    },
    {
      "cell_type": "code",
      "execution_count": null,
      "metadata": {
        "colab": {
          "base_uri": "https://localhost:8080/"
        },
        "id": "M1TXt72HOxki",
        "outputId": "5164f37f-d206-4971-e530-c96dc120c621"
      },
      "outputs": [
        {
          "name": "stdout",
          "output_type": "stream",
          "text": [
            "Number of finished trials:  50\n",
            "Best trial:\n",
            "  Value:  0.62158447681967\n",
            "  Params: \n",
            "    penalty: l2\n",
            "    loss: squared_hinge\n",
            "    tol: 0.00829062698074782\n",
            "    C: 1.3258374417219945\n",
            "    multi_class: ovr\n",
            "    intercept_scaling: 2.9530103891944632\n",
            "    max_iter: 8023\n"
          ]
        }
      ],
      "source": [
        "print(\"Number of finished trials: \", len(study_LinearSVC_2.trials))\n",
        "print(\"Best trial:\")\n",
        "trial_LinearSVC_2 = study_LinearSVC_2.best_trial\n",
        "print(\"  Value: \", trial_LinearSVC_2.value)\n",
        "print(\"  Params: \")\n",
        "for key, value in trial_LinearSVC_2.params.items():\n",
        "  print(\"    {}: {}\".format(key, value))"
      ]
    },
    {
      "cell_type": "code",
      "execution_count": null,
      "metadata": {
        "colab": {
          "base_uri": "https://localhost:8080/",
          "height": 517
        },
        "id": "KI5-ftW2Vpzp",
        "outputId": "0e7342de-7356-47f8-8346-fd0a364cacfe"
      },
      "outputs": [
        {
          "name": "stdout",
          "output_type": "stream",
          "text": [
            "Result score: 0.62158447681967\n"
          ]
        },
        {
          "data": {
            "image/png": "[encoded data removed]",
            "text/plain": [
              "<Figure size 1080x504 with 2 Axes>"
            ]
          },
          "metadata": {},
          "output_type": "display_data"
        }
      ],
      "source": [
        "results(LinearSVC(**trial_LinearSVC_2.params), X_train, X_test, y_train, y_test)"
      ]
    },
    {
      "cell_type": "markdown",
      "metadata": {
        "id": "JJ9Cj2I4sMyc"
      },
      "source": [
        "**DecisionTreeClassifier**"
      ]
    },
    {
      "cell_type": "code",
      "execution_count": null,
      "metadata": {
        "colab": {
          "base_uri": "https://localhost:8080/",
          "height": 517
        },
        "id": "VZZItthLslat",
        "outputId": "0070e4eb-e76b-4954-a189-9d3a4e22e48e"
      },
      "outputs": [
        {
          "name": "stdout",
          "output_type": "stream",
          "text": [
            "Result score: 0.655548508315167\n"
          ]
        },
        {
          "data": {
            "image/png": "[encoded data removed]",
            "text/plain": [
              "<Figure size 1080x504 with 2 Axes>"
            ]
          },
          "metadata": {},
          "output_type": "display_data"
        }
      ],
      "source": [
        "from sklearn.tree import DecisionTreeClassifier\n",
        "\n",
        "results(DecisionTreeClassifier(random_state = 42), X_train, X_test, y_train, y_test)"
      ]
    },
    {
      "cell_type": "markdown",
      "source": [
        "Подбор параметров для DecisionTreeClassifier"
      ],
      "metadata": {
        "id": "uAxSIXw99c9k"
      }
    },
    {
      "cell_type": "code",
      "execution_count": null,
      "metadata": {
        "id": "6sc6twIqLQXM"
      },
      "outputs": [],
      "source": [
        "def objective_DecisionTreeClassifier(trial):\n",
        "    model = DecisionTreeClassifier(\n",
        "        criterion = trial.suggest_categorical(\"criterion\", ['gini', 'entropy']),\n",
        "        splitter = trial.suggest_categorical(\"splitter\", ['best', 'random']),\n",
        "        max_depth = trial.suggest_int(\"max_depth\", 1, 100000),\n",
        "        min_samples_split = trial.suggest_int(\"min_samples_split\", 2, 1000),\n",
        "        min_samples_leaf = trial.suggest_int(\"min_samples_leaf\", 2, 1000),\n",
        "        min_weight_fraction_leaf = trial.suggest_float(\"min_weight_fraction_leaf\", 1e-4, 0.5, log=True),\n",
        "        max_features = trial.suggest_categorical(\"max_features\", ['auto', 'sqrt', 'log2', None]),\n",
        "        max_leaf_nodes =  trial.suggest_int(\"max_leaf_nodes\", 1, 10000),\n",
        "        min_impurity_decrease = trial.suggest_float(\"min_impurity_decrease\", 1e-4, 5, log=True),\n",
        "        ccp_alpha = trial.suggest_float(\"ccp_alpha\", 1e-4, 5, log=True),\n",
        "    )\n",
        "    model.fit(X_train, y_train)\n",
        "    y_pred = model.predict(X_test)\n",
        "    return f1_score(y_test, y_pred, average='weighted')\n",
        "\n",
        "study_DecisionTreeClassifier = optuna.create_study(study_name=\"DecisionTreeClassifier\", direction=\"maximize\")\n",
        "study_DecisionTreeClassifier.optimize(objective_DecisionTreeClassifier, n_trials=10000)"
      ]
    },
    {
      "cell_type": "markdown",
      "source": [
        "Optuna также показывает нам приоритетность гиперпараметров, что представлено ниже"
      ],
      "metadata": {
        "id": "VHZHs0f79iZL"
      }
    },
    {
      "cell_type": "code",
      "execution_count": null,
      "metadata": {
        "colab": {
          "base_uri": "https://localhost:8080/",
          "height": 542
        },
        "id": "5gRSE1uR63GI",
        "outputId": "1cc6f16f-3a36-4787-86a5-98768327655a"
      },
      "outputs": [
        {
          "data": {
            "text/html": [
              "<html>\n",
              "<head><meta charset=\"utf-8\" /></head>\n",
              "<body>\n",
              "    <div>            <script src=\"https://cdnjs.cloudflare.com/ajax/libs/mathjax/2.7.5/MathJax.js?config=TeX-AMS-MML_SVG\"></script><script type=\"text/javascript\">if (window.MathJax) {MathJax.Hub.Config({SVG: {font: \"STIX-Web\"}});}</script>                <script type=\"text/javascript\">window.PlotlyConfig = {MathJaxConfig: 'local'};</script>\n",
              "        <script src=\"https://cdn.plot.ly/plotly-2.8.3.min.js\"></script>                <div id=\"7ef28e86-6cc9-49ef-b6b1-075479e67845\" class=\"plotly-graph-div\" style=\"height:525px; width:100%;\"></div>            <script type=\"text/javascript\">                                    window.PLOTLYENV=window.PLOTLYENV || {};                                    if (document.getElementById(\"7ef28e86-6cc9-49ef-b6b1-075479e67845\")) {                    Plotly.newPlot(                        \"7ef28e86-6cc9-49ef-b6b1-075479e67845\",                        [{\"cliponaxis\":false,\"hovertemplate\":[\"splitter (CategoricalDistribution): 5.005645602849601e-05<extra></extra>\",\"criterion (CategoricalDistribution): 0.00017607594900527393<extra></extra>\",\"min_weight_fraction_leaf (FloatDistribution): 0.0002972307670211744<extra></extra>\",\"max_features (CategoricalDistribution): 0.029576456983996795<extra></extra>\",\"min_samples_split (IntDistribution): 0.033491109823742725<extra></extra>\",\"min_impurity_decrease (FloatDistribution): 0.06760354620292477<extra></extra>\",\"max_leaf_nodes (IntDistribution): 0.0845107846940444<extra></extra>\",\"max_depth (IntDistribution): 0.16438199788562058<extra></extra>\",\"ccp_alpha (FloatDistribution): 0.22347837597156256<extra></extra>\",\"min_samples_leaf (IntDistribution): 0.3964343652660533<extra></extra>\"],\"marker\":{\"color\":\"rgb(66,146,198)\"},\"orientation\":\"h\",\"text\":[\"<0.01\",\"<0.01\",\"<0.01\",\"0.03\",\"0.03\",\"0.07\",\"0.08\",\"0.16\",\"0.22\",\"0.40\"],\"textposition\":\"outside\",\"x\":[5.005645602849601e-05,0.00017607594900527393,0.0002972307670211744,0.029576456983996795,0.033491109823742725,0.06760354620292477,0.0845107846940444,0.16438199788562058,0.22347837597156256,0.3964343652660533],\"y\":[\"splitter\",\"criterion\",\"min_weight_fraction_leaf\",\"max_features\",\"min_samples_split\",\"min_impurity_decrease\",\"max_leaf_nodes\",\"max_depth\",\"ccp_alpha\",\"min_samples_leaf\"],\"type\":\"bar\"}],                        {\"showlegend\":false,\"title\":{\"text\":\"Hyperparameter Importances\"},\"xaxis\":{\"title\":{\"text\":\"Importance for Objective Value\"}},\"yaxis\":{\"title\":{\"text\":\"Hyperparameter\"}},\"template\":{\"data\":{\"bar\":[{\"error_x\":{\"color\":\"#2a3f5f\"},\"error_y\":{\"color\":\"#2a3f5f\"},\"marker\":{\"line\":{\"color\":\"#E5ECF6\",\"width\":0.5},\"pattern\":{\"fillmode\":\"overlay\",\"size\":10,\"solidity\":0.2}},\"type\":\"bar\"}],\"barpolar\":[{\"marker\":{\"line\":{\"color\":\"#E5ECF6\",\"width\":0.5},\"pattern\":{\"fillmode\":\"overlay\",\"size\":10,\"solidity\":0.2}},\"type\":\"barpolar\"}],\"carpet\":[{\"aaxis\":{\"endlinecolor\":\"#2a3f5f\",\"gridcolor\":\"white\",\"linecolor\":\"white\",\"minorgridcolor\":\"white\",\"startlinecolor\":\"#2a3f5f\"},\"baxis\":{\"endlinecolor\":\"#2a3f5f\",\"gridcolor\":\"white\",\"linecolor\":\"white\",\"minorgridcolor\":\"white\",\"startlinecolor\":\"#2a3f5f\"},\"type\":\"carpet\"}],\"choropleth\":[{\"colorbar\":{\"outlinewidth\":0,\"ticks\":\"\"},\"type\":\"choropleth\"}],\"contour\":[{\"colorbar\":{\"outlinewidth\":0,\"ticks\":\"\"},\"colorscale\":[[0.0,\"#0d0887\"],[0.1111111111111111,\"#46039f\"],[0.2222222222222222,\"#7201a8\"],[0.3333333333333333,\"#9c179e\"],[0.4444444444444444,\"#bd3786\"],[0.5555555555555556,\"#d8576b\"],[0.6666666666666666,\"#ed7953\"],[0.7777777777777778,\"#fb9f3a\"],[0.8888888888888888,\"#fdca26\"],[1.0,\"#f0f921\"]],\"type\":\"contour\"}],\"contourcarpet\":[{\"colorbar\":{\"outlinewidth\":0,\"ticks\":\"\"},\"type\":\"contourcarpet\"}],\"heatmap\":[{\"colorbar\":{\"outlinewidth\":0,\"ticks\":\"\"},\"colorscale\":[[0.0,\"#0d0887\"],[0.1111111111111111,\"#46039f\"],[0.2222222222222222,\"#7201a8\"],[0.3333333333333333,\"#9c179e\"],[0.4444444444444444,\"#bd3786\"],[0.5555555555555556,\"#d8576b\"],[0.6666666666666666,\"#ed7953\"],[0.7777777777777778,\"#fb9f3a\"],[0.8888888888888888,\"#fdca26\"],[1.0,\"#f0f921\"]],\"type\":\"heatmap\"}],\"heatmapgl\":[{\"colorbar\":{\"outlinewidth\":0,\"ticks\":\"\"},\"colorscale\":[[0.0,\"#0d0887\"],[0.1111111111111111,\"#46039f\"],[0.2222222222222222,\"#7201a8\"],[0.3333333333333333,\"#9c179e\"],[0.4444444444444444,\"#bd3786\"],[0.5555555555555556,\"#d8576b\"],[0.6666666666666666,\"#ed7953\"],[0.7777777777777778,\"#fb9f3a\"],[0.8888888888888888,\"#fdca26\"],[1.0,\"#f0f921\"]],\"type\":\"heatmapgl\"}],\"histogram\":[{\"marker\":{\"pattern\":{\"fillmode\":\"overlay\",\"size\":10,\"solidity\":0.2}},\"type\":\"histogram\"}],\"histogram2d\":[{\"colorbar\":{\"outlinewidth\":0,\"ticks\":\"\"},\"colorscale\":[[0.0,\"#0d0887\"],[0.1111111111111111,\"#46039f\"],[0.2222222222222222,\"#7201a8\"],[0.3333333333333333,\"#9c179e\"],[0.4444444444444444,\"#bd3786\"],[0.5555555555555556,\"#d8576b\"],[0.6666666666666666,\"#ed7953\"],[0.7777777777777778,\"#fb9f3a\"],[0.8888888888888888,\"#fdca26\"],[1.0,\"#f0f921\"]],\"type\":\"histogram2d\"}],\"histogram2dcontour\":[{\"colorbar\":{\"outlinewidth\":0,\"ticks\":\"\"},\"colorscale\":[[0.0,\"#0d0887\"],[0.1111111111111111,\"#46039f\"],[0.2222222222222222,\"#7201a8\"],[0.3333333333333333,\"#9c179e\"],[0.4444444444444444,\"#bd3786\"],[0.5555555555555556,\"#d8576b\"],[0.6666666666666666,\"#ed7953\"],[0.7777777777777778,\"#fb9f3a\"],[0.8888888888888888,\"#fdca26\"],[1.0,\"#f0f921\"]],\"type\":\"histogram2dcontour\"}],\"mesh3d\":[{\"colorbar\":{\"outlinewidth\":0,\"ticks\":\"\"},\"type\":\"mesh3d\"}],\"parcoords\":[{\"line\":{\"colorbar\":{\"outlinewidth\":0,\"ticks\":\"\"}},\"type\":\"parcoords\"}],\"pie\":[{\"automargin\":true,\"type\":\"pie\"}],\"scatter\":[{\"marker\":{\"colorbar\":{\"outlinewidth\":0,\"ticks\":\"\"}},\"type\":\"scatter\"}],\"scatter3d\":[{\"line\":{\"colorbar\":{\"outlinewidth\":0,\"ticks\":\"\"}},\"marker\":{\"colorbar\":{\"outlinewidth\":0,\"ticks\":\"\"}},\"type\":\"scatter3d\"}],\"scattercarpet\":[{\"marker\":{\"colorbar\":{\"outlinewidth\":0,\"ticks\":\"\"}},\"type\":\"scattercarpet\"}],\"scattergeo\":[{\"marker\":{\"colorbar\":{\"outlinewidth\":0,\"ticks\":\"\"}},\"type\":\"scattergeo\"}],\"scattergl\":[{\"marker\":{\"colorbar\":{\"outlinewidth\":0,\"ticks\":\"\"}},\"type\":\"scattergl\"}],\"scattermapbox\":[{\"marker\":{\"colorbar\":{\"outlinewidth\":0,\"ticks\":\"\"}},\"type\":\"scattermapbox\"}],\"scatterpolar\":[{\"marker\":{\"colorbar\":{\"outlinewidth\":0,\"ticks\":\"\"}},\"type\":\"scatterpolar\"}],\"scatterpolargl\":[{\"marker\":{\"colorbar\":{\"outlinewidth\":0,\"ticks\":\"\"}},\"type\":\"scatterpolargl\"}],\"scatterternary\":[{\"marker\":{\"colorbar\":{\"outlinewidth\":0,\"ticks\":\"\"}},\"type\":\"scatterternary\"}],\"surface\":[{\"colorbar\":{\"outlinewidth\":0,\"ticks\":\"\"},\"colorscale\":[[0.0,\"#0d0887\"],[0.1111111111111111,\"#46039f\"],[0.2222222222222222,\"#7201a8\"],[0.3333333333333333,\"#9c179e\"],[0.4444444444444444,\"#bd3786\"],[0.5555555555555556,\"#d8576b\"],[0.6666666666666666,\"#ed7953\"],[0.7777777777777778,\"#fb9f3a\"],[0.8888888888888888,\"#fdca26\"],[1.0,\"#f0f921\"]],\"type\":\"surface\"}],\"table\":[{\"cells\":{\"fill\":{\"color\":\"#EBF0F8\"},\"line\":{\"color\":\"white\"}},\"header\":{\"fill\":{\"color\":\"#C8D4E3\"},\"line\":{\"color\":\"white\"}},\"type\":\"table\"}]},\"layout\":{\"annotationdefaults\":{\"arrowcolor\":\"#2a3f5f\",\"arrowhead\":0,\"arrowwidth\":1},\"autotypenumbers\":\"strict\",\"coloraxis\":{\"colorbar\":{\"outlinewidth\":0,\"ticks\":\"\"}},\"colorscale\":{\"diverging\":[[0,\"#8e0152\"],[0.1,\"#c51b7d\"],[0.2,\"#de77ae\"],[0.3,\"#f1b6da\"],[0.4,\"#fde0ef\"],[0.5,\"#f7f7f7\"],[0.6,\"#e6f5d0\"],[0.7,\"#b8e186\"],[0.8,\"#7fbc41\"],[0.9,\"#4d9221\"],[1,\"#276419\"]],\"sequential\":[[0.0,\"#0d0887\"],[0.1111111111111111,\"#46039f\"],[0.2222222222222222,\"#7201a8\"],[0.3333333333333333,\"#9c179e\"],[0.4444444444444444,\"#bd3786\"],[0.5555555555555556,\"#d8576b\"],[0.6666666666666666,\"#ed7953\"],[0.7777777777777778,\"#fb9f3a\"],[0.8888888888888888,\"#fdca26\"],[1.0,\"#f0f921\"]],\"sequentialminus\":[[0.0,\"#0d0887\"],[0.1111111111111111,\"#46039f\"],[0.2222222222222222,\"#7201a8\"],[0.3333333333333333,\"#9c179e\"],[0.4444444444444444,\"#bd3786\"],[0.5555555555555556,\"#d8576b\"],[0.6666666666666666,\"#ed7953\"],[0.7777777777777778,\"#fb9f3a\"],[0.8888888888888888,\"#fdca26\"],[1.0,\"#f0f921\"]]},\"colorway\":[\"#636efa\",\"#EF553B\",\"#00cc96\",\"#ab63fa\",\"#FFA15A\",\"#19d3f3\",\"#FF6692\",\"#B6E880\",\"#FF97FF\",\"#FECB52\"],\"font\":{\"color\":\"#2a3f5f\"},\"geo\":{\"bgcolor\":\"white\",\"lakecolor\":\"white\",\"landcolor\":\"#E5ECF6\",\"showlakes\":true,\"showland\":true,\"subunitcolor\":\"white\"},\"hoverlabel\":{\"align\":\"left\"},\"hovermode\":\"closest\",\"mapbox\":{\"style\":\"light\"},\"paper_bgcolor\":\"white\",\"plot_bgcolor\":\"#E5ECF6\",\"polar\":{\"angularaxis\":{\"gridcolor\":\"white\",\"linecolor\":\"white\",\"ticks\":\"\"},\"bgcolor\":\"#E5ECF6\",\"radialaxis\":{\"gridcolor\":\"white\",\"linecolor\":\"white\",\"ticks\":\"\"}},\"scene\":{\"xaxis\":{\"backgroundcolor\":\"#E5ECF6\",\"gridcolor\":\"white\",\"gridwidth\":2,\"linecolor\":\"white\",\"showbackground\":true,\"ticks\":\"\",\"zerolinecolor\":\"white\"},\"yaxis\":{\"backgroundcolor\":\"#E5ECF6\",\"gridcolor\":\"white\",\"gridwidth\":2,\"linecolor\":\"white\",\"showbackground\":true,\"ticks\":\"\",\"zerolinecolor\":\"white\"},\"zaxis\":{\"backgroundcolor\":\"#E5ECF6\",\"gridcolor\":\"white\",\"gridwidth\":2,\"linecolor\":\"white\",\"showbackground\":true,\"ticks\":\"\",\"zerolinecolor\":\"white\"}},\"shapedefaults\":{\"line\":{\"color\":\"#2a3f5f\"}},\"ternary\":{\"aaxis\":{\"gridcolor\":\"white\",\"linecolor\":\"white\",\"ticks\":\"\"},\"baxis\":{\"gridcolor\":\"white\",\"linecolor\":\"white\",\"ticks\":\"\"},\"bgcolor\":\"#E5ECF6\",\"caxis\":{\"gridcolor\":\"white\",\"linecolor\":\"white\",\"ticks\":\"\"}},\"title\":{\"x\":0.05},\"xaxis\":{\"automargin\":true,\"gridcolor\":\"white\",\"linecolor\":\"white\",\"ticks\":\"\",\"title\":{\"standoff\":15},\"zerolinecolor\":\"white\",\"zerolinewidth\":2},\"yaxis\":{\"automargin\":true,\"gridcolor\":\"white\",\"linecolor\":\"white\",\"ticks\":\"\",\"title\":{\"standoff\":15},\"zerolinecolor\":\"white\",\"zerolinewidth\":2}}}},                        {\"responsive\": true}                    ).then(function(){\n",
              "                            \n",
              "var gd = document.getElementById('7ef28e86-6cc9-49ef-b6b1-075479e67845');\n",
              "var x = new MutationObserver(function (mutations, observer) {{\n",
              "        var display = window.getComputedStyle(gd).display;\n",
              "        if (!display || display === 'none') {{\n",
              "            console.log([gd, 'removed!']);\n",
              "            Plotly.purge(gd);\n",
              "            observer.disconnect();\n",
              "        }}\n",
              "}});\n",
              "\n",
              "// Listen for the removal of the full notebook cells\n",
              "var notebookContainer = gd.closest('#notebook-container');\n",
              "if (notebookContainer) {{\n",
              "    x.observe(notebookContainer, {childList: true});\n",
              "}}\n",
              "\n",
              "// Listen for the clearing of the current output cell\n",
              "var outputEl = gd.closest('.output');\n",
              "if (outputEl) {{\n",
              "    x.observe(outputEl, {childList: true});\n",
              "}}\n",
              "\n",
              "                        })                };                            </script>        </div>\n",
              "</body>\n",
              "</html>"
            ]
          },
          "metadata": {},
          "output_type": "display_data"
        }
      ],
      "source": [
        "optuna.visualization.plot_param_importances(study_DecisionTreeClassifier)"
      ]
    },
    {
      "cell_type": "markdown",
      "source": [
        "Оптимальные параметры для DecisionTreeClassifier и модель с ними"
      ],
      "metadata": {
        "id": "ECNkGyEp9sXr"
      }
    },
    {
      "cell_type": "code",
      "execution_count": null,
      "metadata": {
        "colab": {
          "base_uri": "https://localhost:8080/"
        },
        "id": "XMnvmuMsNHKc",
        "outputId": "393adc40-f322-4344-e2bf-3f6403bc6841"
      },
      "outputs": [
        {
          "name": "stdout",
          "output_type": "stream",
          "text": [
            "Number of finished trials:  5192\n",
            "Best trial:\n",
            "  Value:  0.6767731805001548\n",
            "  Params: \n",
            "    criterion: entropy\n",
            "    splitter: best\n",
            "    max_depth: 79208\n",
            "    min_samples_split: 358\n",
            "    min_samples_leaf: 53\n",
            "    min_weight_fraction_leaf: 0.0002841651598423179\n",
            "    max_features: None\n",
            "    max_leaf_nodes: 7557\n",
            "    min_impurity_decrease: 0.00012436862032269696\n",
            "    ccp_alpha: 0.00035390484466121726\n"
          ]
        }
      ],
      "source": [
        "print(\"Number of finished trials: \", len(study_DecisionTreeClassifier.trials))\n",
        "print(\"Best trial:\")\n",
        "trial_DecisionTreeClassifier = study_DecisionTreeClassifier.best_trial\n",
        "print(\"  Value: \", trial_DecisionTreeClassifier.value)\n",
        "print(\"  Params: \")\n",
        "for key, value in trial_DecisionTreeClassifier.params.items():\n",
        "  print(\"    {}: {}\".format(key, value))"
      ]
    },
    {
      "cell_type": "code",
      "execution_count": null,
      "metadata": {
        "colab": {
          "base_uri": "https://localhost:8080/",
          "height": 517
        },
        "id": "p34hyDQNw1GJ",
        "outputId": "d270924d-803a-4c8a-ef39-98769f2656c9"
      },
      "outputs": [
        {
          "name": "stdout",
          "output_type": "stream",
          "text": [
            "Result score: 0.6767731805001548\n"
          ]
        },
        {
          "data": {
            "image/png": "[encoded data removed]",
            "text/plain": [
              "<Figure size 1080x504 with 2 Axes>"
            ]
          },
          "metadata": {},
          "output_type": "display_data"
        }
      ],
      "source": [
        "results(DecisionTreeClassifier(**trial_DecisionTreeClassifier.params), X_train, X_test, y_train, y_test)"
      ]
    },
    {
      "cell_type": "markdown",
      "metadata": {
        "id": "ZU5bLZeqs1oN"
      },
      "source": [
        "**BaggingClassifier**"
      ]
    },
    {
      "cell_type": "code",
      "execution_count": null,
      "metadata": {
        "colab": {
          "base_uri": "https://localhost:8080/"
        },
        "id": "Q4pEl4bTs9e1",
        "outputId": "c22bdef0-b64d-42da-af6f-1b2db4bf6a02"
      },
      "outputs": [
        {
          "name": "stdout",
          "output_type": "stream",
          "text": [
            "Result score: 0.6263717091919188\n",
            "Result score: 0.6181655818281704\n",
            "Result score: 0.6869604536898447\n"
          ]
        }
      ],
      "source": [
        "from sklearn.ensemble import BaggingClassifier\n",
        "\n",
        "results(BaggingClassifier(LogisticRegression(random_state = 42), random_state = 42), X_train, X_test, y_train, y_test, cf_matrix_plot = 'No')\n",
        "results(BaggingClassifier(LinearSVC(random_state = 42), random_state = 42), X_train, X_test, y_train, y_test, cf_matrix_plot = 'No')\n",
        "results(BaggingClassifier(DecisionTreeClassifier(random_state = 42), random_state = 42), X_train, X_test, y_train, y_test, cf_matrix_plot = 'No')"
      ]
    },
    {
      "cell_type": "markdown",
      "source": [
        "Сверху представлена работа бэггинга на стандартных параметрах\n",
        "\n",
        "Снизу по подобранным гиперпараметрам, как видим, для бэггинга на логистической регрессии, результат стал лучше, для Деревьев наоборот"
      ],
      "metadata": {
        "id": "s16jsJrO-uEz"
      }
    },
    {
      "cell_type": "code",
      "execution_count": null,
      "metadata": {
        "colab": {
          "base_uri": "https://localhost:8080/"
        },
        "id": "JoASl2re2kbP",
        "outputId": "7990c92f-abfd-472d-ccab-6d9a05a5bc2e"
      },
      "outputs": [
        {
          "name": "stdout",
          "output_type": "stream",
          "text": [
            "Result score: 0.6300720098771717\n",
            "Result score: 0.6571454932376507\n"
          ]
        }
      ],
      "source": [
        "results(BaggingClassifier(LogisticRegression(**trial.params), random_state = 42), X_train, X_test, y_train, y_test, cf_matrix_plot = 'No')\n",
        "results(BaggingClassifier(DecisionTreeClassifier(**trial_DecisionTreeClassifier.params), random_state = 42), X_train, X_test, y_train, y_test, cf_matrix_plot = 'No')"
      ]
    },
    {
      "cell_type": "markdown",
      "metadata": {
        "id": "YqhIGMVrv6dZ"
      },
      "source": [
        "**RandomForestClassifier**"
      ]
    },
    {
      "cell_type": "code",
      "execution_count": null,
      "metadata": {
        "colab": {
          "base_uri": "https://localhost:8080/"
        },
        "id": "mNeL5eNTu2ie",
        "outputId": "5bf55ad0-3945-41a9-a396-d406b5bfc454"
      },
      "outputs": [
        {
          "name": "stdout",
          "output_type": "stream",
          "text": [
            "Result score: 0.678018947443272\n"
          ]
        }
      ],
      "source": [
        "from sklearn.ensemble import RandomForestClassifier\n",
        "\n",
        "results(RandomForestClassifier(random_state = 42), X_train, X_test, y_train, y_test, cf_matrix_plot = 'No')"
      ]
    },
    {
      "cell_type": "markdown",
      "metadata": {
        "id": "d1xxzmwSwGOs"
      },
      "source": [
        "**StackingClassifier**"
      ]
    },
    {
      "cell_type": "code",
      "execution_count": null,
      "metadata": {
        "colab": {
          "base_uri": "https://localhost:8080/"
        },
        "id": "7UTIKpRqwK8T",
        "outputId": "1bd910f7-c362-44ec-87e9-ed11d8a29ad1"
      },
      "outputs": [
        {
          "name": "stdout",
          "output_type": "stream",
          "text": [
            "Result score: 0.6488796290216656\n",
            "Result score: 0.6142661594552212\n",
            "Result score: 0.658100760319315\n"
          ]
        }
      ],
      "source": [
        "from sklearn.ensemble import StackingClassifier\n",
        "\n",
        "results(StackingClassifier([(\"tree\", DecisionTreeClassifier(random_state = 42)), \n",
        "                                (\"logistic\", LogisticRegression(random_state = 42))], \n",
        "                               final_estimator = LinearSVC(random_state = 42)), \n",
        "        X_train, X_test, y_train, y_test, cf_matrix_plot = 'No')\n",
        "\n",
        "results(StackingClassifier([(\"tree\", DecisionTreeClassifier(random_state = 42)), \n",
        "                                (\"logistic\", LogisticRegression(random_state = 42))], \n",
        "                               final_estimator = DecisionTreeClassifier(random_state = 42)), \n",
        "        X_train, X_test, y_train, y_test, cf_matrix_plot = 'No')\n",
        "\n",
        "results(StackingClassifier([(\"tree\", DecisionTreeClassifier(random_state = 42)), \n",
        "                                (\"logistic\", LogisticRegression(random_state = 42))], \n",
        "                               final_estimator = LogisticRegression(random_state = 42)), \n",
        "        X_train, X_test, y_train, y_test, cf_matrix_plot = 'No')"
      ]
    },
    {
      "cell_type": "markdown",
      "source": [
        "Аналогично бэггингу были построены модели стекинга с гиперпараметрами по умолчанию и подобранными через optuna? во всех случаях подобранные гипермапарметры улучшили результат"
      ],
      "metadata": {
        "id": "AWOL4E2k_GYD"
      }
    },
    {
      "cell_type": "code",
      "execution_count": null,
      "metadata": {
        "colab": {
          "base_uri": "https://localhost:8080/"
        },
        "id": "lrBFVgBf3gaf",
        "outputId": "75c934fb-d417-4476-b7d8-b0ed6f5507c0"
      },
      "outputs": [
        {
          "name": "stdout",
          "output_type": "stream",
          "text": [
            "Result score: 0.6708761682119446\n",
            "Result score: 0.6679720337015767\n",
            "Result score: 0.6781843915637816\n"
          ]
        }
      ],
      "source": [
        "results(StackingClassifier([(\"tree\", DecisionTreeClassifier(**trial_DecisionTreeClassifier.params)), \n",
        "                                (\"logistic\", LogisticRegression(**trial.params))], \n",
        "                               final_estimator = LinearSVC(random_state = 42)), \n",
        "        X_train, X_test, y_train, y_test, cf_matrix_plot = 'No')\n",
        "\n",
        "results(StackingClassifier([(\"tree\", DecisionTreeClassifier(**trial_DecisionTreeClassifier.params)), \n",
        "                                (\"logistic\", LogisticRegression(**trial.params))], \n",
        "                               final_estimator = DecisionTreeClassifier(**trial_DecisionTreeClassifier.params)), \n",
        "        X_train, X_test, y_train, y_test, cf_matrix_plot = 'No')\n",
        "\n",
        "results(StackingClassifier([(\"tree\", DecisionTreeClassifier(**trial_DecisionTreeClassifier.params)), \n",
        "                                (\"logistic\", LogisticRegression(**trial.params))], \n",
        "                               final_estimator = LogisticRegression(**trial.params)), \n",
        "        X_train, X_test, y_train, y_test, cf_matrix_plot = 'No')"
      ]
    },
    {
      "cell_type": "markdown",
      "metadata": {
        "id": "5_Qa9fjVxNc0"
      },
      "source": [
        "**BoostingClassifier**"
      ]
    },
    {
      "cell_type": "code",
      "execution_count": null,
      "metadata": {
        "colab": {
          "base_uri": "https://localhost:8080/"
        },
        "id": "ljGn4OcDxVHd",
        "outputId": "8ad223ff-64b1-449f-9f9e-720d8722b495"
      },
      "outputs": [
        {
          "name": "stdout",
          "output_type": "stream",
          "text": [
            "Result score: 0.7123046694158908\n",
            "Result score: 0.666805518547794\n"
          ]
        }
      ],
      "source": [
        "from sklearn.ensemble import HistGradientBoostingClassifier, GradientBoostingClassifier\n",
        "\n",
        "results(HistGradientBoostingClassifier(random_state = 42), X_train, X_test, y_train, y_test, cf_matrix_plot = 'No')\n",
        "results(GradientBoostingClassifier(random_state = 42), X_train, X_test, y_train, y_test, cf_matrix_plot = 'No')"
      ]
    },
    {
      "cell_type": "markdown",
      "source": [
        "Поскольку лучше себя показал HistGradientBoostingClassifier, подберем гиперпараметры для него "
      ],
      "metadata": {
        "id": "NR7yt1Hs_Wn1"
      }
    },
    {
      "cell_type": "code",
      "execution_count": null,
      "metadata": {
        "id": "wThKC4Qdegeh"
      },
      "outputs": [],
      "source": [
        "def objective_HistGradientBoostingClassifier(trial):\n",
        "    model = HistGradientBoostingClassifier(\n",
        "        learning_rate =  trial.suggest_float(\"learning_rate\", 1e-4, 1, log=True),\n",
        "        max_iter = trial.suggest_int(\"max_iter\", 1, 2000),\n",
        "        max_leaf_nodes =  trial.suggest_int(\"max_leaf_nodes\", 1, 10000),\n",
        "        max_depth = trial.suggest_int(\"max_depth\", 1, 10000),\n",
        "        min_samples_leaf = trial.suggest_int(\"min_samples_leaf\", 2, 1000),\n",
        "        l2_regularization = trial.suggest_float(\"l2_regularization\", 0, 4),\n",
        "        max_bins = trial.suggest_int(\"max_bins\", 1, 255),\n",
        "        tol = trial.suggest_float(\"tol\", 1e-9, 1e-2, log=True),\n",
        "    )\n",
        "    model.fit(X_train, y_train)\n",
        "    y_pred = model.predict(X_test)\n",
        "    return f1_score(y_test, y_pred, average='weighted')\n",
        "\n",
        "study_HistGradientBoostingClassifier = optuna.create_study(study_name=\"HistGradientBoostingClassifier\", direction=\"maximize\")\n",
        "study_HistGradientBoostingClassifier.optimize(objective_HistGradientBoostingClassifier, n_trials=100)"
      ]
    },
    {
      "cell_type": "markdown",
      "source": [
        "Лучшие параметры для HistGradientBoostingClassifier:\n",
        "\n",
        "Number of finished trials:  100\n",
        "\n",
        "**Best trial:**\n",
        "\n",
        "  Value:  0.7185453270599408\n",
        "\n",
        "  **Params:** \n",
        "\n",
        "  learning_rate: 0.017850504943964514\n",
        "\n",
        "  max_iter: 1908\n",
        "\n",
        "  max_leaf_nodes: 7345\n",
        "\n",
        "  max_depth: 5733\n",
        "\n",
        "  min_samples_leaf: 309\n",
        "\n",
        "  l2_regularization: 2.162025746431885\n",
        "\n",
        "  max_bins: 79\n",
        "\n",
        "  tol: 3.5611931258287427e-07\n"
      ],
      "metadata": {
        "id": "wpN32FzN_jLc"
      }
    },
    {
      "cell_type": "markdown",
      "metadata": {
        "id": "B0VDjI1_x4rD"
      },
      "source": [
        "**AdaBoostClassifier**"
      ]
    },
    {
      "cell_type": "code",
      "execution_count": null,
      "metadata": {
        "colab": {
          "base_uri": "https://localhost:8080/"
        },
        "id": "HtF_OfYDx5hf",
        "outputId": "2ef4f7ba-719e-4981-9d66-2098095bcf98"
      },
      "outputs": [
        {
          "name": "stdout",
          "output_type": "stream",
          "text": [
            "Result score: 0.5869841033721473\n",
            "Result score: 0.6740911534894761\n"
          ]
        }
      ],
      "source": [
        "from sklearn.ensemble import AdaBoostClassifier\n",
        "\n",
        "results(AdaBoostClassifier(LogisticRegression(random_state = 42), random_state = 42), X_train, X_test, y_train, y_test, cf_matrix_plot = 'No')\n",
        "results(AdaBoostClassifier(DecisionTreeClassifier(random_state = 42), random_state = 42), X_train, X_test, y_train, y_test, cf_matrix_plot = 'No')"
      ]
    },
    {
      "cell_type": "markdown",
      "metadata": {
        "id": "V2W9pjt0yeWk"
      },
      "source": [
        "XGBoost"
      ]
    },
    {
      "cell_type": "code",
      "execution_count": null,
      "metadata": {
        "id": "ftUgSLnxyq10"
      },
      "outputs": [],
      "source": [
        "!pip install xgboost"
      ]
    },
    {
      "cell_type": "code",
      "execution_count": 35,
      "metadata": {
        "colab": {
          "base_uri": "https://localhost:8080/",
          "height": 517
        },
        "id": "vyBMf9CCyeDU",
        "outputId": "011abeaa-a5fe-4eae-b839-285929cdba57"
      },
      "outputs": [
        {
          "output_type": "stream",
          "name": "stdout",
          "text": [
            "Result score: 0.6461533895336197\n"
          ]
        },
        {
          "output_type": "display_data",
          "data": {
            "text/plain": [
              "<Figure size 1080x504 with 2 Axes>"
            ],
            "image/png": "[encoded data removed]"
          },
          "metadata": {
            "needs_background": "light"
          }
        }
      ],
      "source": [
        "from xgboost import XGBClassifier\n",
        "\n",
        "results(XGBClassifier(random_state = 42), X_train, X_test, y_train, y_test)"
      ]
    },
    {
      "cell_type": "markdown",
      "metadata": {
        "id": "obLnUIlZjeJu"
      },
      "source": [
        "**CatBoost**"
      ]
    },
    {
      "cell_type": "code",
      "execution_count": null,
      "metadata": {
        "id": "jkyNYI6pcymG"
      },
      "outputs": [],
      "source": [
        "!pip install catboost"
      ]
    },
    {
      "cell_type": "code",
      "execution_count": 37,
      "metadata": {
        "colab": {
          "base_uri": "https://localhost:8080/",
          "height": 587
        },
        "id": "L4JjHFksczgV",
        "outputId": "475522a7-2579-4331-f20b-4ba3e44122f7"
      },
      "outputs": [
        {
          "output_type": "stream",
          "name": "stdout",
          "text": [
            "Learning rate set to 0.094012\n",
            "0:\tlearn: 1.0330866\ttotal: 123ms\tremaining: 2m 2s\n",
            "500:\tlearn: 0.5169072\ttotal: 22.8s\tremaining: 22.7s\n",
            "999:\tlearn: 0.4586300\ttotal: 36.4s\tremaining: 0us\n",
            "Result score: 0.7195775813603676\n"
          ]
        },
        {
          "output_type": "display_data",
          "data": {
            "text/plain": [
              "<Figure size 1080x504 with 2 Axes>"
            ],
            "image/png": "[encoded data removed]"
          },
          "metadata": {
            "needs_background": "light"
          }
        }
      ],
      "source": [
        "from catboost import CatBoostClassifier\n",
        "\n",
        "results(CatBoostClassifier(metric_period=500), X_train, X_test, y_train, y_test)"
      ]
    },
    {
      "cell_type": "markdown",
      "source": [
        "Видим, что Catboost по умолчанию показал лучший результат, подберем для него гиперпараметры ниже"
      ],
      "metadata": {
        "id": "XJxcXQIHCtgH"
      }
    },
    {
      "cell_type": "code",
      "execution_count": null,
      "metadata": {
        "id": "ZUlTFvv3GBtN"
      },
      "outputs": [],
      "source": [
        "def objective_CatBoostClassifier(trial):\n",
        "    model = CatBoostClassifier(        \n",
        "        iterations =  trial.suggest_int(\"iterations\", 100, 5000),\n",
        "        learning_rate =  trial.suggest_float(\"learning_rate\", 1e-2, 1, log=True),\n",
        "        depth = trial.suggest_int(\"depth\", 6, 10),\n",
        "        verbose=False\n",
        "    )\n",
        "    model.fit(X_train, y_train)\n",
        "    y_pred = model.predict(X_test)\n",
        "    return f1_score(y_test, y_pred, average='weighted')\n",
        "\n",
        "study_catboost = optuna.create_study(study_name=\"CatBoostClassifier\", direction=\"maximize\")\n",
        "study_catboost.optimize(objective_CatBoostClassifier, n_trials=100)"
      ]
    },
    {
      "cell_type": "markdown",
      "source": [
        "Для Catboost были подобраны следующие гиперпараметры и построена модель по ним"
      ],
      "metadata": {
        "id": "PAXsvBReDVwE"
      }
    },
    {
      "cell_type": "code",
      "execution_count": null,
      "metadata": {
        "id": "8oM9CQWq1K3i",
        "colab": {
          "base_uri": "https://localhost:8080/"
        },
        "outputId": "46c46c14-82cb-411a-edfe-47cda85f165b"
      },
      "outputs": [
        {
          "output_type": "stream",
          "name": "stdout",
          "text": [
            "Number of finished trials: 100\n",
            "Best trial:\n",
            "  Value: 0.7244873173117328\n",
            "  Params: \n",
            "    iterations: 1118\n",
            "    learning_rate: 0.09881936390555003\n",
            "    depth: 6\n"
          ]
        }
      ],
      "source": [
        "print(\"Number of finished trials: {}\".format(len(study_catboost.trials)))\n",
        "print(\"Best trial:\")\n",
        "trial_catboost = study_catboost.best_trial\n",
        "print(\"  Value: {}\".format(trial_catboost.value))\n",
        "print(\"  Params: \")\n",
        "for key, value in trial_catboost.params.items():\n",
        "  print(\"    {}: {}\".format(key, value))"
      ]
    },
    {
      "cell_type": "code",
      "execution_count": null,
      "metadata": {
        "id": "JCI0y7-t1Tlj",
        "colab": {
          "base_uri": "https://localhost:8080/",
          "height": 639
        },
        "outputId": "b7dea221-14af-447a-dd92-ef618b50dacc"
      },
      "outputs": [
        {
          "output_type": "stream",
          "name": "stdout",
          "text": [
            "0:\tlearn: 1.0299132\ttotal: 34.4ms\tremaining: 38.4s\n",
            "200:\tlearn: 0.5682340\ttotal: 5.95s\tremaining: 27.2s\n",
            "400:\tlearn: 0.5281945\ttotal: 11.7s\tremaining: 20.9s\n",
            "600:\tlearn: 0.4986550\ttotal: 17.5s\tremaining: 15s\n",
            "800:\tlearn: 0.4746424\ttotal: 23.3s\tremaining: 9.21s\n",
            "1000:\tlearn: 0.4526313\ttotal: 29.1s\tremaining: 3.41s\n",
            "1117:\tlearn: 0.4413700\ttotal: 32.6s\tremaining: 0us\n",
            "Result score: 0.7244873173117328\n"
          ]
        },
        {
          "output_type": "display_data",
          "data": {
            "text/plain": [
              "<Figure size 1080x504 with 2 Axes>"
            ],
            "image/png": "[encoded data removed]"
          },
          "metadata": {
            "needs_background": "light"
          }
        }
      ],
      "source": [
        "results(CatBoostClassifier(iterations= 1118, learning_rate = 0.09881936390555003, depth = 6, metric_period=200), X_train, X_test, y_train, y_test)"
      ]
    },
    {
      "cell_type": "markdown",
      "source": [
        "В заключении можно подвести следующие итоги по результатам экспериментов:\n",
        "\n",
        "3 лучших модели и их результаты:\n",
        "\n",
        "1.   **Catboost** - Result score: 0.7244873173117328\n",
        "2.   **HistGradientBoostingClassifier**  - Result score: 0.7185453270599408\n",
        "3.   **BaggingClassifier на DecisionTree с параметрами по умолчанию** -  Result score: 0.6869604536898447\n"
      ],
      "metadata": {
        "id": "ctQOCLH6Dnfk"
      }
    },
    {
      "cell_type": "markdown",
      "metadata": {
        "id": "LYRDFY9NSkd7"
      },
      "source": [
        "# **Этап 5: Анализ ошибок модели**"
      ]
    },
    {
      "cell_type": "markdown",
      "source": [
        "Поскольку Catboost показал лучшие результаты, то рассмотрим его ошибки и проанализируем возможные зависимости в ошибках. Столбцы с ОНЕ брать не будем, так как по ним проблематично провести нормальный анализ."
      ],
      "metadata": {
        "id": "qHU6rjEpG3Bx"
      }
    },
    {
      "cell_type": "code",
      "execution_count": 43,
      "metadata": {
        "id": "kWyuaBoFSqmC"
      },
      "outputs": [],
      "source": [
        "сat = CatBoostClassifier(iterations= 1118, learning_rate = 0.09881936390555003, depth = 6, verbose=False)\n",
        "сat.fit(X_train, y_train)\n",
        "y_pred = сat.predict(X_test)"
      ]
    },
    {
      "cell_type": "markdown",
      "source": [
        "Посмотрим важность признаков по нашей модели для дальнейшего анализа."
      ],
      "metadata": {
        "id": "M7e0Fqvyzc-y"
      }
    },
    {
      "cell_type": "code",
      "source": [
        "df_feature_importance = pd.DataFrame(list(zip(X_test.columns.values.tolist(), сat.get_feature_importance())),\n",
        "               columns =['features', 'Importance'])\n",
        "df_feature_importance.sort_values(by='Importance', ascending=False).head(10)"
      ],
      "metadata": {
        "colab": {
          "base_uri": "https://localhost:8080/",
          "height": 363
        },
        "id": "Qn_kRw670ogl",
        "outputId": "9b0c14ce-40d8-4bb0-9161-a56ab19de2ac"
      },
      "execution_count": 44,
      "outputs": [
        {
          "output_type": "execute_result",
          "data": {
            "text/plain": [
              "            features  Importance\n",
              "4              price   22.179021\n",
              "2           latitude   11.102877\n",
              "1           bedrooms   10.180677\n",
              "3          longitude    9.919498\n",
              "7          descr_len    7.024757\n",
              "8   datetime_created    6.731707\n",
              "6      num_of_photos    5.985972\n",
              "5    num_of_features    3.843137\n",
              "16            NO FEE    3.384154\n",
              "10   HARDWOOD FLOORS    2.091485"
            ],
            "text/html": [
              "\n",
              "  <div id=\"df-9841687c-3947-4b5e-ae2b-6c4c38bdd933\">\n",
              "    <div class=\"colab-df-container\">\n",
              "      <div>\n",
              "<style scoped>\n",
              "    .dataframe tbody tr th:only-of-type {\n",
              "        vertical-align: middle;\n",
              "    }\n",
              "\n",
              "    .dataframe tbody tr th {\n",
              "        vertical-align: top;\n",
              "    }\n",
              "\n",
              "    .dataframe thead th {\n",
              "        text-align: right;\n",
              "    }\n",
              "</style>\n",
              "<table border=\"1\" class=\"dataframe\">\n",
              "  <thead>\n",
              "    <tr style=\"text-align: right;\">\n",
              "      <th></th>\n",
              "      <th>features</th>\n",
              "      <th>Importance</th>\n",
              "    </tr>\n",
              "  </thead>\n",
              "  <tbody>\n",
              "    <tr>\n",
              "      <th>4</th>\n",
              "      <td>price</td>\n",
              "      <td>22.179021</td>\n",
              "    </tr>\n",
              "    <tr>\n",
              "      <th>2</th>\n",
              "      <td>latitude</td>\n",
              "      <td>11.102877</td>\n",
              "    </tr>\n",
              "    <tr>\n",
              "      <th>1</th>\n",
              "      <td>bedrooms</td>\n",
              "      <td>10.180677</td>\n",
              "    </tr>\n",
              "    <tr>\n",
              "      <th>3</th>\n",
              "      <td>longitude</td>\n",
              "      <td>9.919498</td>\n",
              "    </tr>\n",
              "    <tr>\n",
              "      <th>7</th>\n",
              "      <td>descr_len</td>\n",
              "      <td>7.024757</td>\n",
              "    </tr>\n",
              "    <tr>\n",
              "      <th>8</th>\n",
              "      <td>datetime_created</td>\n",
              "      <td>6.731707</td>\n",
              "    </tr>\n",
              "    <tr>\n",
              "      <th>6</th>\n",
              "      <td>num_of_photos</td>\n",
              "      <td>5.985972</td>\n",
              "    </tr>\n",
              "    <tr>\n",
              "      <th>5</th>\n",
              "      <td>num_of_features</td>\n",
              "      <td>3.843137</td>\n",
              "    </tr>\n",
              "    <tr>\n",
              "      <th>16</th>\n",
              "      <td>NO FEE</td>\n",
              "      <td>3.384154</td>\n",
              "    </tr>\n",
              "    <tr>\n",
              "      <th>10</th>\n",
              "      <td>HARDWOOD FLOORS</td>\n",
              "      <td>2.091485</td>\n",
              "    </tr>\n",
              "  </tbody>\n",
              "</table>\n",
              "</div>\n",
              "      <button class=\"colab-df-convert\" onclick=\"convertToInteractive('df-9841687c-3947-4b5e-ae2b-6c4c38bdd933')\"\n",
              "              title=\"Convert this dataframe to an interactive table.\"\n",
              "              style=\"display:none;\">\n",
              "        \n",
              "  <svg xmlns=\"http://www.w3.org/2000/svg\" height=\"24px\"viewBox=\"0 0 24 24\"\n",
              "       width=\"24px\">\n",
              "    <path d=\"M0 0h24v24H0V0z\" fill=\"none\"/>\n",
              "    <path d=\"M18.56 5.44l.94 2.06.94-2.06 2.06-.94-2.06-.94-.94-2.06-.94 2.06-2.06.94zm-11 1L8.5 8.5l.94-2.06 2.06-.94-2.06-.94L8.5 2.5l-.94 2.06-2.06.94zm10 10l.94 2.06.94-2.06 2.06-.94-2.06-.94-.94-2.06-.94 2.06-2.06.94z\"/><path d=\"M17.41 7.96l-1.37-1.37c-.4-.4-.92-.59-1.43-.59-.52 0-1.04.2-1.43.59L10.3 9.45l-7.72 7.72c-.78.78-.78 2.05 0 2.83L4 21.41c.39.39.9.59 1.41.59.51 0 1.02-.2 1.41-.59l7.78-7.78 2.81-2.81c.8-.78.8-2.07 0-2.86zM5.41 20L4 18.59l7.72-7.72 1.47 1.35L5.41 20z\"/>\n",
              "  </svg>\n",
              "      </button>\n",
              "      \n",
              "  <style>\n",
              "    .colab-df-container {\n",
              "      display:flex;\n",
              "      flex-wrap:wrap;\n",
              "      gap: 12px;\n",
              "    }\n",
              "\n",
              "    .colab-df-convert {\n",
              "      background-color: #E8F0FE;\n",
              "      border: none;\n",
              "      border-radius: 50%;\n",
              "      cursor: pointer;\n",
              "      display: none;\n",
              "      fill: #1967D2;\n",
              "      height: 32px;\n",
              "      padding: 0 0 0 0;\n",
              "      width: 32px;\n",
              "    }\n",
              "\n",
              "    .colab-df-convert:hover {\n",
              "      background-color: #E2EBFA;\n",
              "      box-shadow: 0px 1px 2px rgba(60, 64, 67, 0.3), 0px 1px 3px 1px rgba(60, 64, 67, 0.15);\n",
              "      fill: #174EA6;\n",
              "    }\n",
              "\n",
              "    [theme=dark] .colab-df-convert {\n",
              "      background-color: #3B4455;\n",
              "      fill: #D2E3FC;\n",
              "    }\n",
              "\n",
              "    [theme=dark] .colab-df-convert:hover {\n",
              "      background-color: #434B5C;\n",
              "      box-shadow: 0px 1px 3px 1px rgba(0, 0, 0, 0.15);\n",
              "      filter: drop-shadow(0px 1px 2px rgba(0, 0, 0, 0.3));\n",
              "      fill: #FFFFFF;\n",
              "    }\n",
              "  </style>\n",
              "\n",
              "      <script>\n",
              "        const buttonEl =\n",
              "          document.querySelector('#df-9841687c-3947-4b5e-ae2b-6c4c38bdd933 button.colab-df-convert');\n",
              "        buttonEl.style.display =\n",
              "          google.colab.kernel.accessAllowed ? 'block' : 'none';\n",
              "\n",
              "        async function convertToInteractive(key) {\n",
              "          const element = document.querySelector('#df-9841687c-3947-4b5e-ae2b-6c4c38bdd933');\n",
              "          const dataTable =\n",
              "            await google.colab.kernel.invokeFunction('convertToInteractive',\n",
              "                                                     [key], {});\n",
              "          if (!dataTable) return;\n",
              "\n",
              "          const docLinkHtml = 'Like what you see? Visit the ' +\n",
              "            '<a target=\"_blank\" href=https://colab.research.google.com/notebooks/data_table.ipynb>data table notebook</a>'\n",
              "            + ' to learn more about interactive tables.';\n",
              "          element.innerHTML = '';\n",
              "          dataTable['output_type'] = 'display_data';\n",
              "          await google.colab.output.renderOutput(dataTable, element);\n",
              "          const docLink = document.createElement('div');\n",
              "          docLink.innerHTML = docLinkHtml;\n",
              "          element.appendChild(docLink);\n",
              "        }\n",
              "      </script>\n",
              "    </div>\n",
              "  </div>\n",
              "  "
            ]
          },
          "metadata": {},
          "execution_count": 44
        }
      ]
    },
    {
      "cell_type": "markdown",
      "source": [
        "**Видим, что 8 из 9 не OHE признаков (кроме bathrooms) в топе по важности признаков, по ним и будем вести анализ**"
      ],
      "metadata": {
        "id": "XZn7wAUi01C2"
      }
    },
    {
      "cell_type": "code",
      "source": [
        "df_feature_importance = pd.DataFrame(list(zip(X_test.columns.values.tolist()[:9], сat.get_feature_importance()[:9])),\n",
        "               columns =['features', 'Importance'])\n",
        "df_feature_importance.sort_values(by='Importance', ascending=False)"
      ],
      "metadata": {
        "colab": {
          "base_uri": "https://localhost:8080/",
          "height": 332
        },
        "id": "S6DWEt89yW4U",
        "outputId": "ca4a298e-2777-4147-a8fb-f6e0b5ede357"
      },
      "execution_count": 45,
      "outputs": [
        {
          "output_type": "execute_result",
          "data": {
            "text/plain": [
              "           features  Importance\n",
              "4             price   22.179021\n",
              "2          latitude   11.102877\n",
              "1          bedrooms   10.180677\n",
              "3         longitude    9.919498\n",
              "7         descr_len    7.024757\n",
              "8  datetime_created    6.731707\n",
              "6     num_of_photos    5.985972\n",
              "5   num_of_features    3.843137\n",
              "0         bathrooms    1.564527"
            ],
            "text/html": [
              "\n",
              "  <div id=\"df-ba7694a2-3d5b-46a2-a146-fbe7d23015d4\">\n",
              "    <div class=\"colab-df-container\">\n",
              "      <div>\n",
              "<style scoped>\n",
              "    .dataframe tbody tr th:only-of-type {\n",
              "        vertical-align: middle;\n",
              "    }\n",
              "\n",
              "    .dataframe tbody tr th {\n",
              "        vertical-align: top;\n",
              "    }\n",
              "\n",
              "    .dataframe thead th {\n",
              "        text-align: right;\n",
              "    }\n",
              "</style>\n",
              "<table border=\"1\" class=\"dataframe\">\n",
              "  <thead>\n",
              "    <tr style=\"text-align: right;\">\n",
              "      <th></th>\n",
              "      <th>features</th>\n",
              "      <th>Importance</th>\n",
              "    </tr>\n",
              "  </thead>\n",
              "  <tbody>\n",
              "    <tr>\n",
              "      <th>4</th>\n",
              "      <td>price</td>\n",
              "      <td>22.179021</td>\n",
              "    </tr>\n",
              "    <tr>\n",
              "      <th>2</th>\n",
              "      <td>latitude</td>\n",
              "      <td>11.102877</td>\n",
              "    </tr>\n",
              "    <tr>\n",
              "      <th>1</th>\n",
              "      <td>bedrooms</td>\n",
              "      <td>10.180677</td>\n",
              "    </tr>\n",
              "    <tr>\n",
              "      <th>3</th>\n",
              "      <td>longitude</td>\n",
              "      <td>9.919498</td>\n",
              "    </tr>\n",
              "    <tr>\n",
              "      <th>7</th>\n",
              "      <td>descr_len</td>\n",
              "      <td>7.024757</td>\n",
              "    </tr>\n",
              "    <tr>\n",
              "      <th>8</th>\n",
              "      <td>datetime_created</td>\n",
              "      <td>6.731707</td>\n",
              "    </tr>\n",
              "    <tr>\n",
              "      <th>6</th>\n",
              "      <td>num_of_photos</td>\n",
              "      <td>5.985972</td>\n",
              "    </tr>\n",
              "    <tr>\n",
              "      <th>5</th>\n",
              "      <td>num_of_features</td>\n",
              "      <td>3.843137</td>\n",
              "    </tr>\n",
              "    <tr>\n",
              "      <th>0</th>\n",
              "      <td>bathrooms</td>\n",
              "      <td>1.564527</td>\n",
              "    </tr>\n",
              "  </tbody>\n",
              "</table>\n",
              "</div>\n",
              "      <button class=\"colab-df-convert\" onclick=\"convertToInteractive('df-ba7694a2-3d5b-46a2-a146-fbe7d23015d4')\"\n",
              "              title=\"Convert this dataframe to an interactive table.\"\n",
              "              style=\"display:none;\">\n",
              "        \n",
              "  <svg xmlns=\"http://www.w3.org/2000/svg\" height=\"24px\"viewBox=\"0 0 24 24\"\n",
              "       width=\"24px\">\n",
              "    <path d=\"M0 0h24v24H0V0z\" fill=\"none\"/>\n",
              "    <path d=\"M18.56 5.44l.94 2.06.94-2.06 2.06-.94-2.06-.94-.94-2.06-.94 2.06-2.06.94zm-11 1L8.5 8.5l.94-2.06 2.06-.94-2.06-.94L8.5 2.5l-.94 2.06-2.06.94zm10 10l.94 2.06.94-2.06 2.06-.94-2.06-.94-.94-2.06-.94 2.06-2.06.94z\"/><path d=\"M17.41 7.96l-1.37-1.37c-.4-.4-.92-.59-1.43-.59-.52 0-1.04.2-1.43.59L10.3 9.45l-7.72 7.72c-.78.78-.78 2.05 0 2.83L4 21.41c.39.39.9.59 1.41.59.51 0 1.02-.2 1.41-.59l7.78-7.78 2.81-2.81c.8-.78.8-2.07 0-2.86zM5.41 20L4 18.59l7.72-7.72 1.47 1.35L5.41 20z\"/>\n",
              "  </svg>\n",
              "      </button>\n",
              "      \n",
              "  <style>\n",
              "    .colab-df-container {\n",
              "      display:flex;\n",
              "      flex-wrap:wrap;\n",
              "      gap: 12px;\n",
              "    }\n",
              "\n",
              "    .colab-df-convert {\n",
              "      background-color: #E8F0FE;\n",
              "      border: none;\n",
              "      border-radius: 50%;\n",
              "      cursor: pointer;\n",
              "      display: none;\n",
              "      fill: #1967D2;\n",
              "      height: 32px;\n",
              "      padding: 0 0 0 0;\n",
              "      width: 32px;\n",
              "    }\n",
              "\n",
              "    .colab-df-convert:hover {\n",
              "      background-color: #E2EBFA;\n",
              "      box-shadow: 0px 1px 2px rgba(60, 64, 67, 0.3), 0px 1px 3px 1px rgba(60, 64, 67, 0.15);\n",
              "      fill: #174EA6;\n",
              "    }\n",
              "\n",
              "    [theme=dark] .colab-df-convert {\n",
              "      background-color: #3B4455;\n",
              "      fill: #D2E3FC;\n",
              "    }\n",
              "\n",
              "    [theme=dark] .colab-df-convert:hover {\n",
              "      background-color: #434B5C;\n",
              "      box-shadow: 0px 1px 3px 1px rgba(0, 0, 0, 0.15);\n",
              "      filter: drop-shadow(0px 1px 2px rgba(0, 0, 0, 0.3));\n",
              "      fill: #FFFFFF;\n",
              "    }\n",
              "  </style>\n",
              "\n",
              "      <script>\n",
              "        const buttonEl =\n",
              "          document.querySelector('#df-ba7694a2-3d5b-46a2-a146-fbe7d23015d4 button.colab-df-convert');\n",
              "        buttonEl.style.display =\n",
              "          google.colab.kernel.accessAllowed ? 'block' : 'none';\n",
              "\n",
              "        async function convertToInteractive(key) {\n",
              "          const element = document.querySelector('#df-ba7694a2-3d5b-46a2-a146-fbe7d23015d4');\n",
              "          const dataTable =\n",
              "            await google.colab.kernel.invokeFunction('convertToInteractive',\n",
              "                                                     [key], {});\n",
              "          if (!dataTable) return;\n",
              "\n",
              "          const docLinkHtml = 'Like what you see? Visit the ' +\n",
              "            '<a target=\"_blank\" href=https://colab.research.google.com/notebooks/data_table.ipynb>data table notebook</a>'\n",
              "            + ' to learn more about interactive tables.';\n",
              "          element.innerHTML = '';\n",
              "          dataTable['output_type'] = 'display_data';\n",
              "          await google.colab.output.renderOutput(dataTable, element);\n",
              "          const docLink = document.createElement('div');\n",
              "          docLink.innerHTML = docLinkHtml;\n",
              "          element.appendChild(docLink);\n",
              "        }\n",
              "      </script>\n",
              "    </div>\n",
              "  </div>\n",
              "  "
            ]
          },
          "metadata": {},
          "execution_count": 45
        }
      ]
    },
    {
      "cell_type": "markdown",
      "source": [
        "Далее вернемся к исходным форматам датафреймов, будет 2 Датафрейма ниже, первый, где модель сделала неправильные предсказания, второй с правильными."
      ],
      "metadata": {
        "id": "N5FM59URFTaU"
      }
    },
    {
      "cell_type": "code",
      "source": [
        "y_pred_series = pd.Series(y_pred.flatten())\n",
        "y_test_res = y_test.reset_index(drop = True)\n",
        "df_err_preds = y_pred_series.compare(y_test_res)\n",
        "df_err_preds.rename(columns = {'self':'pred_Target', 'other':'TARGET'}, inplace = True)\n",
        "X_test_err = X_test.copy()\n",
        "X_test_err = X_test_err.reset_index(drop = True).iloc[:, :9]\n",
        "X_test_err = X_test_err * transform.std + transform.mu\n",
        "res_errors_df = pd.concat([X_test_err, df_err_preds], axis=1).dropna()\n",
        "res_errors_df['pred_Target'] = res_errors_df['pred_Target'].map({0:\"low\", 1:\"medium\", 2:\"high\"})\n",
        "res_errors_df['TARGET'] = res_errors_df['TARGET'].map({0:\"low\", 1:\"medium\", 2:\"high\"})\n",
        "res_errors_df"
      ],
      "metadata": {
        "colab": {
          "base_uri": "https://localhost:8080/",
          "height": 424
        },
        "id": "oqdmLGFiIHaE",
        "outputId": "d6424ba6-5d7b-43cb-97f8-b673fa94565a"
      },
      "execution_count": 46,
      "outputs": [
        {
          "output_type": "execute_result",
          "data": {
            "text/plain": [
              "      bathrooms  bedrooms  latitude  longitude   price  num_of_features  \\\n",
              "1           1.0       2.0   40.7989   -73.9636  2500.0              0.0   \n",
              "10          1.0       0.0   40.7768   -73.9816  2595.0              6.0   \n",
              "18          1.0       2.0   40.7067   -74.0072  2950.0              7.0   \n",
              "25          2.0       2.0   40.7975   -73.9488  4799.0              9.0   \n",
              "26          2.0       2.0   40.7341   -73.9896  5700.0              8.0   \n",
              "...         ...       ...       ...        ...     ...              ...   \n",
              "5146        1.0       2.0   40.7159   -73.9504  3400.0              2.0   \n",
              "5148        2.0       3.0   40.7447   -73.9782  5500.0              8.0   \n",
              "5153        1.0       1.0   40.7363   -73.9798  2500.0              4.0   \n",
              "5162        1.0       0.0   40.7342   -74.0006  2500.0              0.0   \n",
              "5167        2.0       2.0   40.7496   -73.9779  3400.0             12.0   \n",
              "\n",
              "      num_of_photos  descr_len  datetime_created pred_Target  TARGET  \n",
              "1               7.0      437.0         13.132512         low    high  \n",
              "10              2.0      890.0         63.076181         low  medium  \n",
              "18              4.0      834.0         19.206400         low  medium  \n",
              "25              8.0     1448.0          2.469120      medium     low  \n",
              "26              6.0      819.0         26.198866         low    high  \n",
              "...             ...        ...               ...         ...     ...  \n",
              "5146            2.0      357.0         33.007338         low  medium  \n",
              "5148            6.0      730.0         30.070197         low  medium  \n",
              "5153            7.0      334.0         68.075914         low  medium  \n",
              "5162            4.0      126.0         75.453229         low  medium  \n",
              "5167           11.0      549.0         10.742199        high  medium  \n",
              "\n",
              "[1305 rows x 11 columns]"
            ],
            "text/html": [
              "\n",
              "  <div id=\"df-3343c950-dfd5-46c4-baca-2fc0005de9d2\">\n",
              "    <div class=\"colab-df-container\">\n",
              "      <div>\n",
              "<style scoped>\n",
              "    .dataframe tbody tr th:only-of-type {\n",
              "        vertical-align: middle;\n",
              "    }\n",
              "\n",
              "    .dataframe tbody tr th {\n",
              "        vertical-align: top;\n",
              "    }\n",
              "\n",
              "    .dataframe thead th {\n",
              "        text-align: right;\n",
              "    }\n",
              "</style>\n",
              "<table border=\"1\" class=\"dataframe\">\n",
              "  <thead>\n",
              "    <tr style=\"text-align: right;\">\n",
              "      <th></th>\n",
              "      <th>bathrooms</th>\n",
              "      <th>bedrooms</th>\n",
              "      <th>latitude</th>\n",
              "      <th>longitude</th>\n",
              "      <th>price</th>\n",
              "      <th>num_of_features</th>\n",
              "      <th>num_of_photos</th>\n",
              "      <th>descr_len</th>\n",
              "      <th>datetime_created</th>\n",
              "      <th>pred_Target</th>\n",
              "      <th>TARGET</th>\n",
              "    </tr>\n",
              "  </thead>\n",
              "  <tbody>\n",
              "    <tr>\n",
              "      <th>1</th>\n",
              "      <td>1.0</td>\n",
              "      <td>2.0</td>\n",
              "      <td>40.7989</td>\n",
              "      <td>-73.9636</td>\n",
              "      <td>2500.0</td>\n",
              "      <td>0.0</td>\n",
              "      <td>7.0</td>\n",
              "      <td>437.0</td>\n",
              "      <td>13.132512</td>\n",
              "      <td>low</td>\n",
              "      <td>high</td>\n",
              "    </tr>\n",
              "    <tr>\n",
              "      <th>10</th>\n",
              "      <td>1.0</td>\n",
              "      <td>0.0</td>\n",
              "      <td>40.7768</td>\n",
              "      <td>-73.9816</td>\n",
              "      <td>2595.0</td>\n",
              "      <td>6.0</td>\n",
              "      <td>2.0</td>\n",
              "      <td>890.0</td>\n",
              "      <td>63.076181</td>\n",
              "      <td>low</td>\n",
              "      <td>medium</td>\n",
              "    </tr>\n",
              "    <tr>\n",
              "      <th>18</th>\n",
              "      <td>1.0</td>\n",
              "      <td>2.0</td>\n",
              "      <td>40.7067</td>\n",
              "      <td>-74.0072</td>\n",
              "      <td>2950.0</td>\n",
              "      <td>7.0</td>\n",
              "      <td>4.0</td>\n",
              "      <td>834.0</td>\n",
              "      <td>19.206400</td>\n",
              "      <td>low</td>\n",
              "      <td>medium</td>\n",
              "    </tr>\n",
              "    <tr>\n",
              "      <th>25</th>\n",
              "      <td>2.0</td>\n",
              "      <td>2.0</td>\n",
              "      <td>40.7975</td>\n",
              "      <td>-73.9488</td>\n",
              "      <td>4799.0</td>\n",
              "      <td>9.0</td>\n",
              "      <td>8.0</td>\n",
              "      <td>1448.0</td>\n",
              "      <td>2.469120</td>\n",
              "      <td>medium</td>\n",
              "      <td>low</td>\n",
              "    </tr>\n",
              "    <tr>\n",
              "      <th>26</th>\n",
              "      <td>2.0</td>\n",
              "      <td>2.0</td>\n",
              "      <td>40.7341</td>\n",
              "      <td>-73.9896</td>\n",
              "      <td>5700.0</td>\n",
              "      <td>8.0</td>\n",
              "      <td>6.0</td>\n",
              "      <td>819.0</td>\n",
              "      <td>26.198866</td>\n",
              "      <td>low</td>\n",
              "      <td>high</td>\n",
              "    </tr>\n",
              "    <tr>\n",
              "      <th>...</th>\n",
              "      <td>...</td>\n",
              "      <td>...</td>\n",
              "      <td>...</td>\n",
              "      <td>...</td>\n",
              "      <td>...</td>\n",
              "      <td>...</td>\n",
              "      <td>...</td>\n",
              "      <td>...</td>\n",
              "      <td>...</td>\n",
              "      <td>...</td>\n",
              "      <td>...</td>\n",
              "    </tr>\n",
              "    <tr>\n",
              "      <th>5146</th>\n",
              "      <td>1.0</td>\n",
              "      <td>2.0</td>\n",
              "      <td>40.7159</td>\n",
              "      <td>-73.9504</td>\n",
              "      <td>3400.0</td>\n",
              "      <td>2.0</td>\n",
              "      <td>2.0</td>\n",
              "      <td>357.0</td>\n",
              "      <td>33.007338</td>\n",
              "      <td>low</td>\n",
              "      <td>medium</td>\n",
              "    </tr>\n",
              "    <tr>\n",
              "      <th>5148</th>\n",
              "      <td>2.0</td>\n",
              "      <td>3.0</td>\n",
              "      <td>40.7447</td>\n",
              "      <td>-73.9782</td>\n",
              "      <td>5500.0</td>\n",
              "      <td>8.0</td>\n",
              "      <td>6.0</td>\n",
              "      <td>730.0</td>\n",
              "      <td>30.070197</td>\n",
              "      <td>low</td>\n",
              "      <td>medium</td>\n",
              "    </tr>\n",
              "    <tr>\n",
              "      <th>5153</th>\n",
              "      <td>1.0</td>\n",
              "      <td>1.0</td>\n",
              "      <td>40.7363</td>\n",
              "      <td>-73.9798</td>\n",
              "      <td>2500.0</td>\n",
              "      <td>4.0</td>\n",
              "      <td>7.0</td>\n",
              "      <td>334.0</td>\n",
              "      <td>68.075914</td>\n",
              "      <td>low</td>\n",
              "      <td>medium</td>\n",
              "    </tr>\n",
              "    <tr>\n",
              "      <th>5162</th>\n",
              "      <td>1.0</td>\n",
              "      <td>0.0</td>\n",
              "      <td>40.7342</td>\n",
              "      <td>-74.0006</td>\n",
              "      <td>2500.0</td>\n",
              "      <td>0.0</td>\n",
              "      <td>4.0</td>\n",
              "      <td>126.0</td>\n",
              "      <td>75.453229</td>\n",
              "      <td>low</td>\n",
              "      <td>medium</td>\n",
              "    </tr>\n",
              "    <tr>\n",
              "      <th>5167</th>\n",
              "      <td>2.0</td>\n",
              "      <td>2.0</td>\n",
              "      <td>40.7496</td>\n",
              "      <td>-73.9779</td>\n",
              "      <td>3400.0</td>\n",
              "      <td>12.0</td>\n",
              "      <td>11.0</td>\n",
              "      <td>549.0</td>\n",
              "      <td>10.742199</td>\n",
              "      <td>high</td>\n",
              "      <td>medium</td>\n",
              "    </tr>\n",
              "  </tbody>\n",
              "</table>\n",
              "<p>1305 rows × 11 columns</p>\n",
              "</div>\n",
              "      <button class=\"colab-df-convert\" onclick=\"convertToInteractive('df-3343c950-dfd5-46c4-baca-2fc0005de9d2')\"\n",
              "              title=\"Convert this dataframe to an interactive table.\"\n",
              "              style=\"display:none;\">\n",
              "        \n",
              "  <svg xmlns=\"http://www.w3.org/2000/svg\" height=\"24px\"viewBox=\"0 0 24 24\"\n",
              "       width=\"24px\">\n",
              "    <path d=\"M0 0h24v24H0V0z\" fill=\"none\"/>\n",
              "    <path d=\"M18.56 5.44l.94 2.06.94-2.06 2.06-.94-2.06-.94-.94-2.06-.94 2.06-2.06.94zm-11 1L8.5 8.5l.94-2.06 2.06-.94-2.06-.94L8.5 2.5l-.94 2.06-2.06.94zm10 10l.94 2.06.94-2.06 2.06-.94-2.06-.94-.94-2.06-.94 2.06-2.06.94z\"/><path d=\"M17.41 7.96l-1.37-1.37c-.4-.4-.92-.59-1.43-.59-.52 0-1.04.2-1.43.59L10.3 9.45l-7.72 7.72c-.78.78-.78 2.05 0 2.83L4 21.41c.39.39.9.59 1.41.59.51 0 1.02-.2 1.41-.59l7.78-7.78 2.81-2.81c.8-.78.8-2.07 0-2.86zM5.41 20L4 18.59l7.72-7.72 1.47 1.35L5.41 20z\"/>\n",
              "  </svg>\n",
              "      </button>\n",
              "      \n",
              "  <style>\n",
              "    .colab-df-container {\n",
              "      display:flex;\n",
              "      flex-wrap:wrap;\n",
              "      gap: 12px;\n",
              "    }\n",
              "\n",
              "    .colab-df-convert {\n",
              "      background-color: #E8F0FE;\n",
              "      border: none;\n",
              "      border-radius: 50%;\n",
              "      cursor: pointer;\n",
              "      display: none;\n",
              "      fill: #1967D2;\n",
              "      height: 32px;\n",
              "      padding: 0 0 0 0;\n",
              "      width: 32px;\n",
              "    }\n",
              "\n",
              "    .colab-df-convert:hover {\n",
              "      background-color: #E2EBFA;\n",
              "      box-shadow: 0px 1px 2px rgba(60, 64, 67, 0.3), 0px 1px 3px 1px rgba(60, 64, 67, 0.15);\n",
              "      fill: #174EA6;\n",
              "    }\n",
              "\n",
              "    [theme=dark] .colab-df-convert {\n",
              "      background-color: #3B4455;\n",
              "      fill: #D2E3FC;\n",
              "    }\n",
              "\n",
              "    [theme=dark] .colab-df-convert:hover {\n",
              "      background-color: #434B5C;\n",
              "      box-shadow: 0px 1px 3px 1px rgba(0, 0, 0, 0.15);\n",
              "      filter: drop-shadow(0px 1px 2px rgba(0, 0, 0, 0.3));\n",
              "      fill: #FFFFFF;\n",
              "    }\n",
              "  </style>\n",
              "\n",
              "      <script>\n",
              "        const buttonEl =\n",
              "          document.querySelector('#df-3343c950-dfd5-46c4-baca-2fc0005de9d2 button.colab-df-convert');\n",
              "        buttonEl.style.display =\n",
              "          google.colab.kernel.accessAllowed ? 'block' : 'none';\n",
              "\n",
              "        async function convertToInteractive(key) {\n",
              "          const element = document.querySelector('#df-3343c950-dfd5-46c4-baca-2fc0005de9d2');\n",
              "          const dataTable =\n",
              "            await google.colab.kernel.invokeFunction('convertToInteractive',\n",
              "                                                     [key], {});\n",
              "          if (!dataTable) return;\n",
              "\n",
              "          const docLinkHtml = 'Like what you see? Visit the ' +\n",
              "            '<a target=\"_blank\" href=https://colab.research.google.com/notebooks/data_table.ipynb>data table notebook</a>'\n",
              "            + ' to learn more about interactive tables.';\n",
              "          element.innerHTML = '';\n",
              "          dataTable['output_type'] = 'display_data';\n",
              "          await google.colab.output.renderOutput(dataTable, element);\n",
              "          const docLink = document.createElement('div');\n",
              "          docLink.innerHTML = docLinkHtml;\n",
              "          element.appendChild(docLink);\n",
              "        }\n",
              "      </script>\n",
              "    </div>\n",
              "  </div>\n",
              "  "
            ]
          },
          "metadata": {},
          "execution_count": 46
        }
      ]
    },
    {
      "cell_type": "code",
      "source": [
        "df_all_preds = y_pred_series.compare(y_test_res, keep_shape=True, keep_equal=True)\n",
        "df_true_preds = df_all_preds.copy()\n",
        "df_true_preds = df_true_preds.loc[df_all_preds['self'] == df_all_preds['other']]\n",
        "df_true_preds.rename(columns = {'self':'pred_Target', 'other':'TARGET'}, inplace = True)\n",
        "X_test_true = X_test.copy()\n",
        "X_test_true = X_test_true.reset_index(drop = True).iloc[:, :9]\n",
        "X_test_true = X_test_true * transform.std + transform.mu\n",
        "res_true_df = pd.concat([X_test_true, df_true_preds], axis=1).dropna()\n",
        "res_true_df['pred_Target'] = res_true_df['pred_Target'].map({0:\"low\", 1:\"medium\", 2:\"high\"})\n",
        "res_true_df['TARGET'] = res_true_df['TARGET'].map({0:\"low\", 1:\"medium\", 2:\"high\"})\n",
        "res_true_df"
      ],
      "metadata": {
        "colab": {
          "base_uri": "https://localhost:8080/",
          "height": 424
        },
        "id": "oknhmeTZLuKS",
        "outputId": "163b1e90-e7d6-49f8-b9d5-fa2042dc6c2c"
      },
      "execution_count": 47,
      "outputs": [
        {
          "output_type": "execute_result",
          "data": {
            "text/plain": [
              "      bathrooms  bedrooms  latitude  longitude   price  num_of_features  \\\n",
              "0           1.0       0.0   40.7890   -73.9756  2890.0             12.0   \n",
              "2           1.0       1.0   40.6866   -73.9554  2300.0              2.0   \n",
              "3           2.0       4.0   40.7436   -73.9727  6250.0             11.0   \n",
              "4           1.0       2.0   40.8342   -73.9427  1850.0              3.0   \n",
              "5           1.0       2.0   40.7180   -74.0112  4795.0              4.0   \n",
              "...         ...       ...       ...        ...     ...              ...   \n",
              "5177        1.0       0.0   40.7700   -73.9489  1875.0              3.0   \n",
              "5178        1.0       0.0   40.7794   -73.9498  2099.0              3.0   \n",
              "5179        2.0       2.0   40.7258   -73.9889  5200.0              0.0   \n",
              "5180        1.0       2.0   40.7562   -73.9968  3190.0             16.0   \n",
              "5181        1.0       1.0   40.7536   -73.9682  2100.0              1.0   \n",
              "\n",
              "      num_of_photos  descr_len  datetime_created pred_Target TARGET  \n",
              "0              12.0      861.0         79.707523         low    low  \n",
              "2              10.0      384.0         68.214711         low    low  \n",
              "3               8.0      859.0         75.227731         low    low  \n",
              "4               0.0      488.0         26.016100         low    low  \n",
              "5               0.0        0.0         19.165498         low    low  \n",
              "...             ...        ...               ...         ...    ...  \n",
              "5177            0.0       64.0         75.019560         low    low  \n",
              "5178            6.0      510.0         40.056817         low    low  \n",
              "5179            1.0      351.0         63.139144         low    low  \n",
              "5180            3.0      487.0         60.178113         low    low  \n",
              "5181            3.0      310.0         63.004375         low    low  \n",
              "\n",
              "[3877 rows x 11 columns]"
            ],
            "text/html": [
              "\n",
              "  <div id=\"df-1453a373-e956-4654-bc12-d6d3672ea76e\">\n",
              "    <div class=\"colab-df-container\">\n",
              "      <div>\n",
              "<style scoped>\n",
              "    .dataframe tbody tr th:only-of-type {\n",
              "        vertical-align: middle;\n",
              "    }\n",
              "\n",
              "    .dataframe tbody tr th {\n",
              "        vertical-align: top;\n",
              "    }\n",
              "\n",
              "    .dataframe thead th {\n",
              "        text-align: right;\n",
              "    }\n",
              "</style>\n",
              "<table border=\"1\" class=\"dataframe\">\n",
              "  <thead>\n",
              "    <tr style=\"text-align: right;\">\n",
              "      <th></th>\n",
              "      <th>bathrooms</th>\n",
              "      <th>bedrooms</th>\n",
              "      <th>latitude</th>\n",
              "      <th>longitude</th>\n",
              "      <th>price</th>\n",
              "      <th>num_of_features</th>\n",
              "      <th>num_of_photos</th>\n",
              "      <th>descr_len</th>\n",
              "      <th>datetime_created</th>\n",
              "      <th>pred_Target</th>\n",
              "      <th>TARGET</th>\n",
              "    </tr>\n",
              "  </thead>\n",
              "  <tbody>\n",
              "    <tr>\n",
              "      <th>0</th>\n",
              "      <td>1.0</td>\n",
              "      <td>0.0</td>\n",
              "      <td>40.7890</td>\n",
              "      <td>-73.9756</td>\n",
              "      <td>2890.0</td>\n",
              "      <td>12.0</td>\n",
              "      <td>12.0</td>\n",
              "      <td>861.0</td>\n",
              "      <td>79.707523</td>\n",
              "      <td>low</td>\n",
              "      <td>low</td>\n",
              "    </tr>\n",
              "    <tr>\n",
              "      <th>2</th>\n",
              "      <td>1.0</td>\n",
              "      <td>1.0</td>\n",
              "      <td>40.6866</td>\n",
              "      <td>-73.9554</td>\n",
              "      <td>2300.0</td>\n",
              "      <td>2.0</td>\n",
              "      <td>10.0</td>\n",
              "      <td>384.0</td>\n",
              "      <td>68.214711</td>\n",
              "      <td>low</td>\n",
              "      <td>low</td>\n",
              "    </tr>\n",
              "    <tr>\n",
              "      <th>3</th>\n",
              "      <td>2.0</td>\n",
              "      <td>4.0</td>\n",
              "      <td>40.7436</td>\n",
              "      <td>-73.9727</td>\n",
              "      <td>6250.0</td>\n",
              "      <td>11.0</td>\n",
              "      <td>8.0</td>\n",
              "      <td>859.0</td>\n",
              "      <td>75.227731</td>\n",
              "      <td>low</td>\n",
              "      <td>low</td>\n",
              "    </tr>\n",
              "    <tr>\n",
              "      <th>4</th>\n",
              "      <td>1.0</td>\n",
              "      <td>2.0</td>\n",
              "      <td>40.8342</td>\n",
              "      <td>-73.9427</td>\n",
              "      <td>1850.0</td>\n",
              "      <td>3.0</td>\n",
              "      <td>0.0</td>\n",
              "      <td>488.0</td>\n",
              "      <td>26.016100</td>\n",
              "      <td>low</td>\n",
              "      <td>low</td>\n",
              "    </tr>\n",
              "    <tr>\n",
              "      <th>5</th>\n",
              "      <td>1.0</td>\n",
              "      <td>2.0</td>\n",
              "      <td>40.7180</td>\n",
              "      <td>-74.0112</td>\n",
              "      <td>4795.0</td>\n",
              "      <td>4.0</td>\n",
              "      <td>0.0</td>\n",
              "      <td>0.0</td>\n",
              "      <td>19.165498</td>\n",
              "      <td>low</td>\n",
              "      <td>low</td>\n",
              "    </tr>\n",
              "    <tr>\n",
              "      <th>...</th>\n",
              "      <td>...</td>\n",
              "      <td>...</td>\n",
              "      <td>...</td>\n",
              "      <td>...</td>\n",
              "      <td>...</td>\n",
              "      <td>...</td>\n",
              "      <td>...</td>\n",
              "      <td>...</td>\n",
              "      <td>...</td>\n",
              "      <td>...</td>\n",
              "      <td>...</td>\n",
              "    </tr>\n",
              "    <tr>\n",
              "      <th>5177</th>\n",
              "      <td>1.0</td>\n",
              "      <td>0.0</td>\n",
              "      <td>40.7700</td>\n",
              "      <td>-73.9489</td>\n",
              "      <td>1875.0</td>\n",
              "      <td>3.0</td>\n",
              "      <td>0.0</td>\n",
              "      <td>64.0</td>\n",
              "      <td>75.019560</td>\n",
              "      <td>low</td>\n",
              "      <td>low</td>\n",
              "    </tr>\n",
              "    <tr>\n",
              "      <th>5178</th>\n",
              "      <td>1.0</td>\n",
              "      <td>0.0</td>\n",
              "      <td>40.7794</td>\n",
              "      <td>-73.9498</td>\n",
              "      <td>2099.0</td>\n",
              "      <td>3.0</td>\n",
              "      <td>6.0</td>\n",
              "      <td>510.0</td>\n",
              "      <td>40.056817</td>\n",
              "      <td>low</td>\n",
              "      <td>low</td>\n",
              "    </tr>\n",
              "    <tr>\n",
              "      <th>5179</th>\n",
              "      <td>2.0</td>\n",
              "      <td>2.0</td>\n",
              "      <td>40.7258</td>\n",
              "      <td>-73.9889</td>\n",
              "      <td>5200.0</td>\n",
              "      <td>0.0</td>\n",
              "      <td>1.0</td>\n",
              "      <td>351.0</td>\n",
              "      <td>63.139144</td>\n",
              "      <td>low</td>\n",
              "      <td>low</td>\n",
              "    </tr>\n",
              "    <tr>\n",
              "      <th>5180</th>\n",
              "      <td>1.0</td>\n",
              "      <td>2.0</td>\n",
              "      <td>40.7562</td>\n",
              "      <td>-73.9968</td>\n",
              "      <td>3190.0</td>\n",
              "      <td>16.0</td>\n",
              "      <td>3.0</td>\n",
              "      <td>487.0</td>\n",
              "      <td>60.178113</td>\n",
              "      <td>low</td>\n",
              "      <td>low</td>\n",
              "    </tr>\n",
              "    <tr>\n",
              "      <th>5181</th>\n",
              "      <td>1.0</td>\n",
              "      <td>1.0</td>\n",
              "      <td>40.7536</td>\n",
              "      <td>-73.9682</td>\n",
              "      <td>2100.0</td>\n",
              "      <td>1.0</td>\n",
              "      <td>3.0</td>\n",
              "      <td>310.0</td>\n",
              "      <td>63.004375</td>\n",
              "      <td>low</td>\n",
              "      <td>low</td>\n",
              "    </tr>\n",
              "  </tbody>\n",
              "</table>\n",
              "<p>3877 rows × 11 columns</p>\n",
              "</div>\n",
              "      <button class=\"colab-df-convert\" onclick=\"convertToInteractive('df-1453a373-e956-4654-bc12-d6d3672ea76e')\"\n",
              "              title=\"Convert this dataframe to an interactive table.\"\n",
              "              style=\"display:none;\">\n",
              "        \n",
              "  <svg xmlns=\"http://www.w3.org/2000/svg\" height=\"24px\"viewBox=\"0 0 24 24\"\n",
              "       width=\"24px\">\n",
              "    <path d=\"M0 0h24v24H0V0z\" fill=\"none\"/>\n",
              "    <path d=\"M18.56 5.44l.94 2.06.94-2.06 2.06-.94-2.06-.94-.94-2.06-.94 2.06-2.06.94zm-11 1L8.5 8.5l.94-2.06 2.06-.94-2.06-.94L8.5 2.5l-.94 2.06-2.06.94zm10 10l.94 2.06.94-2.06 2.06-.94-2.06-.94-.94-2.06-.94 2.06-2.06.94z\"/><path d=\"M17.41 7.96l-1.37-1.37c-.4-.4-.92-.59-1.43-.59-.52 0-1.04.2-1.43.59L10.3 9.45l-7.72 7.72c-.78.78-.78 2.05 0 2.83L4 21.41c.39.39.9.59 1.41.59.51 0 1.02-.2 1.41-.59l7.78-7.78 2.81-2.81c.8-.78.8-2.07 0-2.86zM5.41 20L4 18.59l7.72-7.72 1.47 1.35L5.41 20z\"/>\n",
              "  </svg>\n",
              "      </button>\n",
              "      \n",
              "  <style>\n",
              "    .colab-df-container {\n",
              "      display:flex;\n",
              "      flex-wrap:wrap;\n",
              "      gap: 12px;\n",
              "    }\n",
              "\n",
              "    .colab-df-convert {\n",
              "      background-color: #E8F0FE;\n",
              "      border: none;\n",
              "      border-radius: 50%;\n",
              "      cursor: pointer;\n",
              "      display: none;\n",
              "      fill: #1967D2;\n",
              "      height: 32px;\n",
              "      padding: 0 0 0 0;\n",
              "      width: 32px;\n",
              "    }\n",
              "\n",
              "    .colab-df-convert:hover {\n",
              "      background-color: #E2EBFA;\n",
              "      box-shadow: 0px 1px 2px rgba(60, 64, 67, 0.3), 0px 1px 3px 1px rgba(60, 64, 67, 0.15);\n",
              "      fill: #174EA6;\n",
              "    }\n",
              "\n",
              "    [theme=dark] .colab-df-convert {\n",
              "      background-color: #3B4455;\n",
              "      fill: #D2E3FC;\n",
              "    }\n",
              "\n",
              "    [theme=dark] .colab-df-convert:hover {\n",
              "      background-color: #434B5C;\n",
              "      box-shadow: 0px 1px 3px 1px rgba(0, 0, 0, 0.15);\n",
              "      filter: drop-shadow(0px 1px 2px rgba(0, 0, 0, 0.3));\n",
              "      fill: #FFFFFF;\n",
              "    }\n",
              "  </style>\n",
              "\n",
              "      <script>\n",
              "        const buttonEl =\n",
              "          document.querySelector('#df-1453a373-e956-4654-bc12-d6d3672ea76e button.colab-df-convert');\n",
              "        buttonEl.style.display =\n",
              "          google.colab.kernel.accessAllowed ? 'block' : 'none';\n",
              "\n",
              "        async function convertToInteractive(key) {\n",
              "          const element = document.querySelector('#df-1453a373-e956-4654-bc12-d6d3672ea76e');\n",
              "          const dataTable =\n",
              "            await google.colab.kernel.invokeFunction('convertToInteractive',\n",
              "                                                     [key], {});\n",
              "          if (!dataTable) return;\n",
              "\n",
              "          const docLinkHtml = 'Like what you see? Visit the ' +\n",
              "            '<a target=\"_blank\" href=https://colab.research.google.com/notebooks/data_table.ipynb>data table notebook</a>'\n",
              "            + ' to learn more about interactive tables.';\n",
              "          element.innerHTML = '';\n",
              "          dataTable['output_type'] = 'display_data';\n",
              "          await google.colab.output.renderOutput(dataTable, element);\n",
              "          const docLink = document.createElement('div');\n",
              "          docLink.innerHTML = docLinkHtml;\n",
              "          element.appendChild(docLink);\n",
              "        }\n",
              "      </script>\n",
              "    </div>\n",
              "  </div>\n",
              "  "
            ]
          },
          "metadata": {},
          "execution_count": 47
        }
      ]
    },
    {
      "cell_type": "markdown",
      "source": [
        "**Во-первых посмотрим на количество ошибок по каждому из классов.**"
      ],
      "metadata": {
        "id": "aM9fjYwcOznb"
      }
    },
    {
      "cell_type": "code",
      "source": [
        "res_errors_df.TARGET.value_counts()"
      ],
      "metadata": {
        "colab": {
          "base_uri": "https://localhost:8080/"
        },
        "id": "mKop-lTcOzVw",
        "outputId": "53d24ed2-7b5a-4391-8cc0-481fdf00c8f8"
      },
      "execution_count": 48,
      "outputs": [
        {
          "output_type": "execute_result",
          "data": {
            "text/plain": [
              "medium    731\n",
              "high      305\n",
              "low       269\n",
              "Name: TARGET, dtype: int64"
            ]
          },
          "metadata": {},
          "execution_count": 48
        }
      ]
    },
    {
      "cell_type": "code",
      "source": [
        "res_errors_df.pred_Target.value_counts()"
      ],
      "metadata": {
        "colab": {
          "base_uri": "https://localhost:8080/"
        },
        "id": "4Fl6w07WRtpk",
        "outputId": "13160842-c912-4078-eb29-22b3da57bec9"
      },
      "execution_count": 49,
      "outputs": [
        {
          "output_type": "execute_result",
          "data": {
            "text/plain": [
              "low       792\n",
              "medium    427\n",
              "high       86\n",
              "Name: pred_Target, dtype: int64"
            ]
          },
          "metadata": {},
          "execution_count": 49
        }
      ]
    },
    {
      "cell_type": "markdown",
      "source": [
        "**Видим, что большая часть ошибок допущена на классах, количество которых в датасете меньше, это соответственно medium:1 и high:2.**\n",
        "\n",
        "**Также рассмотрим попарное распределение по ошибкам**"
      ],
      "metadata": {
        "id": "FOvwmm6KP_Ku"
      }
    },
    {
      "cell_type": "code",
      "source": [
        "res_errors_df[['TARGET','pred_Target']].value_counts()"
      ],
      "metadata": {
        "colab": {
          "base_uri": "https://localhost:8080/"
        },
        "id": "gYeS4v6oQk1b",
        "outputId": "4721609c-3462-4cfa-cf25-c29e7ad84ccb"
      },
      "execution_count": 50,
      "outputs": [
        {
          "output_type": "execute_result",
          "data": {
            "text/plain": [
              "TARGET  pred_Target\n",
              "medium  low            673\n",
              "low     medium         241\n",
              "high    medium         186\n",
              "        low            119\n",
              "medium  high            58\n",
              "low     high            28\n",
              "dtype: int64"
            ]
          },
          "metadata": {},
          "execution_count": 50
        }
      ]
    },
    {
      "cell_type": "markdown",
      "source": [
        "**Видим, что чаще всего модель путает соседние таргеты,**\n",
        "* **medium**  **low**            \n",
        "* **low**     **medium**        \n",
        "* **high**    **medium**\n",
        "\n",
        "**Рассмотрим значение переменных для которых было правильно предсказано medium, low и high**"
      ],
      "metadata": {
        "id": "upTf6pdZTZ-0"
      }
    },
    {
      "cell_type": "markdown",
      "source": [
        "## **low**"
      ],
      "metadata": {
        "id": "qQL8or3OXr2e"
      }
    },
    {
      "cell_type": "code",
      "source": [
        "df_low_true = res_true_df.copy()\n",
        "df_low_true = df_low_true[df_low_true['TARGET'] == 'low']\n",
        "descr_df_low_true = df_low_true.describe()\n",
        "descr_df_low_true"
      ],
      "metadata": {
        "colab": {
          "base_uri": "https://localhost:8080/",
          "height": 300
        },
        "id": "H-sFcTfOT8xd",
        "outputId": "1c3e3742-35fb-4111-b450-878c2cccc3bb"
      },
      "execution_count": 51,
      "outputs": [
        {
          "output_type": "execute_result",
          "data": {
            "text/plain": [
              "         bathrooms     bedrooms     latitude    longitude         price  \\\n",
              "count  3331.000000  3331.000000  3331.000000  3331.000000   3331.000000   \n",
              "mean      1.238817     1.477334    40.754288   -73.971416   3950.486040   \n",
              "std       0.535461     1.091743     0.058635     0.091605   2560.823596   \n",
              "min       0.000000     0.000000    40.580600   -74.036200   1250.000000   \n",
              "25%       1.000000     1.000000    40.729800   -73.991950   2650.000000   \n",
              "50%       1.000000     1.000000    40.754800   -73.978100   3350.000000   \n",
              "75%       1.000000     2.000000    40.774750   -73.955700   4495.000000   \n",
              "max       6.000000     6.000000    42.345900   -70.984600  50550.000000   \n",
              "\n",
              "       num_of_features  num_of_photos    descr_len  datetime_created  \n",
              "count      3331.000000    3331.000000  3331.000000       3331.000000  \n",
              "mean          5.256379       5.502552   574.845992         44.312282  \n",
              "std           3.751158       4.024054   400.972788         25.906879  \n",
              "min           0.000000       0.000000     0.000000          0.000000  \n",
              "25%           3.000000       3.000000   302.000000         21.020145  \n",
              "50%           4.000000       5.000000   528.000000         44.157095  \n",
              "75%           7.000000       7.000000   801.500000         68.047269  \n",
              "max          24.000000      46.000000  2935.000000         88.674097  "
            ],
            "text/html": [
              "\n",
              "  <div id=\"df-51e11ffc-6230-4429-b5e1-c8744d4c7d0a\">\n",
              "    <div class=\"colab-df-container\">\n",
              "      <div>\n",
              "<style scoped>\n",
              "    .dataframe tbody tr th:only-of-type {\n",
              "        vertical-align: middle;\n",
              "    }\n",
              "\n",
              "    .dataframe tbody tr th {\n",
              "        vertical-align: top;\n",
              "    }\n",
              "\n",
              "    .dataframe thead th {\n",
              "        text-align: right;\n",
              "    }\n",
              "</style>\n",
              "<table border=\"1\" class=\"dataframe\">\n",
              "  <thead>\n",
              "    <tr style=\"text-align: right;\">\n",
              "      <th></th>\n",
              "      <th>bathrooms</th>\n",
              "      <th>bedrooms</th>\n",
              "      <th>latitude</th>\n",
              "      <th>longitude</th>\n",
              "      <th>price</th>\n",
              "      <th>num_of_features</th>\n",
              "      <th>num_of_photos</th>\n",
              "      <th>descr_len</th>\n",
              "      <th>datetime_created</th>\n",
              "    </tr>\n",
              "  </thead>\n",
              "  <tbody>\n",
              "    <tr>\n",
              "      <th>count</th>\n",
              "      <td>3331.000000</td>\n",
              "      <td>3331.000000</td>\n",
              "      <td>3331.000000</td>\n",
              "      <td>3331.000000</td>\n",
              "      <td>3331.000000</td>\n",
              "      <td>3331.000000</td>\n",
              "      <td>3331.000000</td>\n",
              "      <td>3331.000000</td>\n",
              "      <td>3331.000000</td>\n",
              "    </tr>\n",
              "    <tr>\n",
              "      <th>mean</th>\n",
              "      <td>1.238817</td>\n",
              "      <td>1.477334</td>\n",
              "      <td>40.754288</td>\n",
              "      <td>-73.971416</td>\n",
              "      <td>3950.486040</td>\n",
              "      <td>5.256379</td>\n",
              "      <td>5.502552</td>\n",
              "      <td>574.845992</td>\n",
              "      <td>44.312282</td>\n",
              "    </tr>\n",
              "    <tr>\n",
              "      <th>std</th>\n",
              "      <td>0.535461</td>\n",
              "      <td>1.091743</td>\n",
              "      <td>0.058635</td>\n",
              "      <td>0.091605</td>\n",
              "      <td>2560.823596</td>\n",
              "      <td>3.751158</td>\n",
              "      <td>4.024054</td>\n",
              "      <td>400.972788</td>\n",
              "      <td>25.906879</td>\n",
              "    </tr>\n",
              "    <tr>\n",
              "      <th>min</th>\n",
              "      <td>0.000000</td>\n",
              "      <td>0.000000</td>\n",
              "      <td>40.580600</td>\n",
              "      <td>-74.036200</td>\n",
              "      <td>1250.000000</td>\n",
              "      <td>0.000000</td>\n",
              "      <td>0.000000</td>\n",
              "      <td>0.000000</td>\n",
              "      <td>0.000000</td>\n",
              "    </tr>\n",
              "    <tr>\n",
              "      <th>25%</th>\n",
              "      <td>1.000000</td>\n",
              "      <td>1.000000</td>\n",
              "      <td>40.729800</td>\n",
              "      <td>-73.991950</td>\n",
              "      <td>2650.000000</td>\n",
              "      <td>3.000000</td>\n",
              "      <td>3.000000</td>\n",
              "      <td>302.000000</td>\n",
              "      <td>21.020145</td>\n",
              "    </tr>\n",
              "    <tr>\n",
              "      <th>50%</th>\n",
              "      <td>1.000000</td>\n",
              "      <td>1.000000</td>\n",
              "      <td>40.754800</td>\n",
              "      <td>-73.978100</td>\n",
              "      <td>3350.000000</td>\n",
              "      <td>4.000000</td>\n",
              "      <td>5.000000</td>\n",
              "      <td>528.000000</td>\n",
              "      <td>44.157095</td>\n",
              "    </tr>\n",
              "    <tr>\n",
              "      <th>75%</th>\n",
              "      <td>1.000000</td>\n",
              "      <td>2.000000</td>\n",
              "      <td>40.774750</td>\n",
              "      <td>-73.955700</td>\n",
              "      <td>4495.000000</td>\n",
              "      <td>7.000000</td>\n",
              "      <td>7.000000</td>\n",
              "      <td>801.500000</td>\n",
              "      <td>68.047269</td>\n",
              "    </tr>\n",
              "    <tr>\n",
              "      <th>max</th>\n",
              "      <td>6.000000</td>\n",
              "      <td>6.000000</td>\n",
              "      <td>42.345900</td>\n",
              "      <td>-70.984600</td>\n",
              "      <td>50550.000000</td>\n",
              "      <td>24.000000</td>\n",
              "      <td>46.000000</td>\n",
              "      <td>2935.000000</td>\n",
              "      <td>88.674097</td>\n",
              "    </tr>\n",
              "  </tbody>\n",
              "</table>\n",
              "</div>\n",
              "      <button class=\"colab-df-convert\" onclick=\"convertToInteractive('df-51e11ffc-6230-4429-b5e1-c8744d4c7d0a')\"\n",
              "              title=\"Convert this dataframe to an interactive table.\"\n",
              "              style=\"display:none;\">\n",
              "        \n",
              "  <svg xmlns=\"http://www.w3.org/2000/svg\" height=\"24px\"viewBox=\"0 0 24 24\"\n",
              "       width=\"24px\">\n",
              "    <path d=\"M0 0h24v24H0V0z\" fill=\"none\"/>\n",
              "    <path d=\"M18.56 5.44l.94 2.06.94-2.06 2.06-.94-2.06-.94-.94-2.06-.94 2.06-2.06.94zm-11 1L8.5 8.5l.94-2.06 2.06-.94-2.06-.94L8.5 2.5l-.94 2.06-2.06.94zm10 10l.94 2.06.94-2.06 2.06-.94-2.06-.94-.94-2.06-.94 2.06-2.06.94z\"/><path d=\"M17.41 7.96l-1.37-1.37c-.4-.4-.92-.59-1.43-.59-.52 0-1.04.2-1.43.59L10.3 9.45l-7.72 7.72c-.78.78-.78 2.05 0 2.83L4 21.41c.39.39.9.59 1.41.59.51 0 1.02-.2 1.41-.59l7.78-7.78 2.81-2.81c.8-.78.8-2.07 0-2.86zM5.41 20L4 18.59l7.72-7.72 1.47 1.35L5.41 20z\"/>\n",
              "  </svg>\n",
              "      </button>\n",
              "      \n",
              "  <style>\n",
              "    .colab-df-container {\n",
              "      display:flex;\n",
              "      flex-wrap:wrap;\n",
              "      gap: 12px;\n",
              "    }\n",
              "\n",
              "    .colab-df-convert {\n",
              "      background-color: #E8F0FE;\n",
              "      border: none;\n",
              "      border-radius: 50%;\n",
              "      cursor: pointer;\n",
              "      display: none;\n",
              "      fill: #1967D2;\n",
              "      height: 32px;\n",
              "      padding: 0 0 0 0;\n",
              "      width: 32px;\n",
              "    }\n",
              "\n",
              "    .colab-df-convert:hover {\n",
              "      background-color: #E2EBFA;\n",
              "      box-shadow: 0px 1px 2px rgba(60, 64, 67, 0.3), 0px 1px 3px 1px rgba(60, 64, 67, 0.15);\n",
              "      fill: #174EA6;\n",
              "    }\n",
              "\n",
              "    [theme=dark] .colab-df-convert {\n",
              "      background-color: #3B4455;\n",
              "      fill: #D2E3FC;\n",
              "    }\n",
              "\n",
              "    [theme=dark] .colab-df-convert:hover {\n",
              "      background-color: #434B5C;\n",
              "      box-shadow: 0px 1px 3px 1px rgba(0, 0, 0, 0.15);\n",
              "      filter: drop-shadow(0px 1px 2px rgba(0, 0, 0, 0.3));\n",
              "      fill: #FFFFFF;\n",
              "    }\n",
              "  </style>\n",
              "\n",
              "      <script>\n",
              "        const buttonEl =\n",
              "          document.querySelector('#df-51e11ffc-6230-4429-b5e1-c8744d4c7d0a button.colab-df-convert');\n",
              "        buttonEl.style.display =\n",
              "          google.colab.kernel.accessAllowed ? 'block' : 'none';\n",
              "\n",
              "        async function convertToInteractive(key) {\n",
              "          const element = document.querySelector('#df-51e11ffc-6230-4429-b5e1-c8744d4c7d0a');\n",
              "          const dataTable =\n",
              "            await google.colab.kernel.invokeFunction('convertToInteractive',\n",
              "                                                     [key], {});\n",
              "          if (!dataTable) return;\n",
              "\n",
              "          const docLinkHtml = 'Like what you see? Visit the ' +\n",
              "            '<a target=\"_blank\" href=https://colab.research.google.com/notebooks/data_table.ipynb>data table notebook</a>'\n",
              "            + ' to learn more about interactive tables.';\n",
              "          element.innerHTML = '';\n",
              "          dataTable['output_type'] = 'display_data';\n",
              "          await google.colab.output.renderOutput(dataTable, element);\n",
              "          const docLink = document.createElement('div');\n",
              "          docLink.innerHTML = docLinkHtml;\n",
              "          element.appendChild(docLink);\n",
              "        }\n",
              "      </script>\n",
              "    </div>\n",
              "  </div>\n",
              "  "
            ]
          },
          "metadata": {},
          "execution_count": 51
        }
      ]
    },
    {
      "cell_type": "markdown",
      "source": [
        "## **medium**"
      ],
      "metadata": {
        "id": "N19kBL1RYZDh"
      }
    },
    {
      "cell_type": "code",
      "source": [
        "df_medium_true = res_true_df.copy()\n",
        "df_medium_true = df_medium_true[df_medium_true['TARGET'] == 'medium']\n",
        "descr_df_medium_true = df_medium_true.describe()\n",
        "descr_df_medium_true"
      ],
      "metadata": {
        "colab": {
          "base_uri": "https://localhost:8080/",
          "height": 300
        },
        "id": "WnaqdG8IYdFO",
        "outputId": "3d69d88c-4212-4cf7-cd85-1c15b1e38ead"
      },
      "execution_count": 52,
      "outputs": [
        {
          "output_type": "execute_result",
          "data": {
            "text/plain": [
              "        bathrooms    bedrooms    latitude   longitude        price  \\\n",
              "count  448.000000  448.000000  448.000000  448.000000   448.000000   \n",
              "mean     1.149554    1.685268   40.747712  -73.968450  2896.122768   \n",
              "std      0.357032    1.149480    0.045304    0.038321  1024.482221   \n",
              "min      1.000000    0.000000   40.578200  -74.222400   695.000000   \n",
              "25%      1.000000    1.000000   40.724125  -73.990025  2183.750000   \n",
              "50%      1.000000    2.000000   40.748800  -73.976200  2700.000000   \n",
              "75%      1.000000    2.000000   40.775300  -73.950600  3250.000000   \n",
              "max      2.000000    4.000000   40.878800  -73.714200  7000.000000   \n",
              "\n",
              "       num_of_features  num_of_photos    descr_len  datetime_created  \n",
              "count       448.000000     448.000000   448.000000        448.000000  \n",
              "mean          6.566964       5.823661   677.881696         44.992830  \n",
              "std           4.358127       2.285578   337.604480         24.915215  \n",
              "min           0.000000       0.000000     0.000000          0.046447  \n",
              "25%           3.000000       4.000000   467.750000         24.561047  \n",
              "50%           6.000000       6.000000   657.000000         44.058848  \n",
              "75%          10.000000       7.000000   871.000000         66.157546  \n",
              "max          20.000000      15.000000  2278.000000         88.216331  "
            ],
            "text/html": [
              "\n",
              "  <div id=\"df-cb0e2c22-2a1c-456c-a1c3-e0de2291eb49\">\n",
              "    <div class=\"colab-df-container\">\n",
              "      <div>\n",
              "<style scoped>\n",
              "    .dataframe tbody tr th:only-of-type {\n",
              "        vertical-align: middle;\n",
              "    }\n",
              "\n",
              "    .dataframe tbody tr th {\n",
              "        vertical-align: top;\n",
              "    }\n",
              "\n",
              "    .dataframe thead th {\n",
              "        text-align: right;\n",
              "    }\n",
              "</style>\n",
              "<table border=\"1\" class=\"dataframe\">\n",
              "  <thead>\n",
              "    <tr style=\"text-align: right;\">\n",
              "      <th></th>\n",
              "      <th>bathrooms</th>\n",
              "      <th>bedrooms</th>\n",
              "      <th>latitude</th>\n",
              "      <th>longitude</th>\n",
              "      <th>price</th>\n",
              "      <th>num_of_features</th>\n",
              "      <th>num_of_photos</th>\n",
              "      <th>descr_len</th>\n",
              "      <th>datetime_created</th>\n",
              "    </tr>\n",
              "  </thead>\n",
              "  <tbody>\n",
              "    <tr>\n",
              "      <th>count</th>\n",
              "      <td>448.000000</td>\n",
              "      <td>448.000000</td>\n",
              "      <td>448.000000</td>\n",
              "      <td>448.000000</td>\n",
              "      <td>448.000000</td>\n",
              "      <td>448.000000</td>\n",
              "      <td>448.000000</td>\n",
              "      <td>448.000000</td>\n",
              "      <td>448.000000</td>\n",
              "    </tr>\n",
              "    <tr>\n",
              "      <th>mean</th>\n",
              "      <td>1.149554</td>\n",
              "      <td>1.685268</td>\n",
              "      <td>40.747712</td>\n",
              "      <td>-73.968450</td>\n",
              "      <td>2896.122768</td>\n",
              "      <td>6.566964</td>\n",
              "      <td>5.823661</td>\n",
              "      <td>677.881696</td>\n",
              "      <td>44.992830</td>\n",
              "    </tr>\n",
              "    <tr>\n",
              "      <th>std</th>\n",
              "      <td>0.357032</td>\n",
              "      <td>1.149480</td>\n",
              "      <td>0.045304</td>\n",
              "      <td>0.038321</td>\n",
              "      <td>1024.482221</td>\n",
              "      <td>4.358127</td>\n",
              "      <td>2.285578</td>\n",
              "      <td>337.604480</td>\n",
              "      <td>24.915215</td>\n",
              "    </tr>\n",
              "    <tr>\n",
              "      <th>min</th>\n",
              "      <td>1.000000</td>\n",
              "      <td>0.000000</td>\n",
              "      <td>40.578200</td>\n",
              "      <td>-74.222400</td>\n",
              "      <td>695.000000</td>\n",
              "      <td>0.000000</td>\n",
              "      <td>0.000000</td>\n",
              "      <td>0.000000</td>\n",
              "      <td>0.046447</td>\n",
              "    </tr>\n",
              "    <tr>\n",
              "      <th>25%</th>\n",
              "      <td>1.000000</td>\n",
              "      <td>1.000000</td>\n",
              "      <td>40.724125</td>\n",
              "      <td>-73.990025</td>\n",
              "      <td>2183.750000</td>\n",
              "      <td>3.000000</td>\n",
              "      <td>4.000000</td>\n",
              "      <td>467.750000</td>\n",
              "      <td>24.561047</td>\n",
              "    </tr>\n",
              "    <tr>\n",
              "      <th>50%</th>\n",
              "      <td>1.000000</td>\n",
              "      <td>2.000000</td>\n",
              "      <td>40.748800</td>\n",
              "      <td>-73.976200</td>\n",
              "      <td>2700.000000</td>\n",
              "      <td>6.000000</td>\n",
              "      <td>6.000000</td>\n",
              "      <td>657.000000</td>\n",
              "      <td>44.058848</td>\n",
              "    </tr>\n",
              "    <tr>\n",
              "      <th>75%</th>\n",
              "      <td>1.000000</td>\n",
              "      <td>2.000000</td>\n",
              "      <td>40.775300</td>\n",
              "      <td>-73.950600</td>\n",
              "      <td>3250.000000</td>\n",
              "      <td>10.000000</td>\n",
              "      <td>7.000000</td>\n",
              "      <td>871.000000</td>\n",
              "      <td>66.157546</td>\n",
              "    </tr>\n",
              "    <tr>\n",
              "      <th>max</th>\n",
              "      <td>2.000000</td>\n",
              "      <td>4.000000</td>\n",
              "      <td>40.878800</td>\n",
              "      <td>-73.714200</td>\n",
              "      <td>7000.000000</td>\n",
              "      <td>20.000000</td>\n",
              "      <td>15.000000</td>\n",
              "      <td>2278.000000</td>\n",
              "      <td>88.216331</td>\n",
              "    </tr>\n",
              "  </tbody>\n",
              "</table>\n",
              "</div>\n",
              "      <button class=\"colab-df-convert\" onclick=\"convertToInteractive('df-cb0e2c22-2a1c-456c-a1c3-e0de2291eb49')\"\n",
              "              title=\"Convert this dataframe to an interactive table.\"\n",
              "              style=\"display:none;\">\n",
              "        \n",
              "  <svg xmlns=\"http://www.w3.org/2000/svg\" height=\"24px\"viewBox=\"0 0 24 24\"\n",
              "       width=\"24px\">\n",
              "    <path d=\"M0 0h24v24H0V0z\" fill=\"none\"/>\n",
              "    <path d=\"M18.56 5.44l.94 2.06.94-2.06 2.06-.94-2.06-.94-.94-2.06-.94 2.06-2.06.94zm-11 1L8.5 8.5l.94-2.06 2.06-.94-2.06-.94L8.5 2.5l-.94 2.06-2.06.94zm10 10l.94 2.06.94-2.06 2.06-.94-2.06-.94-.94-2.06-.94 2.06-2.06.94z\"/><path d=\"M17.41 7.96l-1.37-1.37c-.4-.4-.92-.59-1.43-.59-.52 0-1.04.2-1.43.59L10.3 9.45l-7.72 7.72c-.78.78-.78 2.05 0 2.83L4 21.41c.39.39.9.59 1.41.59.51 0 1.02-.2 1.41-.59l7.78-7.78 2.81-2.81c.8-.78.8-2.07 0-2.86zM5.41 20L4 18.59l7.72-7.72 1.47 1.35L5.41 20z\"/>\n",
              "  </svg>\n",
              "      </button>\n",
              "      \n",
              "  <style>\n",
              "    .colab-df-container {\n",
              "      display:flex;\n",
              "      flex-wrap:wrap;\n",
              "      gap: 12px;\n",
              "    }\n",
              "\n",
              "    .colab-df-convert {\n",
              "      background-color: #E8F0FE;\n",
              "      border: none;\n",
              "      border-radius: 50%;\n",
              "      cursor: pointer;\n",
              "      display: none;\n",
              "      fill: #1967D2;\n",
              "      height: 32px;\n",
              "      padding: 0 0 0 0;\n",
              "      width: 32px;\n",
              "    }\n",
              "\n",
              "    .colab-df-convert:hover {\n",
              "      background-color: #E2EBFA;\n",
              "      box-shadow: 0px 1px 2px rgba(60, 64, 67, 0.3), 0px 1px 3px 1px rgba(60, 64, 67, 0.15);\n",
              "      fill: #174EA6;\n",
              "    }\n",
              "\n",
              "    [theme=dark] .colab-df-convert {\n",
              "      background-color: #3B4455;\n",
              "      fill: #D2E3FC;\n",
              "    }\n",
              "\n",
              "    [theme=dark] .colab-df-convert:hover {\n",
              "      background-color: #434B5C;\n",
              "      box-shadow: 0px 1px 3px 1px rgba(0, 0, 0, 0.15);\n",
              "      filter: drop-shadow(0px 1px 2px rgba(0, 0, 0, 0.3));\n",
              "      fill: #FFFFFF;\n",
              "    }\n",
              "  </style>\n",
              "\n",
              "      <script>\n",
              "        const buttonEl =\n",
              "          document.querySelector('#df-cb0e2c22-2a1c-456c-a1c3-e0de2291eb49 button.colab-df-convert');\n",
              "        buttonEl.style.display =\n",
              "          google.colab.kernel.accessAllowed ? 'block' : 'none';\n",
              "\n",
              "        async function convertToInteractive(key) {\n",
              "          const element = document.querySelector('#df-cb0e2c22-2a1c-456c-a1c3-e0de2291eb49');\n",
              "          const dataTable =\n",
              "            await google.colab.kernel.invokeFunction('convertToInteractive',\n",
              "                                                     [key], {});\n",
              "          if (!dataTable) return;\n",
              "\n",
              "          const docLinkHtml = 'Like what you see? Visit the ' +\n",
              "            '<a target=\"_blank\" href=https://colab.research.google.com/notebooks/data_table.ipynb>data table notebook</a>'\n",
              "            + ' to learn more about interactive tables.';\n",
              "          element.innerHTML = '';\n",
              "          dataTable['output_type'] = 'display_data';\n",
              "          await google.colab.output.renderOutput(dataTable, element);\n",
              "          const docLink = document.createElement('div');\n",
              "          docLink.innerHTML = docLinkHtml;\n",
              "          element.appendChild(docLink);\n",
              "        }\n",
              "      </script>\n",
              "    </div>\n",
              "  </div>\n",
              "  "
            ]
          },
          "metadata": {},
          "execution_count": 52
        }
      ]
    },
    {
      "cell_type": "markdown",
      "source": [
        "## **high**"
      ],
      "metadata": {
        "id": "UCpmUVMPcEnW"
      }
    },
    {
      "cell_type": "code",
      "source": [
        "df_high_true = res_true_df.copy()\n",
        "df_high_true = df_high_true[df_high_true['TARGET'] == 'high']\n",
        "descr_df_high_true = df_high_true.describe()\n",
        "descr_df_high_true"
      ],
      "metadata": {
        "colab": {
          "base_uri": "https://localhost:8080/",
          "height": 300
        },
        "id": "IsE-qW3JcDte",
        "outputId": "90720bca-5440-4940-f582-b0273b61df5a"
      },
      "execution_count": 53,
      "outputs": [
        {
          "output_type": "execute_result",
          "data": {
            "text/plain": [
              "       bathrooms   bedrooms   latitude  longitude        price  \\\n",
              "count  98.000000  98.000000  98.000000  98.000000    98.000000   \n",
              "mean    1.122449   1.255102  40.750829 -73.951620  2126.336735   \n",
              "std     0.359418   1.087049   0.064324   0.054390   834.077155   \n",
              "min     1.000000   0.000000  40.586300 -74.159800  1100.000000   \n",
              "25%     1.000000   0.000000  40.708125 -73.987575  1500.000000   \n",
              "50%     1.000000   1.000000  40.746350 -73.957800  1899.500000   \n",
              "75%     1.000000   2.000000  40.779975 -73.928975  2498.000000   \n",
              "max     3.000000   4.000000  40.896100 -73.780400  5100.000000   \n",
              "\n",
              "       num_of_features  num_of_photos    descr_len  datetime_created  \n",
              "count        98.000000      98.000000    98.000000         98.000000  \n",
              "mean          5.224490       6.000000   607.489796         47.697682  \n",
              "std           4.665139       3.106362   360.981373         25.708066  \n",
              "min           0.000000       0.000000     0.000000          0.096100  \n",
              "25%           2.000000       4.000000   336.750000         25.418064  \n",
              "50%           4.000000       5.000000   569.000000         46.200272  \n",
              "75%           8.000000       7.000000   796.500000         71.925784  \n",
              "max          17.000000      20.000000  2113.000000         87.210313  "
            ],
            "text/html": [
              "\n",
              "  <div id=\"df-833c664a-3c35-46ba-b214-f1fae43128bf\">\n",
              "    <div class=\"colab-df-container\">\n",
              "      <div>\n",
              "<style scoped>\n",
              "    .dataframe tbody tr th:only-of-type {\n",
              "        vertical-align: middle;\n",
              "    }\n",
              "\n",
              "    .dataframe tbody tr th {\n",
              "        vertical-align: top;\n",
              "    }\n",
              "\n",
              "    .dataframe thead th {\n",
              "        text-align: right;\n",
              "    }\n",
              "</style>\n",
              "<table border=\"1\" class=\"dataframe\">\n",
              "  <thead>\n",
              "    <tr style=\"text-align: right;\">\n",
              "      <th></th>\n",
              "      <th>bathrooms</th>\n",
              "      <th>bedrooms</th>\n",
              "      <th>latitude</th>\n",
              "      <th>longitude</th>\n",
              "      <th>price</th>\n",
              "      <th>num_of_features</th>\n",
              "      <th>num_of_photos</th>\n",
              "      <th>descr_len</th>\n",
              "      <th>datetime_created</th>\n",
              "    </tr>\n",
              "  </thead>\n",
              "  <tbody>\n",
              "    <tr>\n",
              "      <th>count</th>\n",
              "      <td>98.000000</td>\n",
              "      <td>98.000000</td>\n",
              "      <td>98.000000</td>\n",
              "      <td>98.000000</td>\n",
              "      <td>98.000000</td>\n",
              "      <td>98.000000</td>\n",
              "      <td>98.000000</td>\n",
              "      <td>98.000000</td>\n",
              "      <td>98.000000</td>\n",
              "    </tr>\n",
              "    <tr>\n",
              "      <th>mean</th>\n",
              "      <td>1.122449</td>\n",
              "      <td>1.255102</td>\n",
              "      <td>40.750829</td>\n",
              "      <td>-73.951620</td>\n",
              "      <td>2126.336735</td>\n",
              "      <td>5.224490</td>\n",
              "      <td>6.000000</td>\n",
              "      <td>607.489796</td>\n",
              "      <td>47.697682</td>\n",
              "    </tr>\n",
              "    <tr>\n",
              "      <th>std</th>\n",
              "      <td>0.359418</td>\n",
              "      <td>1.087049</td>\n",
              "      <td>0.064324</td>\n",
              "      <td>0.054390</td>\n",
              "      <td>834.077155</td>\n",
              "      <td>4.665139</td>\n",
              "      <td>3.106362</td>\n",
              "      <td>360.981373</td>\n",
              "      <td>25.708066</td>\n",
              "    </tr>\n",
              "    <tr>\n",
              "      <th>min</th>\n",
              "      <td>1.000000</td>\n",
              "      <td>0.000000</td>\n",
              "      <td>40.586300</td>\n",
              "      <td>-74.159800</td>\n",
              "      <td>1100.000000</td>\n",
              "      <td>0.000000</td>\n",
              "      <td>0.000000</td>\n",
              "      <td>0.000000</td>\n",
              "      <td>0.096100</td>\n",
              "    </tr>\n",
              "    <tr>\n",
              "      <th>25%</th>\n",
              "      <td>1.000000</td>\n",
              "      <td>0.000000</td>\n",
              "      <td>40.708125</td>\n",
              "      <td>-73.987575</td>\n",
              "      <td>1500.000000</td>\n",
              "      <td>2.000000</td>\n",
              "      <td>4.000000</td>\n",
              "      <td>336.750000</td>\n",
              "      <td>25.418064</td>\n",
              "    </tr>\n",
              "    <tr>\n",
              "      <th>50%</th>\n",
              "      <td>1.000000</td>\n",
              "      <td>1.000000</td>\n",
              "      <td>40.746350</td>\n",
              "      <td>-73.957800</td>\n",
              "      <td>1899.500000</td>\n",
              "      <td>4.000000</td>\n",
              "      <td>5.000000</td>\n",
              "      <td>569.000000</td>\n",
              "      <td>46.200272</td>\n",
              "    </tr>\n",
              "    <tr>\n",
              "      <th>75%</th>\n",
              "      <td>1.000000</td>\n",
              "      <td>2.000000</td>\n",
              "      <td>40.779975</td>\n",
              "      <td>-73.928975</td>\n",
              "      <td>2498.000000</td>\n",
              "      <td>8.000000</td>\n",
              "      <td>7.000000</td>\n",
              "      <td>796.500000</td>\n",
              "      <td>71.925784</td>\n",
              "    </tr>\n",
              "    <tr>\n",
              "      <th>max</th>\n",
              "      <td>3.000000</td>\n",
              "      <td>4.000000</td>\n",
              "      <td>40.896100</td>\n",
              "      <td>-73.780400</td>\n",
              "      <td>5100.000000</td>\n",
              "      <td>17.000000</td>\n",
              "      <td>20.000000</td>\n",
              "      <td>2113.000000</td>\n",
              "      <td>87.210313</td>\n",
              "    </tr>\n",
              "  </tbody>\n",
              "</table>\n",
              "</div>\n",
              "      <button class=\"colab-df-convert\" onclick=\"convertToInteractive('df-833c664a-3c35-46ba-b214-f1fae43128bf')\"\n",
              "              title=\"Convert this dataframe to an interactive table.\"\n",
              "              style=\"display:none;\">\n",
              "        \n",
              "  <svg xmlns=\"http://www.w3.org/2000/svg\" height=\"24px\"viewBox=\"0 0 24 24\"\n",
              "       width=\"24px\">\n",
              "    <path d=\"M0 0h24v24H0V0z\" fill=\"none\"/>\n",
              "    <path d=\"M18.56 5.44l.94 2.06.94-2.06 2.06-.94-2.06-.94-.94-2.06-.94 2.06-2.06.94zm-11 1L8.5 8.5l.94-2.06 2.06-.94-2.06-.94L8.5 2.5l-.94 2.06-2.06.94zm10 10l.94 2.06.94-2.06 2.06-.94-2.06-.94-.94-2.06-.94 2.06-2.06.94z\"/><path d=\"M17.41 7.96l-1.37-1.37c-.4-.4-.92-.59-1.43-.59-.52 0-1.04.2-1.43.59L10.3 9.45l-7.72 7.72c-.78.78-.78 2.05 0 2.83L4 21.41c.39.39.9.59 1.41.59.51 0 1.02-.2 1.41-.59l7.78-7.78 2.81-2.81c.8-.78.8-2.07 0-2.86zM5.41 20L4 18.59l7.72-7.72 1.47 1.35L5.41 20z\"/>\n",
              "  </svg>\n",
              "      </button>\n",
              "      \n",
              "  <style>\n",
              "    .colab-df-container {\n",
              "      display:flex;\n",
              "      flex-wrap:wrap;\n",
              "      gap: 12px;\n",
              "    }\n",
              "\n",
              "    .colab-df-convert {\n",
              "      background-color: #E8F0FE;\n",
              "      border: none;\n",
              "      border-radius: 50%;\n",
              "      cursor: pointer;\n",
              "      display: none;\n",
              "      fill: #1967D2;\n",
              "      height: 32px;\n",
              "      padding: 0 0 0 0;\n",
              "      width: 32px;\n",
              "    }\n",
              "\n",
              "    .colab-df-convert:hover {\n",
              "      background-color: #E2EBFA;\n",
              "      box-shadow: 0px 1px 2px rgba(60, 64, 67, 0.3), 0px 1px 3px 1px rgba(60, 64, 67, 0.15);\n",
              "      fill: #174EA6;\n",
              "    }\n",
              "\n",
              "    [theme=dark] .colab-df-convert {\n",
              "      background-color: #3B4455;\n",
              "      fill: #D2E3FC;\n",
              "    }\n",
              "\n",
              "    [theme=dark] .colab-df-convert:hover {\n",
              "      background-color: #434B5C;\n",
              "      box-shadow: 0px 1px 3px 1px rgba(0, 0, 0, 0.15);\n",
              "      filter: drop-shadow(0px 1px 2px rgba(0, 0, 0, 0.3));\n",
              "      fill: #FFFFFF;\n",
              "    }\n",
              "  </style>\n",
              "\n",
              "      <script>\n",
              "        const buttonEl =\n",
              "          document.querySelector('#df-833c664a-3c35-46ba-b214-f1fae43128bf button.colab-df-convert');\n",
              "        buttonEl.style.display =\n",
              "          google.colab.kernel.accessAllowed ? 'block' : 'none';\n",
              "\n",
              "        async function convertToInteractive(key) {\n",
              "          const element = document.querySelector('#df-833c664a-3c35-46ba-b214-f1fae43128bf');\n",
              "          const dataTable =\n",
              "            await google.colab.kernel.invokeFunction('convertToInteractive',\n",
              "                                                     [key], {});\n",
              "          if (!dataTable) return;\n",
              "\n",
              "          const docLinkHtml = 'Like what you see? Visit the ' +\n",
              "            '<a target=\"_blank\" href=https://colab.research.google.com/notebooks/data_table.ipynb>data table notebook</a>'\n",
              "            + ' to learn more about interactive tables.';\n",
              "          element.innerHTML = '';\n",
              "          dataTable['output_type'] = 'display_data';\n",
              "          await google.colab.output.renderOutput(dataTable, element);\n",
              "          const docLink = document.createElement('div');\n",
              "          docLink.innerHTML = docLinkHtml;\n",
              "          element.appendChild(docLink);\n",
              "        }\n",
              "      </script>\n",
              "    </div>\n",
              "  </div>\n",
              "  "
            ]
          },
          "metadata": {},
          "execution_count": 53
        }
      ]
    },
    {
      "cell_type": "markdown",
      "source": [
        "## **Ошибка когда правильному значению medium присваивают low**"
      ],
      "metadata": {
        "id": "4lDAW-LJ49xo"
      }
    },
    {
      "cell_type": "markdown",
      "source": [
        "**Видим, что основные различия присутствуют в столбцах bathrooms,bedrooms,price\tnum_of_features,num_of_photos,descr_len**\n",
        "\n",
        "**Рассмотрим самую частую ошибку, где target medium присваивают значение low и сравним с правильно определенными target**"
      ],
      "metadata": {
        "id": "RmMJJDdXc7hH"
      }
    },
    {
      "cell_type": "code",
      "source": [
        "true_med_pred_low = res_errors_df.loc[((res_errors_df['pred_Target'] == 'low') & (res_errors_df['TARGET'] == 'medium'))]\n",
        "descr_true_med_pred_low = true_med_pred_low.describe()\n",
        "descr_true_med_pred_low"
      ],
      "metadata": {
        "colab": {
          "base_uri": "https://localhost:8080/",
          "height": 300
        },
        "id": "gL7ySUJLc7A2",
        "outputId": "66f8b739-efae-4520-80af-02df98c691db"
      },
      "execution_count": 54,
      "outputs": [
        {
          "output_type": "execute_result",
          "data": {
            "text/plain": [
              "        bathrooms    bedrooms    latitude   longitude         price  \\\n",
              "count  673.000000  673.000000  673.000000  673.000000    673.000000   \n",
              "mean     1.186478    1.567608   40.749604  -73.973567   3400.008915   \n",
              "std      0.407969    1.125446    0.034310    0.027518   1435.388145   \n",
              "min      1.000000    0.000000   40.587200  -74.029600   1000.000000   \n",
              "25%      1.000000    1.000000   40.730100  -73.992700   2495.000000   \n",
              "50%      1.000000    1.000000   40.748700  -73.979000   3050.000000   \n",
              "75%      1.000000    2.000000   40.768100  -73.958100   3895.000000   \n",
              "max      3.000000    4.000000   40.861900  -73.824300  14000.000000   \n",
              "\n",
              "       num_of_features  num_of_photos    descr_len  datetime_created  \n",
              "count       673.000000     673.000000   673.000000        673.000000  \n",
              "mean          5.665676       5.723626   652.490342         44.330146  \n",
              "std           4.107879       2.747454   386.320328         25.072702  \n",
              "min           0.000000       0.000000     0.000000          0.053079  \n",
              "25%           2.000000       4.000000   396.000000         23.063762  \n",
              "50%           5.000000       5.000000   602.000000         42.152176  \n",
              "75%           8.000000       7.000000   851.000000         66.174236  \n",
              "max          19.000000      20.000000  2503.000000         88.209387  "
            ],
            "text/html": [
              "\n",
              "  <div id=\"df-67e24920-7f48-4372-ba3d-10bc1596b621\">\n",
              "    <div class=\"colab-df-container\">\n",
              "      <div>\n",
              "<style scoped>\n",
              "    .dataframe tbody tr th:only-of-type {\n",
              "        vertical-align: middle;\n",
              "    }\n",
              "\n",
              "    .dataframe tbody tr th {\n",
              "        vertical-align: top;\n",
              "    }\n",
              "\n",
              "    .dataframe thead th {\n",
              "        text-align: right;\n",
              "    }\n",
              "</style>\n",
              "<table border=\"1\" class=\"dataframe\">\n",
              "  <thead>\n",
              "    <tr style=\"text-align: right;\">\n",
              "      <th></th>\n",
              "      <th>bathrooms</th>\n",
              "      <th>bedrooms</th>\n",
              "      <th>latitude</th>\n",
              "      <th>longitude</th>\n",
              "      <th>price</th>\n",
              "      <th>num_of_features</th>\n",
              "      <th>num_of_photos</th>\n",
              "      <th>descr_len</th>\n",
              "      <th>datetime_created</th>\n",
              "    </tr>\n",
              "  </thead>\n",
              "  <tbody>\n",
              "    <tr>\n",
              "      <th>count</th>\n",
              "      <td>673.000000</td>\n",
              "      <td>673.000000</td>\n",
              "      <td>673.000000</td>\n",
              "      <td>673.000000</td>\n",
              "      <td>673.000000</td>\n",
              "      <td>673.000000</td>\n",
              "      <td>673.000000</td>\n",
              "      <td>673.000000</td>\n",
              "      <td>673.000000</td>\n",
              "    </tr>\n",
              "    <tr>\n",
              "      <th>mean</th>\n",
              "      <td>1.186478</td>\n",
              "      <td>1.567608</td>\n",
              "      <td>40.749604</td>\n",
              "      <td>-73.973567</td>\n",
              "      <td>3400.008915</td>\n",
              "      <td>5.665676</td>\n",
              "      <td>5.723626</td>\n",
              "      <td>652.490342</td>\n",
              "      <td>44.330146</td>\n",
              "    </tr>\n",
              "    <tr>\n",
              "      <th>std</th>\n",
              "      <td>0.407969</td>\n",
              "      <td>1.125446</td>\n",
              "      <td>0.034310</td>\n",
              "      <td>0.027518</td>\n",
              "      <td>1435.388145</td>\n",
              "      <td>4.107879</td>\n",
              "      <td>2.747454</td>\n",
              "      <td>386.320328</td>\n",
              "      <td>25.072702</td>\n",
              "    </tr>\n",
              "    <tr>\n",
              "      <th>min</th>\n",
              "      <td>1.000000</td>\n",
              "      <td>0.000000</td>\n",
              "      <td>40.587200</td>\n",
              "      <td>-74.029600</td>\n",
              "      <td>1000.000000</td>\n",
              "      <td>0.000000</td>\n",
              "      <td>0.000000</td>\n",
              "      <td>0.000000</td>\n",
              "      <td>0.053079</td>\n",
              "    </tr>\n",
              "    <tr>\n",
              "      <th>25%</th>\n",
              "      <td>1.000000</td>\n",
              "      <td>1.000000</td>\n",
              "      <td>40.730100</td>\n",
              "      <td>-73.992700</td>\n",
              "      <td>2495.000000</td>\n",
              "      <td>2.000000</td>\n",
              "      <td>4.000000</td>\n",
              "      <td>396.000000</td>\n",
              "      <td>23.063762</td>\n",
              "    </tr>\n",
              "    <tr>\n",
              "      <th>50%</th>\n",
              "      <td>1.000000</td>\n",
              "      <td>1.000000</td>\n",
              "      <td>40.748700</td>\n",
              "      <td>-73.979000</td>\n",
              "      <td>3050.000000</td>\n",
              "      <td>5.000000</td>\n",
              "      <td>5.000000</td>\n",
              "      <td>602.000000</td>\n",
              "      <td>42.152176</td>\n",
              "    </tr>\n",
              "    <tr>\n",
              "      <th>75%</th>\n",
              "      <td>1.000000</td>\n",
              "      <td>2.000000</td>\n",
              "      <td>40.768100</td>\n",
              "      <td>-73.958100</td>\n",
              "      <td>3895.000000</td>\n",
              "      <td>8.000000</td>\n",
              "      <td>7.000000</td>\n",
              "      <td>851.000000</td>\n",
              "      <td>66.174236</td>\n",
              "    </tr>\n",
              "    <tr>\n",
              "      <th>max</th>\n",
              "      <td>3.000000</td>\n",
              "      <td>4.000000</td>\n",
              "      <td>40.861900</td>\n",
              "      <td>-73.824300</td>\n",
              "      <td>14000.000000</td>\n",
              "      <td>19.000000</td>\n",
              "      <td>20.000000</td>\n",
              "      <td>2503.000000</td>\n",
              "      <td>88.209387</td>\n",
              "    </tr>\n",
              "  </tbody>\n",
              "</table>\n",
              "</div>\n",
              "      <button class=\"colab-df-convert\" onclick=\"convertToInteractive('df-67e24920-7f48-4372-ba3d-10bc1596b621')\"\n",
              "              title=\"Convert this dataframe to an interactive table.\"\n",
              "              style=\"display:none;\">\n",
              "        \n",
              "  <svg xmlns=\"http://www.w3.org/2000/svg\" height=\"24px\"viewBox=\"0 0 24 24\"\n",
              "       width=\"24px\">\n",
              "    <path d=\"M0 0h24v24H0V0z\" fill=\"none\"/>\n",
              "    <path d=\"M18.56 5.44l.94 2.06.94-2.06 2.06-.94-2.06-.94-.94-2.06-.94 2.06-2.06.94zm-11 1L8.5 8.5l.94-2.06 2.06-.94-2.06-.94L8.5 2.5l-.94 2.06-2.06.94zm10 10l.94 2.06.94-2.06 2.06-.94-2.06-.94-.94-2.06-.94 2.06-2.06.94z\"/><path d=\"M17.41 7.96l-1.37-1.37c-.4-.4-.92-.59-1.43-.59-.52 0-1.04.2-1.43.59L10.3 9.45l-7.72 7.72c-.78.78-.78 2.05 0 2.83L4 21.41c.39.39.9.59 1.41.59.51 0 1.02-.2 1.41-.59l7.78-7.78 2.81-2.81c.8-.78.8-2.07 0-2.86zM5.41 20L4 18.59l7.72-7.72 1.47 1.35L5.41 20z\"/>\n",
              "  </svg>\n",
              "      </button>\n",
              "      \n",
              "  <style>\n",
              "    .colab-df-container {\n",
              "      display:flex;\n",
              "      flex-wrap:wrap;\n",
              "      gap: 12px;\n",
              "    }\n",
              "\n",
              "    .colab-df-convert {\n",
              "      background-color: #E8F0FE;\n",
              "      border: none;\n",
              "      border-radius: 50%;\n",
              "      cursor: pointer;\n",
              "      display: none;\n",
              "      fill: #1967D2;\n",
              "      height: 32px;\n",
              "      padding: 0 0 0 0;\n",
              "      width: 32px;\n",
              "    }\n",
              "\n",
              "    .colab-df-convert:hover {\n",
              "      background-color: #E2EBFA;\n",
              "      box-shadow: 0px 1px 2px rgba(60, 64, 67, 0.3), 0px 1px 3px 1px rgba(60, 64, 67, 0.15);\n",
              "      fill: #174EA6;\n",
              "    }\n",
              "\n",
              "    [theme=dark] .colab-df-convert {\n",
              "      background-color: #3B4455;\n",
              "      fill: #D2E3FC;\n",
              "    }\n",
              "\n",
              "    [theme=dark] .colab-df-convert:hover {\n",
              "      background-color: #434B5C;\n",
              "      box-shadow: 0px 1px 3px 1px rgba(0, 0, 0, 0.15);\n",
              "      filter: drop-shadow(0px 1px 2px rgba(0, 0, 0, 0.3));\n",
              "      fill: #FFFFFF;\n",
              "    }\n",
              "  </style>\n",
              "\n",
              "      <script>\n",
              "        const buttonEl =\n",
              "          document.querySelector('#df-67e24920-7f48-4372-ba3d-10bc1596b621 button.colab-df-convert');\n",
              "        buttonEl.style.display =\n",
              "          google.colab.kernel.accessAllowed ? 'block' : 'none';\n",
              "\n",
              "        async function convertToInteractive(key) {\n",
              "          const element = document.querySelector('#df-67e24920-7f48-4372-ba3d-10bc1596b621');\n",
              "          const dataTable =\n",
              "            await google.colab.kernel.invokeFunction('convertToInteractive',\n",
              "                                                     [key], {});\n",
              "          if (!dataTable) return;\n",
              "\n",
              "          const docLinkHtml = 'Like what you see? Visit the ' +\n",
              "            '<a target=\"_blank\" href=https://colab.research.google.com/notebooks/data_table.ipynb>data table notebook</a>'\n",
              "            + ' to learn more about interactive tables.';\n",
              "          element.innerHTML = '';\n",
              "          dataTable['output_type'] = 'display_data';\n",
              "          await google.colab.output.renderOutput(dataTable, element);\n",
              "          const docLink = document.createElement('div');\n",
              "          docLink.innerHTML = docLinkHtml;\n",
              "          element.appendChild(docLink);\n",
              "        }\n",
              "      </script>\n",
              "    </div>\n",
              "  </div>\n",
              "  "
            ]
          },
          "metadata": {},
          "execution_count": 54
        }
      ]
    },
    {
      "cell_type": "code",
      "source": [
        "list_of_important_features = descr_df_low_true.columns.values.tolist()\n",
        "df_medium_low = pd.DataFrame(columns=list_of_important_features, index=range(0, 6))\n",
        "for feature in list_of_important_features:\n",
        "  df_medium_low[feature][0] = descr_df_low_true.loc[['mean']][feature][0]\n",
        "  df_medium_low[feature][1] = descr_true_med_pred_low.loc[['mean']][feature][0]\n",
        "  df_medium_low[feature][2] = descr_df_medium_true.loc[['mean']][feature][0]\n",
        "  df_medium_low[feature][3] = abs(df_medium_low[feature][1] - df_medium_low[feature][0])\n",
        "  df_medium_low[feature][4] = abs(df_medium_low[feature][1] - df_medium_low[feature][2])\n",
        "  if df_medium_low[feature][3] < df_medium_low[feature][4]:\n",
        "    df_medium_low[feature][5] = 'low'\n",
        "  else:\n",
        "    df_medium_low[feature][5] = 'medium'\n",
        "\n",
        "df_medium_low['Results'] = ['True low', 'Predicted low when medium' ,'True medium', 'The difference to true low', 'The difference to true medium', 'Near-Target']\n",
        "\n",
        "df_medium_low"
      ],
      "metadata": {
        "colab": {
          "base_uri": "https://localhost:8080/",
          "height": 238
        },
        "id": "cEhOAOoofxhB",
        "outputId": "8dc0052e-be30-4dca-e477-15aec5faa9d7"
      },
      "execution_count": 55,
      "outputs": [
        {
          "output_type": "execute_result",
          "data": {
            "text/plain": [
              "  bathrooms  bedrooms   latitude  longitude        price num_of_features  \\\n",
              "0  1.238817  1.477334  40.754288 -73.971416   3950.48604        5.256379   \n",
              "1  1.186478  1.567608  40.749604 -73.973567  3400.008915        5.665676   \n",
              "2  1.149554  1.685268  40.747712  -73.96845  2896.122768        6.566964   \n",
              "3  0.052339  0.090274   0.004684   0.002151   550.477125        0.409297   \n",
              "4  0.036925   0.11766   0.001892   0.005117   503.886147        0.901288   \n",
              "5    medium       low     medium        low       medium             low   \n",
              "\n",
              "  num_of_photos   descr_len datetime_created                        Results  \n",
              "0      5.502552  574.845992        44.312282                       True low  \n",
              "1      5.723626  652.490342        44.330146      Predicted low when medium  \n",
              "2      5.823661  677.881696         44.99283                    True medium  \n",
              "3      0.221074    77.64435         0.017864     The difference to true low  \n",
              "4      0.100035   25.391355         0.662684  The difference to true medium  \n",
              "5        medium      medium              low                    Near-Target  "
            ],
            "text/html": [
              "\n",
              "  <div id=\"df-5ea496cd-15a1-45e5-a235-01a9bf39c97f\">\n",
              "    <div class=\"colab-df-container\">\n",
              "      <div>\n",
              "<style scoped>\n",
              "    .dataframe tbody tr th:only-of-type {\n",
              "        vertical-align: middle;\n",
              "    }\n",
              "\n",
              "    .dataframe tbody tr th {\n",
              "        vertical-align: top;\n",
              "    }\n",
              "\n",
              "    .dataframe thead th {\n",
              "        text-align: right;\n",
              "    }\n",
              "</style>\n",
              "<table border=\"1\" class=\"dataframe\">\n",
              "  <thead>\n",
              "    <tr style=\"text-align: right;\">\n",
              "      <th></th>\n",
              "      <th>bathrooms</th>\n",
              "      <th>bedrooms</th>\n",
              "      <th>latitude</th>\n",
              "      <th>longitude</th>\n",
              "      <th>price</th>\n",
              "      <th>num_of_features</th>\n",
              "      <th>num_of_photos</th>\n",
              "      <th>descr_len</th>\n",
              "      <th>datetime_created</th>\n",
              "      <th>Results</th>\n",
              "    </tr>\n",
              "  </thead>\n",
              "  <tbody>\n",
              "    <tr>\n",
              "      <th>0</th>\n",
              "      <td>1.238817</td>\n",
              "      <td>1.477334</td>\n",
              "      <td>40.754288</td>\n",
              "      <td>-73.971416</td>\n",
              "      <td>3950.48604</td>\n",
              "      <td>5.256379</td>\n",
              "      <td>5.502552</td>\n",
              "      <td>574.845992</td>\n",
              "      <td>44.312282</td>\n",
              "      <td>True low</td>\n",
              "    </tr>\n",
              "    <tr>\n",
              "      <th>1</th>\n",
              "      <td>1.186478</td>\n",
              "      <td>1.567608</td>\n",
              "      <td>40.749604</td>\n",
              "      <td>-73.973567</td>\n",
              "      <td>3400.008915</td>\n",
              "      <td>5.665676</td>\n",
              "      <td>5.723626</td>\n",
              "      <td>652.490342</td>\n",
              "      <td>44.330146</td>\n",
              "      <td>Predicted low when medium</td>\n",
              "    </tr>\n",
              "    <tr>\n",
              "      <th>2</th>\n",
              "      <td>1.149554</td>\n",
              "      <td>1.685268</td>\n",
              "      <td>40.747712</td>\n",
              "      <td>-73.96845</td>\n",
              "      <td>2896.122768</td>\n",
              "      <td>6.566964</td>\n",
              "      <td>5.823661</td>\n",
              "      <td>677.881696</td>\n",
              "      <td>44.99283</td>\n",
              "      <td>True medium</td>\n",
              "    </tr>\n",
              "    <tr>\n",
              "      <th>3</th>\n",
              "      <td>0.052339</td>\n",
              "      <td>0.090274</td>\n",
              "      <td>0.004684</td>\n",
              "      <td>0.002151</td>\n",
              "      <td>550.477125</td>\n",
              "      <td>0.409297</td>\n",
              "      <td>0.221074</td>\n",
              "      <td>77.64435</td>\n",
              "      <td>0.017864</td>\n",
              "      <td>The difference to true low</td>\n",
              "    </tr>\n",
              "    <tr>\n",
              "      <th>4</th>\n",
              "      <td>0.036925</td>\n",
              "      <td>0.11766</td>\n",
              "      <td>0.001892</td>\n",
              "      <td>0.005117</td>\n",
              "      <td>503.886147</td>\n",
              "      <td>0.901288</td>\n",
              "      <td>0.100035</td>\n",
              "      <td>25.391355</td>\n",
              "      <td>0.662684</td>\n",
              "      <td>The difference to true medium</td>\n",
              "    </tr>\n",
              "    <tr>\n",
              "      <th>5</th>\n",
              "      <td>medium</td>\n",
              "      <td>low</td>\n",
              "      <td>medium</td>\n",
              "      <td>low</td>\n",
              "      <td>medium</td>\n",
              "      <td>low</td>\n",
              "      <td>medium</td>\n",
              "      <td>medium</td>\n",
              "      <td>low</td>\n",
              "      <td>Near-Target</td>\n",
              "    </tr>\n",
              "  </tbody>\n",
              "</table>\n",
              "</div>\n",
              "      <button class=\"colab-df-convert\" onclick=\"convertToInteractive('df-5ea496cd-15a1-45e5-a235-01a9bf39c97f')\"\n",
              "              title=\"Convert this dataframe to an interactive table.\"\n",
              "              style=\"display:none;\">\n",
              "        \n",
              "  <svg xmlns=\"http://www.w3.org/2000/svg\" height=\"24px\"viewBox=\"0 0 24 24\"\n",
              "       width=\"24px\">\n",
              "    <path d=\"M0 0h24v24H0V0z\" fill=\"none\"/>\n",
              "    <path d=\"M18.56 5.44l.94 2.06.94-2.06 2.06-.94-2.06-.94-.94-2.06-.94 2.06-2.06.94zm-11 1L8.5 8.5l.94-2.06 2.06-.94-2.06-.94L8.5 2.5l-.94 2.06-2.06.94zm10 10l.94 2.06.94-2.06 2.06-.94-2.06-.94-.94-2.06-.94 2.06-2.06.94z\"/><path d=\"M17.41 7.96l-1.37-1.37c-.4-.4-.92-.59-1.43-.59-.52 0-1.04.2-1.43.59L10.3 9.45l-7.72 7.72c-.78.78-.78 2.05 0 2.83L4 21.41c.39.39.9.59 1.41.59.51 0 1.02-.2 1.41-.59l7.78-7.78 2.81-2.81c.8-.78.8-2.07 0-2.86zM5.41 20L4 18.59l7.72-7.72 1.47 1.35L5.41 20z\"/>\n",
              "  </svg>\n",
              "      </button>\n",
              "      \n",
              "  <style>\n",
              "    .colab-df-container {\n",
              "      display:flex;\n",
              "      flex-wrap:wrap;\n",
              "      gap: 12px;\n",
              "    }\n",
              "\n",
              "    .colab-df-convert {\n",
              "      background-color: #E8F0FE;\n",
              "      border: none;\n",
              "      border-radius: 50%;\n",
              "      cursor: pointer;\n",
              "      display: none;\n",
              "      fill: #1967D2;\n",
              "      height: 32px;\n",
              "      padding: 0 0 0 0;\n",
              "      width: 32px;\n",
              "    }\n",
              "\n",
              "    .colab-df-convert:hover {\n",
              "      background-color: #E2EBFA;\n",
              "      box-shadow: 0px 1px 2px rgba(60, 64, 67, 0.3), 0px 1px 3px 1px rgba(60, 64, 67, 0.15);\n",
              "      fill: #174EA6;\n",
              "    }\n",
              "\n",
              "    [theme=dark] .colab-df-convert {\n",
              "      background-color: #3B4455;\n",
              "      fill: #D2E3FC;\n",
              "    }\n",
              "\n",
              "    [theme=dark] .colab-df-convert:hover {\n",
              "      background-color: #434B5C;\n",
              "      box-shadow: 0px 1px 3px 1px rgba(0, 0, 0, 0.15);\n",
              "      filter: drop-shadow(0px 1px 2px rgba(0, 0, 0, 0.3));\n",
              "      fill: #FFFFFF;\n",
              "    }\n",
              "  </style>\n",
              "\n",
              "      <script>\n",
              "        const buttonEl =\n",
              "          document.querySelector('#df-5ea496cd-15a1-45e5-a235-01a9bf39c97f button.colab-df-convert');\n",
              "        buttonEl.style.display =\n",
              "          google.colab.kernel.accessAllowed ? 'block' : 'none';\n",
              "\n",
              "        async function convertToInteractive(key) {\n",
              "          const element = document.querySelector('#df-5ea496cd-15a1-45e5-a235-01a9bf39c97f');\n",
              "          const dataTable =\n",
              "            await google.colab.kernel.invokeFunction('convertToInteractive',\n",
              "                                                     [key], {});\n",
              "          if (!dataTable) return;\n",
              "\n",
              "          const docLinkHtml = 'Like what you see? Visit the ' +\n",
              "            '<a target=\"_blank\" href=https://colab.research.google.com/notebooks/data_table.ipynb>data table notebook</a>'\n",
              "            + ' to learn more about interactive tables.';\n",
              "          element.innerHTML = '';\n",
              "          dataTable['output_type'] = 'display_data';\n",
              "          await google.colab.output.renderOutput(dataTable, element);\n",
              "          const docLink = document.createElement('div');\n",
              "          docLink.innerHTML = docLinkHtml;\n",
              "          element.appendChild(docLink);\n",
              "        }\n",
              "      </script>\n",
              "    </div>\n",
              "  </div>\n",
              "  "
            ]
          },
          "metadata": {},
          "execution_count": 55
        }
      ]
    },
    {
      "cell_type": "markdown",
      "source": [
        "**Видим, что для нескольких фичей, таких как bedrooms, longitude, num_of_features\tи datetime_created, среднее значения для неправильно классифицированных объявлений ближе к low, что безусловно влияет на предсказания модели и она начинает ошибаться на medium и ставит low.**"
      ],
      "metadata": {
        "id": "j2UKLaQNFqtu"
      }
    },
    {
      "cell_type": "markdown",
      "source": [
        "## **Ошибка, когда правильному low присваивают medium**"
      ],
      "metadata": {
        "id": "vfHg-eXt5I2Y"
      }
    },
    {
      "cell_type": "code",
      "source": [
        "true_low_pred_med= res_errors_df.loc[((res_errors_df['pred_Target'] == 'medium') & (res_errors_df['TARGET'] == 'low'))]\n",
        "descr_true_low_pred_med = true_low_pred_med.describe()\n",
        "descr_true_low_pred_med"
      ],
      "metadata": {
        "colab": {
          "base_uri": "https://localhost:8080/",
          "height": 300
        },
        "id": "ada9QC7Q47BO",
        "outputId": "b1062b23-8775-44ec-e397-edc14ff49b0e"
      },
      "execution_count": 56,
      "outputs": [
        {
          "output_type": "execute_result",
          "data": {
            "text/plain": [
              "        bathrooms    bedrooms    latitude   longitude        price  \\\n",
              "count  241.000000  241.000000  241.000000  241.000000   241.000000   \n",
              "mean     1.149378    1.672199   40.744834  -73.967998  2854.053942   \n",
              "std      0.357202    1.093739    0.044247    0.035794   944.566806   \n",
              "min      1.000000    0.000000   40.576500  -74.032700  1425.000000   \n",
              "25%      1.000000    1.000000   40.719700  -73.988700  2200.000000   \n",
              "50%      1.000000    2.000000   40.749200  -73.976500  2600.000000   \n",
              "75%      1.000000    2.000000   40.774300  -73.951100  3200.000000   \n",
              "max      2.000000    4.000000   40.843900  -73.751700  7000.000000   \n",
              "\n",
              "       num_of_features  num_of_photos    descr_len  datetime_created  \n",
              "count       241.000000     241.000000   241.000000        241.000000  \n",
              "mean          6.041494       6.000000   669.116183         40.242884  \n",
              "std           3.999784       2.396178   330.487372         26.490613  \n",
              "min           0.000000       0.000000     8.000000          0.066123  \n",
              "25%           3.000000       4.000000   454.000000         17.175648  \n",
              "50%           6.000000       6.000000   619.000000         34.173565  \n",
              "75%           9.000000       7.000000   838.000000         63.195590  \n",
              "max          15.000000      17.000000  1759.000000         88.220301  "
            ],
            "text/html": [
              "\n",
              "  <div id=\"df-68c24718-2df8-4df8-a029-c32cde092d22\">\n",
              "    <div class=\"colab-df-container\">\n",
              "      <div>\n",
              "<style scoped>\n",
              "    .dataframe tbody tr th:only-of-type {\n",
              "        vertical-align: middle;\n",
              "    }\n",
              "\n",
              "    .dataframe tbody tr th {\n",
              "        vertical-align: top;\n",
              "    }\n",
              "\n",
              "    .dataframe thead th {\n",
              "        text-align: right;\n",
              "    }\n",
              "</style>\n",
              "<table border=\"1\" class=\"dataframe\">\n",
              "  <thead>\n",
              "    <tr style=\"text-align: right;\">\n",
              "      <th></th>\n",
              "      <th>bathrooms</th>\n",
              "      <th>bedrooms</th>\n",
              "      <th>latitude</th>\n",
              "      <th>longitude</th>\n",
              "      <th>price</th>\n",
              "      <th>num_of_features</th>\n",
              "      <th>num_of_photos</th>\n",
              "      <th>descr_len</th>\n",
              "      <th>datetime_created</th>\n",
              "    </tr>\n",
              "  </thead>\n",
              "  <tbody>\n",
              "    <tr>\n",
              "      <th>count</th>\n",
              "      <td>241.000000</td>\n",
              "      <td>241.000000</td>\n",
              "      <td>241.000000</td>\n",
              "      <td>241.000000</td>\n",
              "      <td>241.000000</td>\n",
              "      <td>241.000000</td>\n",
              "      <td>241.000000</td>\n",
              "      <td>241.000000</td>\n",
              "      <td>241.000000</td>\n",
              "    </tr>\n",
              "    <tr>\n",
              "      <th>mean</th>\n",
              "      <td>1.149378</td>\n",
              "      <td>1.672199</td>\n",
              "      <td>40.744834</td>\n",
              "      <td>-73.967998</td>\n",
              "      <td>2854.053942</td>\n",
              "      <td>6.041494</td>\n",
              "      <td>6.000000</td>\n",
              "      <td>669.116183</td>\n",
              "      <td>40.242884</td>\n",
              "    </tr>\n",
              "    <tr>\n",
              "      <th>std</th>\n",
              "      <td>0.357202</td>\n",
              "      <td>1.093739</td>\n",
              "      <td>0.044247</td>\n",
              "      <td>0.035794</td>\n",
              "      <td>944.566806</td>\n",
              "      <td>3.999784</td>\n",
              "      <td>2.396178</td>\n",
              "      <td>330.487372</td>\n",
              "      <td>26.490613</td>\n",
              "    </tr>\n",
              "    <tr>\n",
              "      <th>min</th>\n",
              "      <td>1.000000</td>\n",
              "      <td>0.000000</td>\n",
              "      <td>40.576500</td>\n",
              "      <td>-74.032700</td>\n",
              "      <td>1425.000000</td>\n",
              "      <td>0.000000</td>\n",
              "      <td>0.000000</td>\n",
              "      <td>8.000000</td>\n",
              "      <td>0.066123</td>\n",
              "    </tr>\n",
              "    <tr>\n",
              "      <th>25%</th>\n",
              "      <td>1.000000</td>\n",
              "      <td>1.000000</td>\n",
              "      <td>40.719700</td>\n",
              "      <td>-73.988700</td>\n",
              "      <td>2200.000000</td>\n",
              "      <td>3.000000</td>\n",
              "      <td>4.000000</td>\n",
              "      <td>454.000000</td>\n",
              "      <td>17.175648</td>\n",
              "    </tr>\n",
              "    <tr>\n",
              "      <th>50%</th>\n",
              "      <td>1.000000</td>\n",
              "      <td>2.000000</td>\n",
              "      <td>40.749200</td>\n",
              "      <td>-73.976500</td>\n",
              "      <td>2600.000000</td>\n",
              "      <td>6.000000</td>\n",
              "      <td>6.000000</td>\n",
              "      <td>619.000000</td>\n",
              "      <td>34.173565</td>\n",
              "    </tr>\n",
              "    <tr>\n",
              "      <th>75%</th>\n",
              "      <td>1.000000</td>\n",
              "      <td>2.000000</td>\n",
              "      <td>40.774300</td>\n",
              "      <td>-73.951100</td>\n",
              "      <td>3200.000000</td>\n",
              "      <td>9.000000</td>\n",
              "      <td>7.000000</td>\n",
              "      <td>838.000000</td>\n",
              "      <td>63.195590</td>\n",
              "    </tr>\n",
              "    <tr>\n",
              "      <th>max</th>\n",
              "      <td>2.000000</td>\n",
              "      <td>4.000000</td>\n",
              "      <td>40.843900</td>\n",
              "      <td>-73.751700</td>\n",
              "      <td>7000.000000</td>\n",
              "      <td>15.000000</td>\n",
              "      <td>17.000000</td>\n",
              "      <td>1759.000000</td>\n",
              "      <td>88.220301</td>\n",
              "    </tr>\n",
              "  </tbody>\n",
              "</table>\n",
              "</div>\n",
              "      <button class=\"colab-df-convert\" onclick=\"convertToInteractive('df-68c24718-2df8-4df8-a029-c32cde092d22')\"\n",
              "              title=\"Convert this dataframe to an interactive table.\"\n",
              "              style=\"display:none;\">\n",
              "        \n",
              "  <svg xmlns=\"http://www.w3.org/2000/svg\" height=\"24px\"viewBox=\"0 0 24 24\"\n",
              "       width=\"24px\">\n",
              "    <path d=\"M0 0h24v24H0V0z\" fill=\"none\"/>\n",
              "    <path d=\"M18.56 5.44l.94 2.06.94-2.06 2.06-.94-2.06-.94-.94-2.06-.94 2.06-2.06.94zm-11 1L8.5 8.5l.94-2.06 2.06-.94-2.06-.94L8.5 2.5l-.94 2.06-2.06.94zm10 10l.94 2.06.94-2.06 2.06-.94-2.06-.94-.94-2.06-.94 2.06-2.06.94z\"/><path d=\"M17.41 7.96l-1.37-1.37c-.4-.4-.92-.59-1.43-.59-.52 0-1.04.2-1.43.59L10.3 9.45l-7.72 7.72c-.78.78-.78 2.05 0 2.83L4 21.41c.39.39.9.59 1.41.59.51 0 1.02-.2 1.41-.59l7.78-7.78 2.81-2.81c.8-.78.8-2.07 0-2.86zM5.41 20L4 18.59l7.72-7.72 1.47 1.35L5.41 20z\"/>\n",
              "  </svg>\n",
              "      </button>\n",
              "      \n",
              "  <style>\n",
              "    .colab-df-container {\n",
              "      display:flex;\n",
              "      flex-wrap:wrap;\n",
              "      gap: 12px;\n",
              "    }\n",
              "\n",
              "    .colab-df-convert {\n",
              "      background-color: #E8F0FE;\n",
              "      border: none;\n",
              "      border-radius: 50%;\n",
              "      cursor: pointer;\n",
              "      display: none;\n",
              "      fill: #1967D2;\n",
              "      height: 32px;\n",
              "      padding: 0 0 0 0;\n",
              "      width: 32px;\n",
              "    }\n",
              "\n",
              "    .colab-df-convert:hover {\n",
              "      background-color: #E2EBFA;\n",
              "      box-shadow: 0px 1px 2px rgba(60, 64, 67, 0.3), 0px 1px 3px 1px rgba(60, 64, 67, 0.15);\n",
              "      fill: #174EA6;\n",
              "    }\n",
              "\n",
              "    [theme=dark] .colab-df-convert {\n",
              "      background-color: #3B4455;\n",
              "      fill: #D2E3FC;\n",
              "    }\n",
              "\n",
              "    [theme=dark] .colab-df-convert:hover {\n",
              "      background-color: #434B5C;\n",
              "      box-shadow: 0px 1px 3px 1px rgba(0, 0, 0, 0.15);\n",
              "      filter: drop-shadow(0px 1px 2px rgba(0, 0, 0, 0.3));\n",
              "      fill: #FFFFFF;\n",
              "    }\n",
              "  </style>\n",
              "\n",
              "      <script>\n",
              "        const buttonEl =\n",
              "          document.querySelector('#df-68c24718-2df8-4df8-a029-c32cde092d22 button.colab-df-convert');\n",
              "        buttonEl.style.display =\n",
              "          google.colab.kernel.accessAllowed ? 'block' : 'none';\n",
              "\n",
              "        async function convertToInteractive(key) {\n",
              "          const element = document.querySelector('#df-68c24718-2df8-4df8-a029-c32cde092d22');\n",
              "          const dataTable =\n",
              "            await google.colab.kernel.invokeFunction('convertToInteractive',\n",
              "                                                     [key], {});\n",
              "          if (!dataTable) return;\n",
              "\n",
              "          const docLinkHtml = 'Like what you see? Visit the ' +\n",
              "            '<a target=\"_blank\" href=https://colab.research.google.com/notebooks/data_table.ipynb>data table notebook</a>'\n",
              "            + ' to learn more about interactive tables.';\n",
              "          element.innerHTML = '';\n",
              "          dataTable['output_type'] = 'display_data';\n",
              "          await google.colab.output.renderOutput(dataTable, element);\n",
              "          const docLink = document.createElement('div');\n",
              "          docLink.innerHTML = docLinkHtml;\n",
              "          element.appendChild(docLink);\n",
              "        }\n",
              "      </script>\n",
              "    </div>\n",
              "  </div>\n",
              "  "
            ]
          },
          "metadata": {},
          "execution_count": 56
        }
      ]
    },
    {
      "cell_type": "code",
      "source": [
        "list_of_important_features = descr_df_low_true.columns.values.tolist()\n",
        "df_low_medium = pd.DataFrame(columns=list_of_important_features, index=range(0, 6))\n",
        "for feature in list_of_important_features:\n",
        "  df_low_medium[feature][0] = descr_df_low_true.loc[['mean']][feature][0]\n",
        "  df_low_medium[feature][1] = descr_true_low_pred_med.loc[['mean']][feature][0]\n",
        "  df_low_medium[feature][2] = descr_df_medium_true.loc[['mean']][feature][0]\n",
        "  df_low_medium[feature][3] = abs(df_low_medium[feature][1] - df_low_medium[feature][0])\n",
        "  df_low_medium[feature][4] = abs(df_low_medium[feature][1] - df_low_medium[feature][2])\n",
        "  if df_low_medium[feature][3] < df_low_medium[feature][4]:\n",
        "    df_low_medium[feature][5] = 'low'\n",
        "  else:\n",
        "    df_low_medium[feature][5] = 'medium'\n",
        "\n",
        "df_low_medium['Results'] = ['True low', 'Predicted medium when low' ,'True medium', 'The difference to true low', 'The difference to true medium', 'Near-Target']\n",
        "\n",
        "df_low_medium"
      ],
      "metadata": {
        "colab": {
          "base_uri": "https://localhost:8080/",
          "height": 238
        },
        "id": "DXQAI4Xn5cCW",
        "outputId": "3711a301-fc3f-48d1-cf05-b43746ac8efa"
      },
      "execution_count": 57,
      "outputs": [
        {
          "output_type": "execute_result",
          "data": {
            "text/plain": [
              "  bathrooms  bedrooms   latitude  longitude        price num_of_features  \\\n",
              "0  1.238817  1.477334  40.754288 -73.971416   3950.48604        5.256379   \n",
              "1  1.149378  1.672199  40.744834 -73.967998  2854.053942        6.041494   \n",
              "2  1.149554  1.685268  40.747712  -73.96845  2896.122768        6.566964   \n",
              "3   0.08944  0.194865   0.009454   0.003418  1096.432098        0.785114   \n",
              "4  0.000176  0.013069   0.002878   0.000451    42.068826        0.525471   \n",
              "5    medium    medium     medium     medium       medium          medium   \n",
              "\n",
              "  num_of_photos   descr_len datetime_created                        Results  \n",
              "0      5.502552  574.845992        44.312282                       True low  \n",
              "1           6.0  669.116183        40.242884      Predicted medium when low  \n",
              "2      5.823661  677.881696         44.99283                    True medium  \n",
              "3      0.497448    94.27019         4.069398     The difference to true low  \n",
              "4      0.176339    8.765514         4.749946  The difference to true medium  \n",
              "5        medium      medium              low                    Near-Target  "
            ],
            "text/html": [
              "\n",
              "  <div id=\"df-4d5f0125-ae4d-4ee3-881e-54cc8d4ac41d\">\n",
              "    <div class=\"colab-df-container\">\n",
              "      <div>\n",
              "<style scoped>\n",
              "    .dataframe tbody tr th:only-of-type {\n",
              "        vertical-align: middle;\n",
              "    }\n",
              "\n",
              "    .dataframe tbody tr th {\n",
              "        vertical-align: top;\n",
              "    }\n",
              "\n",
              "    .dataframe thead th {\n",
              "        text-align: right;\n",
              "    }\n",
              "</style>\n",
              "<table border=\"1\" class=\"dataframe\">\n",
              "  <thead>\n",
              "    <tr style=\"text-align: right;\">\n",
              "      <th></th>\n",
              "      <th>bathrooms</th>\n",
              "      <th>bedrooms</th>\n",
              "      <th>latitude</th>\n",
              "      <th>longitude</th>\n",
              "      <th>price</th>\n",
              "      <th>num_of_features</th>\n",
              "      <th>num_of_photos</th>\n",
              "      <th>descr_len</th>\n",
              "      <th>datetime_created</th>\n",
              "      <th>Results</th>\n",
              "    </tr>\n",
              "  </thead>\n",
              "  <tbody>\n",
              "    <tr>\n",
              "      <th>0</th>\n",
              "      <td>1.238817</td>\n",
              "      <td>1.477334</td>\n",
              "      <td>40.754288</td>\n",
              "      <td>-73.971416</td>\n",
              "      <td>3950.48604</td>\n",
              "      <td>5.256379</td>\n",
              "      <td>5.502552</td>\n",
              "      <td>574.845992</td>\n",
              "      <td>44.312282</td>\n",
              "      <td>True low</td>\n",
              "    </tr>\n",
              "    <tr>\n",
              "      <th>1</th>\n",
              "      <td>1.149378</td>\n",
              "      <td>1.672199</td>\n",
              "      <td>40.744834</td>\n",
              "      <td>-73.967998</td>\n",
              "      <td>2854.053942</td>\n",
              "      <td>6.041494</td>\n",
              "      <td>6.0</td>\n",
              "      <td>669.116183</td>\n",
              "      <td>40.242884</td>\n",
              "      <td>Predicted medium when low</td>\n",
              "    </tr>\n",
              "    <tr>\n",
              "      <th>2</th>\n",
              "      <td>1.149554</td>\n",
              "      <td>1.685268</td>\n",
              "      <td>40.747712</td>\n",
              "      <td>-73.96845</td>\n",
              "      <td>2896.122768</td>\n",
              "      <td>6.566964</td>\n",
              "      <td>5.823661</td>\n",
              "      <td>677.881696</td>\n",
              "      <td>44.99283</td>\n",
              "      <td>True medium</td>\n",
              "    </tr>\n",
              "    <tr>\n",
              "      <th>3</th>\n",
              "      <td>0.08944</td>\n",
              "      <td>0.194865</td>\n",
              "      <td>0.009454</td>\n",
              "      <td>0.003418</td>\n",
              "      <td>1096.432098</td>\n",
              "      <td>0.785114</td>\n",
              "      <td>0.497448</td>\n",
              "      <td>94.27019</td>\n",
              "      <td>4.069398</td>\n",
              "      <td>The difference to true low</td>\n",
              "    </tr>\n",
              "    <tr>\n",
              "      <th>4</th>\n",
              "      <td>0.000176</td>\n",
              "      <td>0.013069</td>\n",
              "      <td>0.002878</td>\n",
              "      <td>0.000451</td>\n",
              "      <td>42.068826</td>\n",
              "      <td>0.525471</td>\n",
              "      <td>0.176339</td>\n",
              "      <td>8.765514</td>\n",
              "      <td>4.749946</td>\n",
              "      <td>The difference to true medium</td>\n",
              "    </tr>\n",
              "    <tr>\n",
              "      <th>5</th>\n",
              "      <td>medium</td>\n",
              "      <td>medium</td>\n",
              "      <td>medium</td>\n",
              "      <td>medium</td>\n",
              "      <td>medium</td>\n",
              "      <td>medium</td>\n",
              "      <td>medium</td>\n",
              "      <td>medium</td>\n",
              "      <td>low</td>\n",
              "      <td>Near-Target</td>\n",
              "    </tr>\n",
              "  </tbody>\n",
              "</table>\n",
              "</div>\n",
              "      <button class=\"colab-df-convert\" onclick=\"convertToInteractive('df-4d5f0125-ae4d-4ee3-881e-54cc8d4ac41d')\"\n",
              "              title=\"Convert this dataframe to an interactive table.\"\n",
              "              style=\"display:none;\">\n",
              "        \n",
              "  <svg xmlns=\"http://www.w3.org/2000/svg\" height=\"24px\"viewBox=\"0 0 24 24\"\n",
              "       width=\"24px\">\n",
              "    <path d=\"M0 0h24v24H0V0z\" fill=\"none\"/>\n",
              "    <path d=\"M18.56 5.44l.94 2.06.94-2.06 2.06-.94-2.06-.94-.94-2.06-.94 2.06-2.06.94zm-11 1L8.5 8.5l.94-2.06 2.06-.94-2.06-.94L8.5 2.5l-.94 2.06-2.06.94zm10 10l.94 2.06.94-2.06 2.06-.94-2.06-.94-.94-2.06-.94 2.06-2.06.94z\"/><path d=\"M17.41 7.96l-1.37-1.37c-.4-.4-.92-.59-1.43-.59-.52 0-1.04.2-1.43.59L10.3 9.45l-7.72 7.72c-.78.78-.78 2.05 0 2.83L4 21.41c.39.39.9.59 1.41.59.51 0 1.02-.2 1.41-.59l7.78-7.78 2.81-2.81c.8-.78.8-2.07 0-2.86zM5.41 20L4 18.59l7.72-7.72 1.47 1.35L5.41 20z\"/>\n",
              "  </svg>\n",
              "      </button>\n",
              "      \n",
              "  <style>\n",
              "    .colab-df-container {\n",
              "      display:flex;\n",
              "      flex-wrap:wrap;\n",
              "      gap: 12px;\n",
              "    }\n",
              "\n",
              "    .colab-df-convert {\n",
              "      background-color: #E8F0FE;\n",
              "      border: none;\n",
              "      border-radius: 50%;\n",
              "      cursor: pointer;\n",
              "      display: none;\n",
              "      fill: #1967D2;\n",
              "      height: 32px;\n",
              "      padding: 0 0 0 0;\n",
              "      width: 32px;\n",
              "    }\n",
              "\n",
              "    .colab-df-convert:hover {\n",
              "      background-color: #E2EBFA;\n",
              "      box-shadow: 0px 1px 2px rgba(60, 64, 67, 0.3), 0px 1px 3px 1px rgba(60, 64, 67, 0.15);\n",
              "      fill: #174EA6;\n",
              "    }\n",
              "\n",
              "    [theme=dark] .colab-df-convert {\n",
              "      background-color: #3B4455;\n",
              "      fill: #D2E3FC;\n",
              "    }\n",
              "\n",
              "    [theme=dark] .colab-df-convert:hover {\n",
              "      background-color: #434B5C;\n",
              "      box-shadow: 0px 1px 3px 1px rgba(0, 0, 0, 0.15);\n",
              "      filter: drop-shadow(0px 1px 2px rgba(0, 0, 0, 0.3));\n",
              "      fill: #FFFFFF;\n",
              "    }\n",
              "  </style>\n",
              "\n",
              "      <script>\n",
              "        const buttonEl =\n",
              "          document.querySelector('#df-4d5f0125-ae4d-4ee3-881e-54cc8d4ac41d button.colab-df-convert');\n",
              "        buttonEl.style.display =\n",
              "          google.colab.kernel.accessAllowed ? 'block' : 'none';\n",
              "\n",
              "        async function convertToInteractive(key) {\n",
              "          const element = document.querySelector('#df-4d5f0125-ae4d-4ee3-881e-54cc8d4ac41d');\n",
              "          const dataTable =\n",
              "            await google.colab.kernel.invokeFunction('convertToInteractive',\n",
              "                                                     [key], {});\n",
              "          if (!dataTable) return;\n",
              "\n",
              "          const docLinkHtml = 'Like what you see? Visit the ' +\n",
              "            '<a target=\"_blank\" href=https://colab.research.google.com/notebooks/data_table.ipynb>data table notebook</a>'\n",
              "            + ' to learn more about interactive tables.';\n",
              "          element.innerHTML = '';\n",
              "          dataTable['output_type'] = 'display_data';\n",
              "          await google.colab.output.renderOutput(dataTable, element);\n",
              "          const docLink = document.createElement('div');\n",
              "          docLink.innerHTML = docLinkHtml;\n",
              "          element.appendChild(docLink);\n",
              "        }\n",
              "      </script>\n",
              "    </div>\n",
              "  </div>\n",
              "  "
            ]
          },
          "metadata": {},
          "execution_count": 57
        }
      ]
    },
    {
      "cell_type": "markdown",
      "source": [
        "Видим, что здесь средние значения для всех ошибок почти по всем признакам ближе к medium, в связи с чем модель и делает выбор в его пользу, видна закономерность этих ошибок, видимо низкий интерес к этим объявления проявляется в других фичах, которые не учтены в наших данных"
      ],
      "metadata": {
        "id": "tlS-7M7-HXd1"
      }
    },
    {
      "cell_type": "markdown",
      "source": [
        "## **Ошибка, когда правильному high присваивают medium**"
      ],
      "metadata": {
        "id": "nl_sSObn6cRD"
      }
    },
    {
      "cell_type": "code",
      "source": [
        "true_high_pred_med= res_errors_df.loc[((res_errors_df['pred_Target'] == 'medium') & (res_errors_df['TARGET'] == 'high'))]\n",
        "descr_true_high_pred_med = true_high_pred_med.describe()\n",
        "descr_true_high_pred_med"
      ],
      "metadata": {
        "colab": {
          "base_uri": "https://localhost:8080/",
          "height": 300
        },
        "id": "UtOKHDjp6b2S",
        "outputId": "93e709f9-9408-4b63-e61f-cc2849e2f05d"
      },
      "execution_count": 58,
      "outputs": [
        {
          "output_type": "execute_result",
          "data": {
            "text/plain": [
              "        bathrooms    bedrooms    latitude   longitude        price  \\\n",
              "count  186.000000  186.000000  186.000000  186.000000   186.000000   \n",
              "mean     1.123656    1.607527   40.743526  -73.970561  2765.612903   \n",
              "std      0.376010    1.172545    0.046584    0.032888   984.691342   \n",
              "min      1.000000    0.000000   40.589600  -74.023700  1225.000000   \n",
              "25%      1.000000    1.000000   40.714125  -73.989950  2081.250000   \n",
              "50%      1.000000    2.000000   40.747950  -73.976300  2512.500000   \n",
              "75%      1.000000    2.000000   40.776350  -73.954575  3037.500000   \n",
              "max      4.000000    4.000000   40.871700  -73.786400  7000.000000   \n",
              "\n",
              "       num_of_features  num_of_photos    descr_len  datetime_created  \n",
              "count       186.000000     186.000000   186.000000        186.000000  \n",
              "mean          5.795699       5.790323   637.096774         45.268930  \n",
              "std           4.053851       2.316594   335.724857         24.263134  \n",
              "min           0.000000       0.000000     0.000000          0.079097  \n",
              "25%           3.000000       4.000000   411.250000         25.429068  \n",
              "50%           5.000000       5.000000   606.000000         45.546036  \n",
              "75%           9.000000       7.000000   898.750000         67.187086  \n",
              "max          19.000000      16.000000  1571.000000         88.185949  "
            ],
            "text/html": [
              "\n",
              "  <div id=\"df-cfef73a9-d169-4ce4-8f84-f30151fb64ce\">\n",
              "    <div class=\"colab-df-container\">\n",
              "      <div>\n",
              "<style scoped>\n",
              "    .dataframe tbody tr th:only-of-type {\n",
              "        vertical-align: middle;\n",
              "    }\n",
              "\n",
              "    .dataframe tbody tr th {\n",
              "        vertical-align: top;\n",
              "    }\n",
              "\n",
              "    .dataframe thead th {\n",
              "        text-align: right;\n",
              "    }\n",
              "</style>\n",
              "<table border=\"1\" class=\"dataframe\">\n",
              "  <thead>\n",
              "    <tr style=\"text-align: right;\">\n",
              "      <th></th>\n",
              "      <th>bathrooms</th>\n",
              "      <th>bedrooms</th>\n",
              "      <th>latitude</th>\n",
              "      <th>longitude</th>\n",
              "      <th>price</th>\n",
              "      <th>num_of_features</th>\n",
              "      <th>num_of_photos</th>\n",
              "      <th>descr_len</th>\n",
              "      <th>datetime_created</th>\n",
              "    </tr>\n",
              "  </thead>\n",
              "  <tbody>\n",
              "    <tr>\n",
              "      <th>count</th>\n",
              "      <td>186.000000</td>\n",
              "      <td>186.000000</td>\n",
              "      <td>186.000000</td>\n",
              "      <td>186.000000</td>\n",
              "      <td>186.000000</td>\n",
              "      <td>186.000000</td>\n",
              "      <td>186.000000</td>\n",
              "      <td>186.000000</td>\n",
              "      <td>186.000000</td>\n",
              "    </tr>\n",
              "    <tr>\n",
              "      <th>mean</th>\n",
              "      <td>1.123656</td>\n",
              "      <td>1.607527</td>\n",
              "      <td>40.743526</td>\n",
              "      <td>-73.970561</td>\n",
              "      <td>2765.612903</td>\n",
              "      <td>5.795699</td>\n",
              "      <td>5.790323</td>\n",
              "      <td>637.096774</td>\n",
              "      <td>45.268930</td>\n",
              "    </tr>\n",
              "    <tr>\n",
              "      <th>std</th>\n",
              "      <td>0.376010</td>\n",
              "      <td>1.172545</td>\n",
              "      <td>0.046584</td>\n",
              "      <td>0.032888</td>\n",
              "      <td>984.691342</td>\n",
              "      <td>4.053851</td>\n",
              "      <td>2.316594</td>\n",
              "      <td>335.724857</td>\n",
              "      <td>24.263134</td>\n",
              "    </tr>\n",
              "    <tr>\n",
              "      <th>min</th>\n",
              "      <td>1.000000</td>\n",
              "      <td>0.000000</td>\n",
              "      <td>40.589600</td>\n",
              "      <td>-74.023700</td>\n",
              "      <td>1225.000000</td>\n",
              "      <td>0.000000</td>\n",
              "      <td>0.000000</td>\n",
              "      <td>0.000000</td>\n",
              "      <td>0.079097</td>\n",
              "    </tr>\n",
              "    <tr>\n",
              "      <th>25%</th>\n",
              "      <td>1.000000</td>\n",
              "      <td>1.000000</td>\n",
              "      <td>40.714125</td>\n",
              "      <td>-73.989950</td>\n",
              "      <td>2081.250000</td>\n",
              "      <td>3.000000</td>\n",
              "      <td>4.000000</td>\n",
              "      <td>411.250000</td>\n",
              "      <td>25.429068</td>\n",
              "    </tr>\n",
              "    <tr>\n",
              "      <th>50%</th>\n",
              "      <td>1.000000</td>\n",
              "      <td>2.000000</td>\n",
              "      <td>40.747950</td>\n",
              "      <td>-73.976300</td>\n",
              "      <td>2512.500000</td>\n",
              "      <td>5.000000</td>\n",
              "      <td>5.000000</td>\n",
              "      <td>606.000000</td>\n",
              "      <td>45.546036</td>\n",
              "    </tr>\n",
              "    <tr>\n",
              "      <th>75%</th>\n",
              "      <td>1.000000</td>\n",
              "      <td>2.000000</td>\n",
              "      <td>40.776350</td>\n",
              "      <td>-73.954575</td>\n",
              "      <td>3037.500000</td>\n",
              "      <td>9.000000</td>\n",
              "      <td>7.000000</td>\n",
              "      <td>898.750000</td>\n",
              "      <td>67.187086</td>\n",
              "    </tr>\n",
              "    <tr>\n",
              "      <th>max</th>\n",
              "      <td>4.000000</td>\n",
              "      <td>4.000000</td>\n",
              "      <td>40.871700</td>\n",
              "      <td>-73.786400</td>\n",
              "      <td>7000.000000</td>\n",
              "      <td>19.000000</td>\n",
              "      <td>16.000000</td>\n",
              "      <td>1571.000000</td>\n",
              "      <td>88.185949</td>\n",
              "    </tr>\n",
              "  </tbody>\n",
              "</table>\n",
              "</div>\n",
              "      <button class=\"colab-df-convert\" onclick=\"convertToInteractive('df-cfef73a9-d169-4ce4-8f84-f30151fb64ce')\"\n",
              "              title=\"Convert this dataframe to an interactive table.\"\n",
              "              style=\"display:none;\">\n",
              "        \n",
              "  <svg xmlns=\"http://www.w3.org/2000/svg\" height=\"24px\"viewBox=\"0 0 24 24\"\n",
              "       width=\"24px\">\n",
              "    <path d=\"M0 0h24v24H0V0z\" fill=\"none\"/>\n",
              "    <path d=\"M18.56 5.44l.94 2.06.94-2.06 2.06-.94-2.06-.94-.94-2.06-.94 2.06-2.06.94zm-11 1L8.5 8.5l.94-2.06 2.06-.94-2.06-.94L8.5 2.5l-.94 2.06-2.06.94zm10 10l.94 2.06.94-2.06 2.06-.94-2.06-.94-.94-2.06-.94 2.06-2.06.94z\"/><path d=\"M17.41 7.96l-1.37-1.37c-.4-.4-.92-.59-1.43-.59-.52 0-1.04.2-1.43.59L10.3 9.45l-7.72 7.72c-.78.78-.78 2.05 0 2.83L4 21.41c.39.39.9.59 1.41.59.51 0 1.02-.2 1.41-.59l7.78-7.78 2.81-2.81c.8-.78.8-2.07 0-2.86zM5.41 20L4 18.59l7.72-7.72 1.47 1.35L5.41 20z\"/>\n",
              "  </svg>\n",
              "      </button>\n",
              "      \n",
              "  <style>\n",
              "    .colab-df-container {\n",
              "      display:flex;\n",
              "      flex-wrap:wrap;\n",
              "      gap: 12px;\n",
              "    }\n",
              "\n",
              "    .colab-df-convert {\n",
              "      background-color: #E8F0FE;\n",
              "      border: none;\n",
              "      border-radius: 50%;\n",
              "      cursor: pointer;\n",
              "      display: none;\n",
              "      fill: #1967D2;\n",
              "      height: 32px;\n",
              "      padding: 0 0 0 0;\n",
              "      width: 32px;\n",
              "    }\n",
              "\n",
              "    .colab-df-convert:hover {\n",
              "      background-color: #E2EBFA;\n",
              "      box-shadow: 0px 1px 2px rgba(60, 64, 67, 0.3), 0px 1px 3px 1px rgba(60, 64, 67, 0.15);\n",
              "      fill: #174EA6;\n",
              "    }\n",
              "\n",
              "    [theme=dark] .colab-df-convert {\n",
              "      background-color: #3B4455;\n",
              "      fill: #D2E3FC;\n",
              "    }\n",
              "\n",
              "    [theme=dark] .colab-df-convert:hover {\n",
              "      background-color: #434B5C;\n",
              "      box-shadow: 0px 1px 3px 1px rgba(0, 0, 0, 0.15);\n",
              "      filter: drop-shadow(0px 1px 2px rgba(0, 0, 0, 0.3));\n",
              "      fill: #FFFFFF;\n",
              "    }\n",
              "  </style>\n",
              "\n",
              "      <script>\n",
              "        const buttonEl =\n",
              "          document.querySelector('#df-cfef73a9-d169-4ce4-8f84-f30151fb64ce button.colab-df-convert');\n",
              "        buttonEl.style.display =\n",
              "          google.colab.kernel.accessAllowed ? 'block' : 'none';\n",
              "\n",
              "        async function convertToInteractive(key) {\n",
              "          const element = document.querySelector('#df-cfef73a9-d169-4ce4-8f84-f30151fb64ce');\n",
              "          const dataTable =\n",
              "            await google.colab.kernel.invokeFunction('convertToInteractive',\n",
              "                                                     [key], {});\n",
              "          if (!dataTable) return;\n",
              "\n",
              "          const docLinkHtml = 'Like what you see? Visit the ' +\n",
              "            '<a target=\"_blank\" href=https://colab.research.google.com/notebooks/data_table.ipynb>data table notebook</a>'\n",
              "            + ' to learn more about interactive tables.';\n",
              "          element.innerHTML = '';\n",
              "          dataTable['output_type'] = 'display_data';\n",
              "          await google.colab.output.renderOutput(dataTable, element);\n",
              "          const docLink = document.createElement('div');\n",
              "          docLink.innerHTML = docLinkHtml;\n",
              "          element.appendChild(docLink);\n",
              "        }\n",
              "      </script>\n",
              "    </div>\n",
              "  </div>\n",
              "  "
            ]
          },
          "metadata": {},
          "execution_count": 58
        }
      ]
    },
    {
      "cell_type": "code",
      "source": [
        "list_of_important_features = descr_df_medium_true.columns.values.tolist()\n",
        "df_high_medium = pd.DataFrame(columns=list_of_important_features, index=range(0, 6))\n",
        "for feature in list_of_important_features:\n",
        "  df_high_medium[feature][0] = descr_df_medium_true.loc[['mean']][feature][0]\n",
        "  df_high_medium[feature][1] = descr_true_high_pred_med.loc[['mean']][feature][0]\n",
        "  df_high_medium[feature][2] = descr_df_high_true.loc[['mean']][feature][0]\n",
        "  df_high_medium[feature][3] = abs(df_high_medium[feature][1] - df_high_medium[feature][0])\n",
        "  df_high_medium[feature][4] = abs(df_high_medium[feature][1] - df_high_medium[feature][2])\n",
        "  if df_high_medium[feature][3] < df_high_medium[feature][4]:\n",
        "    df_high_medium[feature][5] = 'medium'\n",
        "  else:\n",
        "    df_high_medium[feature][5] = 'high'\n",
        "\n",
        "df_high_medium['Results'] = ['True medium', 'Predicted medium when high' ,'True high', 'The difference to true medium', 'The difference to true high', 'Near-Target']\n",
        "\n",
        "df_high_medium"
      ],
      "metadata": {
        "colab": {
          "base_uri": "https://localhost:8080/",
          "height": 238
        },
        "id": "Uc5iF9vq6xzg",
        "outputId": "52380a45-4fd3-4f59-ed9d-ab7562b08d2e"
      },
      "execution_count": 59,
      "outputs": [
        {
          "output_type": "execute_result",
          "data": {
            "text/plain": [
              "  bathrooms  bedrooms   latitude  longitude        price num_of_features  \\\n",
              "0  1.149554  1.685268  40.747712  -73.96845  2896.122768        6.566964   \n",
              "1  1.123656  1.607527  40.743526 -73.970561  2765.612903        5.795699   \n",
              "2  1.122449  1.255102  40.750829  -73.95162  2126.336735         5.22449   \n",
              "3  0.025898  0.077741   0.004186   0.002112   130.509865        0.771265   \n",
              "4  0.001207  0.352425   0.007303   0.018941   639.276169        0.571209   \n",
              "5      high    medium     medium     medium       medium            high   \n",
              "\n",
              "  num_of_photos   descr_len datetime_created                        Results  \n",
              "0      5.823661  677.881696         44.99283                    True medium  \n",
              "1      5.790323  637.096774         45.26893     Predicted medium when high  \n",
              "2           6.0  607.489796        47.697682                      True high  \n",
              "3      0.033338   40.784922         0.276099  The difference to true medium  \n",
              "4      0.209677   29.606978         2.428752    The difference to true high  \n",
              "5        medium        high           medium                    Near-Target  "
            ],
            "text/html": [
              "\n",
              "  <div id=\"df-335f99ef-ae40-40e0-910e-c3eb56db4a7e\">\n",
              "    <div class=\"colab-df-container\">\n",
              "      <div>\n",
              "<style scoped>\n",
              "    .dataframe tbody tr th:only-of-type {\n",
              "        vertical-align: middle;\n",
              "    }\n",
              "\n",
              "    .dataframe tbody tr th {\n",
              "        vertical-align: top;\n",
              "    }\n",
              "\n",
              "    .dataframe thead th {\n",
              "        text-align: right;\n",
              "    }\n",
              "</style>\n",
              "<table border=\"1\" class=\"dataframe\">\n",
              "  <thead>\n",
              "    <tr style=\"text-align: right;\">\n",
              "      <th></th>\n",
              "      <th>bathrooms</th>\n",
              "      <th>bedrooms</th>\n",
              "      <th>latitude</th>\n",
              "      <th>longitude</th>\n",
              "      <th>price</th>\n",
              "      <th>num_of_features</th>\n",
              "      <th>num_of_photos</th>\n",
              "      <th>descr_len</th>\n",
              "      <th>datetime_created</th>\n",
              "      <th>Results</th>\n",
              "    </tr>\n",
              "  </thead>\n",
              "  <tbody>\n",
              "    <tr>\n",
              "      <th>0</th>\n",
              "      <td>1.149554</td>\n",
              "      <td>1.685268</td>\n",
              "      <td>40.747712</td>\n",
              "      <td>-73.96845</td>\n",
              "      <td>2896.122768</td>\n",
              "      <td>6.566964</td>\n",
              "      <td>5.823661</td>\n",
              "      <td>677.881696</td>\n",
              "      <td>44.99283</td>\n",
              "      <td>True medium</td>\n",
              "    </tr>\n",
              "    <tr>\n",
              "      <th>1</th>\n",
              "      <td>1.123656</td>\n",
              "      <td>1.607527</td>\n",
              "      <td>40.743526</td>\n",
              "      <td>-73.970561</td>\n",
              "      <td>2765.612903</td>\n",
              "      <td>5.795699</td>\n",
              "      <td>5.790323</td>\n",
              "      <td>637.096774</td>\n",
              "      <td>45.26893</td>\n",
              "      <td>Predicted medium when high</td>\n",
              "    </tr>\n",
              "    <tr>\n",
              "      <th>2</th>\n",
              "      <td>1.122449</td>\n",
              "      <td>1.255102</td>\n",
              "      <td>40.750829</td>\n",
              "      <td>-73.95162</td>\n",
              "      <td>2126.336735</td>\n",
              "      <td>5.22449</td>\n",
              "      <td>6.0</td>\n",
              "      <td>607.489796</td>\n",
              "      <td>47.697682</td>\n",
              "      <td>True high</td>\n",
              "    </tr>\n",
              "    <tr>\n",
              "      <th>3</th>\n",
              "      <td>0.025898</td>\n",
              "      <td>0.077741</td>\n",
              "      <td>0.004186</td>\n",
              "      <td>0.002112</td>\n",
              "      <td>130.509865</td>\n",
              "      <td>0.771265</td>\n",
              "      <td>0.033338</td>\n",
              "      <td>40.784922</td>\n",
              "      <td>0.276099</td>\n",
              "      <td>The difference to true medium</td>\n",
              "    </tr>\n",
              "    <tr>\n",
              "      <th>4</th>\n",
              "      <td>0.001207</td>\n",
              "      <td>0.352425</td>\n",
              "      <td>0.007303</td>\n",
              "      <td>0.018941</td>\n",
              "      <td>639.276169</td>\n",
              "      <td>0.571209</td>\n",
              "      <td>0.209677</td>\n",
              "      <td>29.606978</td>\n",
              "      <td>2.428752</td>\n",
              "      <td>The difference to true high</td>\n",
              "    </tr>\n",
              "    <tr>\n",
              "      <th>5</th>\n",
              "      <td>high</td>\n",
              "      <td>medium</td>\n",
              "      <td>medium</td>\n",
              "      <td>medium</td>\n",
              "      <td>medium</td>\n",
              "      <td>high</td>\n",
              "      <td>medium</td>\n",
              "      <td>high</td>\n",
              "      <td>medium</td>\n",
              "      <td>Near-Target</td>\n",
              "    </tr>\n",
              "  </tbody>\n",
              "</table>\n",
              "</div>\n",
              "      <button class=\"colab-df-convert\" onclick=\"convertToInteractive('df-335f99ef-ae40-40e0-910e-c3eb56db4a7e')\"\n",
              "              title=\"Convert this dataframe to an interactive table.\"\n",
              "              style=\"display:none;\">\n",
              "        \n",
              "  <svg xmlns=\"http://www.w3.org/2000/svg\" height=\"24px\"viewBox=\"0 0 24 24\"\n",
              "       width=\"24px\">\n",
              "    <path d=\"M0 0h24v24H0V0z\" fill=\"none\"/>\n",
              "    <path d=\"M18.56 5.44l.94 2.06.94-2.06 2.06-.94-2.06-.94-.94-2.06-.94 2.06-2.06.94zm-11 1L8.5 8.5l.94-2.06 2.06-.94-2.06-.94L8.5 2.5l-.94 2.06-2.06.94zm10 10l.94 2.06.94-2.06 2.06-.94-2.06-.94-.94-2.06-.94 2.06-2.06.94z\"/><path d=\"M17.41 7.96l-1.37-1.37c-.4-.4-.92-.59-1.43-.59-.52 0-1.04.2-1.43.59L10.3 9.45l-7.72 7.72c-.78.78-.78 2.05 0 2.83L4 21.41c.39.39.9.59 1.41.59.51 0 1.02-.2 1.41-.59l7.78-7.78 2.81-2.81c.8-.78.8-2.07 0-2.86zM5.41 20L4 18.59l7.72-7.72 1.47 1.35L5.41 20z\"/>\n",
              "  </svg>\n",
              "      </button>\n",
              "      \n",
              "  <style>\n",
              "    .colab-df-container {\n",
              "      display:flex;\n",
              "      flex-wrap:wrap;\n",
              "      gap: 12px;\n",
              "    }\n",
              "\n",
              "    .colab-df-convert {\n",
              "      background-color: #E8F0FE;\n",
              "      border: none;\n",
              "      border-radius: 50%;\n",
              "      cursor: pointer;\n",
              "      display: none;\n",
              "      fill: #1967D2;\n",
              "      height: 32px;\n",
              "      padding: 0 0 0 0;\n",
              "      width: 32px;\n",
              "    }\n",
              "\n",
              "    .colab-df-convert:hover {\n",
              "      background-color: #E2EBFA;\n",
              "      box-shadow: 0px 1px 2px rgba(60, 64, 67, 0.3), 0px 1px 3px 1px rgba(60, 64, 67, 0.15);\n",
              "      fill: #174EA6;\n",
              "    }\n",
              "\n",
              "    [theme=dark] .colab-df-convert {\n",
              "      background-color: #3B4455;\n",
              "      fill: #D2E3FC;\n",
              "    }\n",
              "\n",
              "    [theme=dark] .colab-df-convert:hover {\n",
              "      background-color: #434B5C;\n",
              "      box-shadow: 0px 1px 3px 1px rgba(0, 0, 0, 0.15);\n",
              "      filter: drop-shadow(0px 1px 2px rgba(0, 0, 0, 0.3));\n",
              "      fill: #FFFFFF;\n",
              "    }\n",
              "  </style>\n",
              "\n",
              "      <script>\n",
              "        const buttonEl =\n",
              "          document.querySelector('#df-335f99ef-ae40-40e0-910e-c3eb56db4a7e button.colab-df-convert');\n",
              "        buttonEl.style.display =\n",
              "          google.colab.kernel.accessAllowed ? 'block' : 'none';\n",
              "\n",
              "        async function convertToInteractive(key) {\n",
              "          const element = document.querySelector('#df-335f99ef-ae40-40e0-910e-c3eb56db4a7e');\n",
              "          const dataTable =\n",
              "            await google.colab.kernel.invokeFunction('convertToInteractive',\n",
              "                                                     [key], {});\n",
              "          if (!dataTable) return;\n",
              "\n",
              "          const docLinkHtml = 'Like what you see? Visit the ' +\n",
              "            '<a target=\"_blank\" href=https://colab.research.google.com/notebooks/data_table.ipynb>data table notebook</a>'\n",
              "            + ' to learn more about interactive tables.';\n",
              "          element.innerHTML = '';\n",
              "          dataTable['output_type'] = 'display_data';\n",
              "          await google.colab.output.renderOutput(dataTable, element);\n",
              "          const docLink = document.createElement('div');\n",
              "          docLink.innerHTML = docLinkHtml;\n",
              "          element.appendChild(docLink);\n",
              "        }\n",
              "      </script>\n",
              "    </div>\n",
              "  </div>\n",
              "  "
            ]
          },
          "metadata": {},
          "execution_count": 59
        }
      ]
    },
    {
      "cell_type": "markdown",
      "source": [
        "Видим, что здесь, как и в предыдущих данных большая часть средних значений фичей склоняется к medium, что говорит о похожей ситуации с предыдущим случаем. "
      ],
      "metadata": {
        "id": "-814qII8H0fN"
      }
    },
    {
      "cell_type": "markdown",
      "source": [
        "Из общего вывода по ошибкам можно сказать, что можно добавить больше случаев, где классы medim или high, а также запросить дополнительную информацию для новых фич, чтобы повысить качество."
      ],
      "metadata": {
        "id": "yQpaImIbIFmz"
      }
    }
  ],
  "metadata": {
    "colab": {
      "provenance": []
    },
    "kernelspec": {
      "display_name": "Python 3",
      "name": "python3"
    },
    "language_info": {
      "name": "python"
    }
  },
  "nbformat": 4,
  "nbformat_minor": 0
}